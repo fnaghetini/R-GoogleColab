{
  "nbformat": 4,
  "nbformat_minor": 0,
  "metadata": {
    "colab": {
      "name": "R-Distribuições de Probabilidade.ipynb",
      "provenance": [],
      "collapsed_sections": [],
      "toc_visible": true
    },
    "kernelspec": {
      "name": "ir",
      "display_name": "R"
    }
  },
  "cells": [
    {
      "cell_type": "markdown",
      "metadata": {
        "id": "XUna4mtmQlHb",
        "colab_type": "text"
      },
      "source": [
        "# Distribuições de Probabilidade"
      ]
    },
    {
      "cell_type": "markdown",
      "metadata": {
        "id": "rP7SCdseQp4p",
        "colab_type": "text"
      },
      "source": [
        "## O que são Distribuições de Probabilidade\n",
        "\n",
        "- Elas são utilizadas na teoria da probabilidade\n",
        "- Elas são utilizadas para descrever o comportamento de variáveis/dados aleatórios\n",
        "- É importante \"descrever\" a distribuição de probabilidade de um conjunto de dados/variável aleatória, pois:\n",
        "  - Imagine que, a partir da análise da distribuição de probabilidades de um conjunto de dados, concluimos que 68% dos dados encontram-se a + - 1DP da média e 30% dos dados encontram-se a + - 2DP da média\n",
        "  - Nesse sentido, desenvolvemos e aplicamos uma séries de técnicas estatísticas sobre esse conjunto de dados\n",
        "  - Portanto, se tivermos outro conjunto de dados que apresenta uma distribuição de probabilidades semelhante a essa apresentada, podemos aplicar as mesmas técnicas estatísticas sobre esse conjunto de dados\n",
        "- Na abordagem da ESTATÍSTICA FREQUENTISTA, a probabilidade dos valores de uma variável aleatória é dada pela frequência desses valores"
      ]
    },
    {
      "cell_type": "markdown",
      "metadata": {
        "id": "ue0N2yjkUkxJ",
        "colab_type": "text"
      },
      "source": [
        "## Distribuição Binomial"
      ]
    },
    {
      "cell_type": "markdown",
      "metadata": {
        "id": "Yz3B4UAqUsMS",
        "colab_type": "text"
      },
      "source": [
        "### Características e Requisitos de uma Distribuição Binomial\n",
        "\n",
        "- Distribuição de Probabilidade DISCRETA\n",
        "- Permite avaliar a probabilidade de eventos/variáveis DISCRETOS, desde que determinados pré-requisitos sejam atendidos:\n",
        "    - Devemos ter um NÚMERO FIXO DE EXPERIMENTOS. Portanto, precisamos conhecer a quantidade total de experimentos\n",
        "    - Cada experimento pode ter APENAS DOIS RESULTADOS: SUCESSO E FRACASSO\n",
        "    - A PROBABILIDADE DE SUCESSO deve ser a MESMA em cada experimento (e.g. se o experimento é jogar uma moeda, a chance de dar cara deve ser sempre a mesma a cada vez que jogamos a moeda)\n",
        "    - Os EVENTOS devem ser INDEPENDENTES (i.e. um evento não pode influenciar outro evento)\n",
        "        - e.g. se considerarmos cada vez que jogamos uma moeda como um experimento, podemos dizer que são eventos independentes, pois uma jogada não influencia a probabilidade da jogada seguinte/anterior\n",
        "        - e.g. se considerarmos o ato de pegar uma bola em uma urna um experimento (essa bola não retorna à urna), temos que esse experimento é dependente. Quando pegamos pela primera vez uma bola, diminuimos o espaço amostral para repetirmos esse mesmo procedimento em seguida. Portanto, um experimento influencia na probabilidade dos demais experimentos"
      ]
    },
    {
      "cell_type": "markdown",
      "metadata": {
        "id": "KW02oCPeYtfe",
        "colab_type": "text"
      },
      "source": [
        "### Parâmetros da Distribuição Binomial\n",
        "\n",
        "<p align=\"center\">\n",
        "    <img src=\"https://wikimedia.org/api/rest_v1/media/math/render/svg/b872c2c7bfaa26b16e8a82beaf72061b48daaf8e\"/>\n",
        "</p>\n",
        "\n",
        "<p align=\"center\">\n",
        "    <img src=\"https://wikimedia.org/api/rest_v1/media/math/render/svg/d33401621fb832dd2f9783e80a906d562f669008\"/>\n",
        "</p>\n",
        "\n",
        "- X --> variável aleatória\n",
        "- k --> total de sucessos esperado para o experimento\n",
        "- p --> probabilidade de sucesso\n",
        "- (1 - p) --> probabilidade de fracasso\n",
        "- n --> número de experimentos/ensaios de Bernoulli\n",
        "<p></p>\n",
        "- Podemos calcular distribuições binomiais:\n",
        "  - R ou Python\n",
        "  - Tabela de Distribuição Binomial\n",
        "  - Na unha"
      ]
    },
    {
      "cell_type": "markdown",
      "metadata": {
        "id": "uMUfpCqxeAWZ",
        "colab_type": "text"
      },
      "source": [
        "### Distribuição Binomial no R\n",
        "\n",
        "- dbinom ( ) --> encontram determinada probabilidade\n",
        "- pbinom ( ) --> probabilidade cumulativa"
      ]
    },
    {
      "cell_type": "markdown",
      "metadata": {
        "id": "3bdmdjLhesbv",
        "colab_type": "text"
      },
      "source": [
        "#### dbinom ( k , n , p )\n",
        "\n",
        "- k --> total de sucessos esperado\n",
        "- n --> número total de ensaios de Bernoulli\n",
        "- p --> probabilidade de sucesso"
      ]
    },
    {
      "cell_type": "code",
      "metadata": {
        "id": "E9RCUSoZQTEy",
        "colab_type": "code",
        "colab": {
          "base_uri": "https://localhost:8080/",
          "height": 34
        },
        "outputId": "b37c5c24-b451-444a-9cac-3ca121d05b4b"
      },
      "source": [
        "# Se eu jogar uma moeda 5 vezes, qual é a probabilidade de dar cara 3 vezes?\n",
        "dbinom(3,5,0.5)\n",
        "\n",
        "# 31.25% de chance de dar cara 3 vezes, ao lançarmos uma moeda 5 vezes"
      ],
      "execution_count": null,
      "outputs": [
        {
          "output_type": "display_data",
          "data": {
            "text/plain": [
              "[1] 0.3125"
            ],
            "text/latex": "0.3125",
            "text/markdown": "0.3125",
            "text/html": [
              "0.3125"
            ]
          },
          "metadata": {
            "tags": []
          }
        }
      ]
    },
    {
      "cell_type": "code",
      "metadata": {
        "id": "-ODFufuofTrI",
        "colab_type": "code",
        "colab": {
          "base_uri": "https://localhost:8080/",
          "height": 34
        },
        "outputId": "b80dc45a-8f0c-42f0-ebb5-b5428c6c7b22"
      },
      "source": [
        "# Se passarmos em 4 sinais de 4 tempos, qual é a probabilidade de eu pegar\n",
        "# nenhum sinal verde?\n",
        "dbinom(0,4,0.25) "
      ],
      "execution_count": null,
      "outputs": [
        {
          "output_type": "display_data",
          "data": {
            "text/plain": [
              "[1] 0.3164063"
            ],
            "text/latex": "0.31640625",
            "text/markdown": "0.31640625",
            "text/html": [
              "0.31640625"
            ]
          },
          "metadata": {
            "tags": []
          }
        }
      ]
    },
    {
      "cell_type": "code",
      "metadata": {
        "id": "9H3UaoxHf8mI",
        "colab_type": "code",
        "colab": {
          "base_uri": "https://localhost:8080/",
          "height": 34
        },
        "outputId": "1583b45e-4ace-494c-dc4f-edd1ed946fbb"
      },
      "source": [
        "# Se passarmos em 4 sinais de 4 tempos, qual é a probabilidade de eu pegar\n",
        "# 1 sinal verde?\n",
        "dbinom(1,4,0.25)"
      ],
      "execution_count": null,
      "outputs": [
        {
          "output_type": "display_data",
          "data": {
            "text/plain": [
              "[1] 0.421875"
            ],
            "text/latex": "0.421875",
            "text/markdown": "0.421875",
            "text/html": [
              "0.421875"
            ]
          },
          "metadata": {
            "tags": []
          }
        }
      ]
    },
    {
      "cell_type": "code",
      "metadata": {
        "id": "7cXWuV7agJGh",
        "colab_type": "code",
        "colab": {
          "base_uri": "https://localhost:8080/",
          "height": 34
        },
        "outputId": "91dc42fd-ca25-405f-f7a7-da956e9c3292"
      },
      "source": [
        "# Se passarmos em 4 sinais de 4 tempos, qual é a probabilidade de eu pegar\n",
        "# 2 sinais verdes?\n",
        "dbinom(2,4,0.25)"
      ],
      "execution_count": null,
      "outputs": [
        {
          "output_type": "display_data",
          "data": {
            "text/plain": [
              "[1] 0.2109375"
            ],
            "text/latex": "0.2109375",
            "text/markdown": "0.2109375",
            "text/html": [
              "0.2109375"
            ]
          },
          "metadata": {
            "tags": []
          }
        }
      ]
    },
    {
      "cell_type": "code",
      "metadata": {
        "id": "daj6eLpXgNfY",
        "colab_type": "code",
        "colab": {
          "base_uri": "https://localhost:8080/",
          "height": 34
        },
        "outputId": "612ff0a4-a0c9-42b6-e270-cf0eef321c7a"
      },
      "source": [
        "# Se passarmos em 4 sinais de 4 tempos, qual é a probabilidade de eu pegar\n",
        "# 3 sinais verdes?\n",
        "dbinom(3,4,0.25)"
      ],
      "execution_count": null,
      "outputs": [
        {
          "output_type": "display_data",
          "data": {
            "text/plain": [
              "[1] 0.046875"
            ],
            "text/latex": "0.046875",
            "text/markdown": "0.046875",
            "text/html": [
              "0.046875"
            ]
          },
          "metadata": {
            "tags": []
          }
        }
      ]
    },
    {
      "cell_type": "code",
      "metadata": {
        "id": "7p-GhpjTgUgv",
        "colab_type": "code",
        "colab": {
          "base_uri": "https://localhost:8080/",
          "height": 34
        },
        "outputId": "faa5ac59-d15b-457f-c4d7-0902dd39578b"
      },
      "source": [
        "# Se passarmos em 4 sinais de 4 tempos, qual é a probabilidade de eu pegar\n",
        "# 4 sinais verdes?\n",
        "dbinom(4,4,0.25)"
      ],
      "execution_count": null,
      "outputs": [
        {
          "output_type": "display_data",
          "data": {
            "text/plain": [
              "[1] 0.00390625"
            ],
            "text/latex": "0.00390625",
            "text/markdown": "0.00390625",
            "text/html": [
              "0.00390625"
            ]
          },
          "metadata": {
            "tags": []
          }
        }
      ]
    },
    {
      "cell_type": "code",
      "metadata": {
        "id": "SFyWw40VgXfR",
        "colab_type": "code",
        "colab": {
          "base_uri": "https://localhost:8080/",
          "height": 34
        },
        "outputId": "b66eea86-2d68-4b52-9cc4-aff5269e791a"
      },
      "source": [
        "# Fizemos uma prova de 12 questões com 5 alternativas para cada questão. Qual é\n",
        "# a probabilidade de se acertar 7 questões?\n",
        "dbinom(7,12,0.2)"
      ],
      "execution_count": null,
      "outputs": [
        {
          "output_type": "display_data",
          "data": {
            "text/plain": [
              "[1] 0.003321889"
            ],
            "text/latex": "0.00332188876800001",
            "text/markdown": "0.00332188876800001",
            "text/html": [
              "0.00332188876800001"
            ]
          },
          "metadata": {
            "tags": []
          }
        }
      ]
    },
    {
      "cell_type": "code",
      "metadata": {
        "id": "8pj8InjIhTEp",
        "colab_type": "code",
        "colab": {
          "base_uri": "https://localhost:8080/",
          "height": 34
        },
        "outputId": "9446ba86-cc6a-44f2-97d8-8a0c786ddd73"
      },
      "source": [
        "# Fizemos uma prova de 12 questões com 5 alternativas para cada questão. Qual é\n",
        "# a probabilidade de se acertar 12 questões?\n",
        "dbinom(12,12,0.2)"
      ],
      "execution_count": null,
      "outputs": [
        {
          "output_type": "display_data",
          "data": {
            "text/plain": [
              "[1] 4.096e-09"
            ],
            "text/latex": "4.09600000000001e-09",
            "text/markdown": "4.09600000000001e-09",
            "text/html": [
              "4.09600000000001e-09"
            ]
          },
          "metadata": {
            "tags": []
          }
        }
      ]
    },
    {
      "cell_type": "markdown",
      "metadata": {
        "colab_type": "text",
        "id": "YRMkR6CKhqLy"
      },
      "source": [
        "#### pbinom ( k , n , p )\n",
        "\n",
        "Calcula a probabilidade CUMULATIVA dada em função do número de sucessos\n",
        "- k --> total de sucessos esperado\n",
        "- n --> número total de ensaios de Bernoulli\n",
        "- p --> probabilidade de sucesso\n",
        "<p></p>\n",
        "A probabilidade acumulada quando o número de sucessos esperado é igual ao número de eventos é igual 1.0 (100%)"
      ]
    },
    {
      "cell_type": "code",
      "metadata": {
        "id": "l7fe7BvQhYgH",
        "colab_type": "code",
        "colab": {
          "base_uri": "https://localhost:8080/",
          "height": 34
        },
        "outputId": "956495ae-6d57-4ebf-8e61-ada5e83cc7ae"
      },
      "source": [
        "# Se passarmos em 4 sinais de 4 tempos, qual é a probabilidade acumulada de eu \n",
        "# pegar nenhum sinal verde?\n",
        "pbinom(0,4,0.25)\n",
        "\n",
        "# Essa probabilidade acumulada é igual à probabilidade absoluta, pois é o\n",
        "# primeiro valor de número de sucessos do eixo x "
      ],
      "execution_count": null,
      "outputs": [
        {
          "output_type": "display_data",
          "data": {
            "text/plain": [
              "[1] 0.3164063"
            ],
            "text/latex": "0.31640625",
            "text/markdown": "0.31640625",
            "text/html": [
              "0.31640625"
            ]
          },
          "metadata": {
            "tags": []
          }
        }
      ]
    },
    {
      "cell_type": "code",
      "metadata": {
        "id": "vMNyXjwliKK1",
        "colab_type": "code",
        "colab": {
          "base_uri": "https://localhost:8080/",
          "height": 34
        },
        "outputId": "aba91b90-7f88-4c8f-85d4-eccbd64d0a47"
      },
      "source": [
        "# Se passarmos em 4 sinais de 4 tempos, qual é a probabilidade acumulada de eu \n",
        "# pegar 1 sinal verde?\n",
        "pbinom(1,4,0.25)\n",
        "\n",
        "# Essa probabilidade acumulada é igual à soma das probabilidades absolutas de \n",
        "# número de sucessos igual a 0 e 1"
      ],
      "execution_count": null,
      "outputs": [
        {
          "output_type": "display_data",
          "data": {
            "text/plain": [
              "[1] 0.7382812"
            ],
            "text/latex": "0.73828125",
            "text/markdown": "0.73828125",
            "text/html": [
              "0.73828125"
            ]
          },
          "metadata": {
            "tags": []
          }
        }
      ]
    },
    {
      "cell_type": "code",
      "metadata": {
        "id": "Aqz01_xBi4Ev",
        "colab_type": "code",
        "colab": {
          "base_uri": "https://localhost:8080/",
          "height": 34
        },
        "outputId": "c7ce2630-3d91-4d61-d3dd-bb284b00a397"
      },
      "source": [
        "# Vamos checar se a probabilidade acumulada de 1 sucesso é igual à soma das\n",
        "# probabilidades absolutas de 0 sucesso e 1 sucesso\n",
        "pbinom(1,4,0.25) == dbinom (0,4,0.25) + dbinom(1,4,0.25)"
      ],
      "execution_count": null,
      "outputs": [
        {
          "output_type": "display_data",
          "data": {
            "text/plain": [
              "[1] TRUE"
            ],
            "text/latex": "TRUE",
            "text/markdown": "TRUE",
            "text/html": [
              "TRUE"
            ]
          },
          "metadata": {
            "tags": []
          }
        }
      ]
    },
    {
      "cell_type": "code",
      "metadata": {
        "id": "U-4vK6YUjjct",
        "colab_type": "code",
        "colab": {
          "base_uri": "https://localhost:8080/",
          "height": 34
        },
        "outputId": "e6d6b691-7050-4a07-b079-d7d150e156b7"
      },
      "source": [
        "# Se passarmos em 4 sinais de 4 tempos, qual é a probabilidade acumulada de eu \n",
        "# pegar 2 sinais verdes?\n",
        "pbinom(2,4,0.25)\n",
        "\n",
        "# Essa probabilidade acumulada é igual à soma das probabilidades absolutas de \n",
        "# número de sucessos igual a 0, 1 e 2"
      ],
      "execution_count": null,
      "outputs": [
        {
          "output_type": "display_data",
          "data": {
            "text/plain": [
              "[1] 0.9492188"
            ],
            "text/latex": "0.94921875",
            "text/markdown": "0.94921875",
            "text/html": [
              "0.94921875"
            ]
          },
          "metadata": {
            "tags": []
          }
        }
      ]
    },
    {
      "cell_type": "code",
      "metadata": {
        "id": "9LdGeNQkjuT6",
        "colab_type": "code",
        "colab": {
          "base_uri": "https://localhost:8080/",
          "height": 34
        },
        "outputId": "c1d43ad1-fef9-462c-84bb-ec93c977c2ee"
      },
      "source": [
        "# Vamos checar se a probabilidade acumulada de 2 sucessos é igual à soma das\n",
        "# probabilidades absolutas de 0 sucesso, 1 sucesso e 2 sucessos\n",
        "pbinom(2,4,0.25) == dbinom (0,4,0.25) + dbinom(1,4,0.25) + dbinom(2,4,0.25)"
      ],
      "execution_count": null,
      "outputs": [
        {
          "output_type": "display_data",
          "data": {
            "text/plain": [
              "[1] TRUE"
            ],
            "text/latex": "TRUE",
            "text/markdown": "TRUE",
            "text/html": [
              "TRUE"
            ]
          },
          "metadata": {
            "tags": []
          }
        }
      ]
    },
    {
      "cell_type": "code",
      "metadata": {
        "id": "ktcveg3yj3Y8",
        "colab_type": "code",
        "colab": {
          "base_uri": "https://localhost:8080/",
          "height": 34
        },
        "outputId": "0609cd62-42ba-43ec-a288-f7995124efb7"
      },
      "source": [
        "# Se passarmos em 4 sinais de 4 tempos, qual é a probabilidade acumulada de eu \n",
        "# pegar 4 sinais verdes?\n",
        "pbinom(4,4,0.25)"
      ],
      "execution_count": null,
      "outputs": [
        {
          "output_type": "display_data",
          "data": {
            "text/plain": [
              "[1] 1"
            ],
            "text/latex": "1",
            "text/markdown": "1",
            "text/html": [
              "1"
            ]
          },
          "metadata": {
            "tags": []
          }
        }
      ]
    },
    {
      "cell_type": "markdown",
      "metadata": {
        "id": "osF5eGODkjwg",
        "colab_type": "text"
      },
      "source": [
        "## Distribuição Normal"
      ]
    },
    {
      "cell_type": "markdown",
      "metadata": {
        "id": "MflPEgbPvrX_",
        "colab_type": "text"
      },
      "source": [
        "### Características da Distribuição Normal\n",
        "\n",
        "- Distribuição estatística mais importante\n",
        "- É uma Distribuição de Probabilidade CONTÍNUA\n",
        "- É uma distribuição SIMÉTRICA, ou seja, a média dos dados se encontra no centro da distribuição e encontram-se a mesma quantidade de dados acima e abaixo da média\n",
        "- Medidas de Tendência Central:\n",
        "    - media = mediana = moda\n",
        "\n",
        "<p align=\"center\">\n",
        "    <img src=\"https://upload.wikimedia.org/wikipedia/commons/thumb/8/8c/Standard_deviation_diagram.svg/350px-Standard_deviation_diagram.svg.png\"/>\n",
        "</p>\n",
        "\n",
        ">- Distribuição dos dados:\n",
        "    - **68.2%** dos dados encontram-se a **1DP** da média\n",
        "    - **27.2%** dos dados encontram-se a **2DP** da média\n",
        "    - **4.2%** dos dados encontram-se a **3DP** da média\n",
        "    - **0.2%** dos dados encontram-se a mais de 3DP da média"
      ]
    },
    {
      "cell_type": "markdown",
      "metadata": {
        "id": "3DemX2DiyWSj",
        "colab_type": "text"
      },
      "source": [
        "### Teorema do Limite Central (TLC)\n",
        "\n",
        "- Suponha que um experimento é descrito é definido como jogar um dado 100 vezes e tirar a média dos resultados. Suponha que repetimos esse experimento 100 vezes. Independente de como os dados estão distribuídos em cada experimento, as médias de todos os experimentos tendem a se distribuir conforme uma distribuição normal, se o número de experimentos for suficientemente grande. Consequentemente, a média de todas as médias obtidas ao final de cada experimento tenderá a ser igual à média da população\n",
        "\n",
        "- Nesse sentido, conforme o tamanho da amostra aumenta (número de unidades amostrais), a distribuição das médias amostrais se aproxima cada vez mais da distribuição NORMAL, mesmo que os dados não se apresentem NORMALMENTE distribuídos (distribuição Normal)\n",
        "\n",
        "- Graças ao TLC, podemos utilizar a distribuição Normal para resolver diversos problemas, quando:\n",
        "  - A distribuição dos dados é **CONTÍNUA**\n",
        "  - Temos **> 30 unidades amostrais**\n",
        "  - O valor do **DP** é **conhecido**\n",
        "  - Independe da forma como os dados estão distribuidos (os dados não precisam apresentar distribuição Normal, por exemplo)\n",
        "\n",
        "- Em situações em que o número de unidades amostrais (tamanho da amostra) é MENOR QUE 30, ou ainda, que o DP NÃO É CONHECIDO, pode-se utilizar a distribuição T-STUDENT"
      ]
    },
    {
      "cell_type": "markdown",
      "metadata": {
        "id": "oY6EUU7yAIpK",
        "colab_type": "text"
      },
      "source": [
        "### Cálculo de Probabilidades com Distribuição Normal\n",
        "\n",
        "<p align=\"center\">\n",
        "    <img src=\"https://wikimedia.org/api/rest_v1/media/math/render/svg/00cb9b2c9b866378626bcfa45c86a6de2f2b2e40\"/>\n",
        "</p>\n",
        "\n",
        "- Parâmetros:\n",
        "  - sigma = DP da população\n",
        "  - x = valor bruto (valor de uma unidade amostral)\n",
        "  - u = média da população\n",
        "\n",
        "- Essa fórmula é muito grande e pouco prática"
      ]
    },
    {
      "cell_type": "markdown",
      "metadata": {
        "id": "RnDEooyD2wtP",
        "colab_type": "text"
      },
      "source": [
        "### Distribuição Normal Padrão\n",
        "\n",
        "- A Distribuição Normal Padrão é um tipo especial de Distribuição Normal, pois apresenta características específicas\n",
        "- Características da Distribuição Normal Padrão:\n",
        "    - Média = 0 (distribuição simétrica em torno de 0)\n",
        "    - DP = 1\n",
        "- SCORE Z/STANDARD SCORE (População) --> é o número de DPs que um valor bruto (unidade amostral) se distancia em relação à média da população\n",
        "  - Z > 0 --> valores acima da média\n",
        "  - Z < 0 --> valores abaixo da média\n",
        "\n",
        "<p align=\"center\">\n",
        "    <img src=\"https://wikimedia.org/api/rest_v1/media/math/render/svg/5ceed701c4042bb34618535c9a902ca1a937a351\"/>\n",
        "</p>\n",
        "\n",
        "- Parâmetros:\n",
        "  - x = valor bruto (valor de uma unidade amostral)\n",
        "  - u = média da população\n",
        "  - sigma = DP da população\n",
        "\n",
        "- SCORE Z/STANDARD SCORE (Amostra) --> é o número de DPs que um valor bruto (unidade amostral) se distancia em relação à média da amostra\n",
        "  - Z > 0 --> valores acima da média\n",
        "  - Z < 0 --> valores abaixo da média\n",
        "\n",
        "<p align=\"center\">\n",
        "    <img src=\"https://wikimedia.org/api/rest_v1/media/math/render/svg/2a57dce06002417246b3193d6517f4072765b0c7\"/>\n",
        "</p>\n",
        "\n",
        "- Parâmetros:\n",
        "  - x = valor bruto (valor de uma unidade amostral)\n",
        "  - x-traço = média da amostra\n",
        "  - S = DP da amostra\n",
        "\n",
        "- STANDARDIZATION --> processo em que aplicamos essa fórmula (Z-SCORE) para cada valor bruto (unidade amostral) para transformar a distribuição amostral em uma Distribuição Normal Padrão\n",
        "\n",
        "- Como é difícil calcular probabilidades usando uma distribuição Normal (visto no tópico anterior), aplica-se uma standardization (transforma a distribuição para uma Distribuição Normal Padrão) para calcular probabilidades\n",
        "- Quando achamos o valor do Z-SCORE, existe um valor de probabilidade associado para cada valor de Z-SCORE. Devemos encontrar na tabela a linha relativa ao Z-SCORE encontrado e a coluna relativa ao segundo decimal apresentado pelo valor de Z-SCORE"
      ]
    },
    {
      "cell_type": "markdown",
      "metadata": {
        "id": "5oTG1Y9ZB8uW",
        "colab_type": "text"
      },
      "source": [
        "### Probabilidade Cumulativa\n",
        "\n",
        "<p align=\"center\">\n",
        "    <img src=\"https://work.thaslwanter.at/Stats/html/_images/PDF_CDF.png\"/>\n",
        "</p>\n",
        "\n",
        "- O gráfico à esquerda representa uma Função de Distribuição de Probabilidade (PDF) de uma Distribuição Normal Padrão\n",
        "- Para calcularmos a probabilidade acumulada P(X <= x), precisamos integrar a área abaixo da curva destacada em cinza\n",
        "- Alternativamente, poderíamos obter a probabilidade cumulativa P(X <= x) diretamente de uma Função de Distribuição Cumulativa (CDF). Essa é observada no gráfico à direita. Nesse caso, bastaria olharmos o valor de Y associado ao valor bruto que se deseja calcular a probabilidade acumulada\n",
        "- Observação:\n",
        "  - P(X > x) = 1 - P(X <= x)\n",
        "\n"
      ]
    },
    {
      "cell_type": "markdown",
      "metadata": {
        "id": "ctLBW3LzKgre",
        "colab_type": "text"
      },
      "source": [
        "### Verificação se um Conjunto de Dados Apresenta Distribuição Normal\n",
        "\n",
        "- Existem 3 principais maneiras de se verificar se um determinado conjunto de dados apresenta uma Distribuição Normal:\n",
        "  - Histograma\n",
        "  - Q-Q Plot\n",
        "  - Teste de Shapiro-Wilk\n",
        "  \n",
        "- Na prática, esses 3 testes não precisam ser fielmente satisfeitos. Nesse sentido, dados aproximadamente normais são suficientes na maioria dos casos"
      ]
    },
    {
      "cell_type": "markdown",
      "metadata": {
        "id": "XDcF_z4-N6kR",
        "colab_type": "text"
      },
      "source": [
        "#### Histograma\n",
        "\n",
        "Plota-se um histograma e verifica-se se a distribuição é simétrica, em forma de sino. Essa opção é usada quando não se tem muito rigor em relação à verificação de normalidade"
      ]
    },
    {
      "cell_type": "markdown",
      "metadata": {
        "id": "67mvH35jOKyr",
        "colab_type": "text"
      },
      "source": [
        "#### Diagrama de Probabilidade Normal (Q-Q Plot)\n",
        "\n",
        "Plota-se um diagrama de probabilidade normal. Ou seja, plota-se um Q-Q Plot, em que o eixo X apresenta os quantis teóricos da Distribuição Normal e o eixo Y apresenta os quantis reais da amostra\n",
        "  - Caso o plot resulte em uma reta (com pequenas variações), temos uma Distribuição Normal\n",
        "  - Caso o plot não resulte em uma reta, a distribuição não é Normal"
      ]
    },
    {
      "cell_type": "markdown",
      "metadata": {
        "id": "5F1GT0mIOhXF",
        "colab_type": "text"
      },
      "source": [
        "#### Teste de Shapiro-Wilk\n",
        "\n",
        "É uma aplicação do Teste de Hipótese. Nesse caso, temos um Teste de Hipótese que compara a  distribuição amostral a uma Distribuição Normal teórica, em que:\n",
        "    - Hipótese Nula (H0) --> os dados estão normalmente distribuídos\n",
        "    - Hipótese Alternativa --> os dados não estão normalmente distribuídos\n",
        "    - Índice de Significância (Alfa) --> quando executa-se um Teste de Hipótese, deve-se escolher um Alfa. Normalmente, Alfa = 0.05\n",
        "\n",
        "- O Teste de Hipótese gerará um valor \"p\". Nesse sentido:\n",
        "    - Se p <= Alfa (0.05) --> Pode-se rejeitar a hipótese nula, ou seja, os dados NÃO estão normalmente distribuídos\n",
        "    - Se p > Alfa (0.05) --> NÃO se pode rejeitar a hipótese nula, ou seja, os dados estão normalmente distribuídos\n",
        "\n",
        "- Exemplo: Se Alfa = 0.5 \n",
        "    - p = 0.0017 (distribuição não normal dos dados)\n",
        "    - p = 0.054 (distribuição normal dos dados)"
      ]
    },
    {
      "cell_type": "markdown",
      "metadata": {
        "id": "oQk2JRKuSjyf",
        "colab_type": "text"
      },
      "source": [
        "### Distribuição Normal no R\n",
        "\n",
        "- Seis métodos serão abordados:\n",
        "  - pnorm (x , lower.tail = bool)\n",
        "    - Calcula a probabilidade acumulada de um valor bruto de uma distribuição normal\n",
        "    - lower.tail:\n",
        "      - = TRUE (default) --> calcula probabilidade do tipo P(X <= x)\n",
        "      - = FALSE --> calcula a probabilidade do tipo P(X > x)\n",
        "  - qnorm (x)\n",
        "    - Calcula o processo inverso de pnorm, ou seja, dada uma probabilidade acumulada, esse método retorna o valor bruto associado a ela\n",
        "  - x <- rnorm (n)\n",
        "    - Gera números aleatórios normalmente distribuídos\n",
        "  - qqnorm (x)\n",
        "    - Teste de normalidade dos dados (Q-Q Plot). Gera os pontos\n",
        "  - qqline (x)\n",
        "    - Gera a linha do teste de normalidade acima\n",
        "  - shapiro.test (x)\n",
        "    - Teste de normalidade de Shapiro-Wilk"
      ]
    },
    {
      "cell_type": "markdown",
      "metadata": {
        "id": "-gEFT09LfmxP",
        "colab_type": "text"
      },
      "source": [
        "#### pnorm (raw_value , mean , std , lower.tail = bool)\n",
        "\n",
        "- Utilizado para calcular a probabilidade de um valor bruto em uma Distribuição Normal\n",
        "- Parâmetros:\n",
        "  - raw_value --> valor bruto (um número contido numa Distribuição Normal)\n",
        "  - mean --> média de um conjunto de valores de Distribuição Normal\n",
        "  - std --> DP de um conjunto de valores de Distribuição Normal\n",
        "  - lower.tail = bool\n",
        "    - TRUE (default) --> calcula P (X <= x)\n",
        "    - FALSE --> calcula P (X > x)"
      ]
    },
    {
      "cell_type": "code",
      "metadata": {
        "id": "1NTzX0LjkCuT",
        "colab_type": "code",
        "colab": {
          "base_uri": "https://localhost:8080/",
          "height": 34
        },
        "outputId": "629aa182-5f61-4a76-d463-1b9bb99cc8ae"
      },
      "source": [
        "# Imagine que temos uma caixa com objetos de pesos normalmente distribuídos.\n",
        "# Sabe-se que a média é 8.0 e o DP é 2.0. Qual é a probabilidade de se tirar um\n",
        "# objeto de peso <= a 6, i.e. P(peso <= 6)?\n",
        "pnorm(6,8,2,lower.tail = TRUE)\n",
        "\n",
        "# P(peso <= 6) ~ 16 %"
      ],
      "execution_count": 2,
      "outputs": [
        {
          "output_type": "display_data",
          "data": {
            "text/plain": [
              "[1] 0.1586553"
            ],
            "text/latex": "0.158655253931457",
            "text/markdown": "0.158655253931457",
            "text/html": [
              "0.158655253931457"
            ]
          },
          "metadata": {
            "tags": []
          }
        }
      ]
    },
    {
      "cell_type": "code",
      "metadata": {
        "id": "hlQyPfsKh_UA",
        "colab_type": "code",
        "colab": {
          "base_uri": "https://localhost:8080/",
          "height": 34
        },
        "outputId": "dde86470-ee17-4f6c-db39-e811e25c9521"
      },
      "source": [
        "# Imagine que temos uma caixa com objetos de pesos normalmente distribuídos.\n",
        "# Sabe-se que a média é 8.0 e o DP é 2.0. Qual é a probabilidade de se tirar um\n",
        "# objeto de peso > a 6, i.e. P(peso > 6)?\n",
        "pnorm(6,8,2,lower.tail = FALSE)\n",
        "\n",
        "# P(peso > 6) ~ 84 %"
      ],
      "execution_count": 4,
      "outputs": [
        {
          "output_type": "display_data",
          "data": {
            "text/plain": [
              "[1] 0.8413447"
            ],
            "text/latex": "0.841344746068543",
            "text/markdown": "0.841344746068543",
            "text/html": [
              "0.841344746068543"
            ]
          },
          "metadata": {
            "tags": []
          }
        }
      ]
    },
    {
      "cell_type": "code",
      "metadata": {
        "id": "lk_ey9ZejCNG",
        "colab_type": "code",
        "colab": {
          "base_uri": "https://localhost:8080/",
          "height": 34
        },
        "outputId": "4ec9cb29-5967-4aa7-ac59-47632ad4b38d"
      },
      "source": [
        "# O problema acima também poderia ser resolvido da seguinte forma:\n",
        "1 - pnorm(6,8,2,lower.tail = TRUE)"
      ],
      "execution_count": 5,
      "outputs": [
        {
          "output_type": "display_data",
          "data": {
            "text/plain": [
              "[1] 0.8413447"
            ],
            "text/latex": "0.841344746068543",
            "text/markdown": "0.841344746068543",
            "text/html": [
              "0.841344746068543"
            ]
          },
          "metadata": {
            "tags": []
          }
        }
      ]
    },
    {
      "cell_type": "code",
      "metadata": {
        "id": "UUaep8aSjZGz",
        "colab_type": "code",
        "colab": {
          "base_uri": "https://localhost:8080/",
          "height": 67
        },
        "outputId": "7d8d446a-a455-4dbd-9e87-7c598c4bd346"
      },
      "source": [
        "# Imagine que temos uma caixa com objetos de pesos normalmente distribuídos.\n",
        "# Sabe-se que a média é 8.0 e o DP é 2.0. Qual é a probabilidade de se tirar um\n",
        "# objeto de peso <= 6 ou > 10, i.e. P(peso <= 6 U peso > 10)?\n",
        "\n",
        "# Sabe-se que P(peso <= 6 U peso > 10) = P(peso <= 6) + P(peso <= 10). Isso pode\n",
        "# ser feito, pois os dois eventos são mutuamente exclusivos\n",
        "\n",
        "# Inicialmente, calcula-se P(peso > 10):\n",
        "print(pnorm(10,8,2,lower.tail=FALSE))\n",
        "\n",
        "# Depois, calcula-se P(peso <= 6):\n",
        "print(pnorm(6,8,2,lower.tail=TRUE))\n",
        "\n",
        "# Calculando P(peso <= 6 U peso > 10) = P(peso <= 6) + P(peso <= 10):\n",
        "print (pnorm(10,8,2,lower.tail=FALSE) + pnorm(6,8,2,lower.tail=TRUE))\n",
        "\n",
        "# P(peso <= 6 U peso > 10) ~ 32 %"
      ],
      "execution_count": 8,
      "outputs": [
        {
          "output_type": "stream",
          "text": [
            "[1] 0.1586553\n",
            "[1] 0.1586553\n",
            "[1] 0.3173105\n"
          ],
          "name": "stdout"
        }
      ]
    },
    {
      "cell_type": "code",
      "metadata": {
        "id": "EpE0RElfkpgo",
        "colab_type": "code",
        "colab": {
          "base_uri": "https://localhost:8080/",
          "height": 67
        },
        "outputId": "39e097b0-808a-480f-df0c-5f962464a16d"
      },
      "source": [
        "# Imagine que temos uma caixa com objetos de pesos normalmente distribuídos.\n",
        "# Sabe-se que a média é 8.0 e o DP é 2.0. Qual é a probabilidade de se tirar um\n",
        "# objeto de peso <= 10 e > 8, i.e. P(8 < peso <= 10)?\n",
        "\n",
        "# Sabe-se que P(8 < peso <= 10) = P(peso <= 10) - P(peso > 8)\n",
        "\n",
        "# Inicialmente, calcula-se P(peso <= 10):\n",
        "p1 <- pnorm(10,8,2,lower.tail=TRUE)\n",
        "print(p1)\n",
        "\n",
        "# Depois, calcula-se P(peso > 8):\n",
        "p2 <- pnorm(8,8,2,lower.tail=FALSE)\n",
        "print(p2)\n",
        "\n",
        "# Por fim, calcula-se P(8 < peso <= 10) = P(peso <= 10) - P(peso > 8):\n",
        "print(p1 - p2)\n",
        "\n",
        "# P(8 < peso <= 10) ~ 34 % "
      ],
      "execution_count": 10,
      "outputs": [
        {
          "output_type": "stream",
          "text": [
            "[1] 0.8413447\n",
            "[1] 0.5\n",
            "[1] 0.3413447\n"
          ],
          "name": "stdout"
        }
      ]
    },
    {
      "cell_type": "markdown",
      "metadata": {
        "id": "I_LuZmvsourF",
        "colab_type": "text"
      },
      "source": [
        "#### x <- rnorm (n)\n",
        "\n",
        "- Gera \"n\" números aleatórios normalmente distribuídos (Distribuição Normal Padrão)\n",
        "- Parâmetros:\n",
        "  - x --> variável que armazena os números criados\n",
        "  - n --> número de números aleatórios normalmente distribuídos que serão gerados"
      ]
    },
    {
      "cell_type": "code",
      "metadata": {
        "id": "rpZq4pXcoUPI",
        "colab_type": "code",
        "colab": {
          "base_uri": "https://localhost:8080/",
          "height": 437
        },
        "outputId": "d344f597-1869-431a-dde5-ceffc168af4f"
      },
      "source": [
        "x <- rnorm(100)\n",
        "x"
      ],
      "execution_count": 12,
      "outputs": [
        {
          "output_type": "display_data",
          "data": {
            "text/plain": [
              "  [1]  0.440707233  0.005287150  1.716183964 -0.420394597  0.198180929\n",
              "  [6]  0.153106241 -1.234865828  0.461417498 -1.130439580  1.247775675\n",
              " [11] -0.262814967 -1.160720505  0.511625191  0.619957771 -0.510559512\n",
              " [16] -0.254322914  0.901703990  0.707279279  0.930729548 -0.744105188\n",
              " [21]  0.815254388  0.451260032 -0.510787050 -2.554879728 -0.094997110\n",
              " [26] -0.435820039 -0.422730367 -0.241399506  0.989535538 -0.242730850\n",
              " [31]  0.757912842 -1.259761344 -0.108661365 -0.021159573 -0.543301516\n",
              " [36] -0.954351780 -0.642694965  0.721912161 -0.450788192  1.564461726\n",
              " [41]  1.201748078  0.941606931  0.077706964 -0.873891406 -1.406649544\n",
              " [46]  0.520153270 -0.660291086 -0.972043628 -0.392387359  1.333077447\n",
              " [51] -1.471327935  1.684093691 -0.966632623 -0.421390181 -0.977303935\n",
              " [56] -1.732201141 -0.077814303  0.510329078  0.050696215  0.951945095\n",
              " [61] -1.086339222  0.363832060 -1.815482265 -0.337009609 -1.508766691\n",
              " [66]  0.009505342  0.341941011 -0.735171812  1.115963173 -0.012371378\n",
              " [71] -0.306129418  0.153738631  0.415886535 -1.022015719  0.266210683\n",
              " [76]  0.999006448  0.389220580 -0.512934104 -1.440209885 -1.412304055\n",
              " [81]  0.181181254  1.028140111 -1.939074765  0.106798046 -1.110975820\n",
              " [86] -0.143680211 -1.701134561 -0.179144467 -1.342205551 -0.346708013\n",
              " [91] -1.004968734 -1.629969231  0.612893249 -1.006708166 -0.207635967\n",
              " [96] -0.813682798  0.231230991 -0.440264481  0.767420763  0.899251094"
            ],
            "text/latex": "\\begin{enumerate*}\n\\item 0.440707232556411\n\\item 0.005287149668319\n\\item 1.71618396394904\n\\item -0.420394596704888\n\\item 0.198180928774098\n\\item 0.153106241285618\n\\item -1.23486582834926\n\\item 0.46141749815219\n\\item -1.13043958024096\n\\item 1.24777567536622\n\\item -0.262814966770876\n\\item -1.16072050461761\n\\item 0.511625191019469\n\\item 0.619957771027763\n\\item -0.510559512220785\n\\item -0.254322913527464\n\\item 0.901703990354814\n\\item 0.707279279456159\n\\item 0.930729548446231\n\\item -0.74410518809358\n\\item 0.815254387612692\n\\item 0.451260032016784\n\\item -0.51078704984184\n\\item -2.55487972800461\n\\item -0.0949971098088515\n\\item -0.435820038674206\n\\item -0.422730367033402\n\\item -0.241399506104981\n\\item 0.989535537974877\n\\item -0.24273084955323\n\\item 0.757912841783183\n\\item -1.2597613439218\n\\item -0.108661364860854\n\\item -0.0211595725826686\n\\item -0.543301515738732\n\\item -0.954351780477251\n\\item -0.64269496453787\n\\item 0.721912160697399\n\\item -0.450788192075956\n\\item 1.56446172631927\n\\item 1.20174807766706\n\\item 0.941606931244615\n\\item 0.0777069641519595\n\\item -0.873891406197875\n\\item -1.40664954389975\n\\item 0.520153269840522\n\\item -0.660291086022385\n\\item -0.972043628472008\n\\item -0.392387358624835\n\\item 1.33307744669591\n\\item -1.47132793487191\n\\item 1.68409369137127\n\\item -0.966632622761328\n\\item -0.421390181055463\n\\item -0.977303934965389\n\\item -1.73220114095319\n\\item -0.0778143034875186\n\\item 0.510329078030648\n\\item 0.0506962154200487\n\\item 0.951945094907699\n\\item -1.08633922162716\n\\item 0.363832059799096\n\\item -1.81548226535212\n\\item -0.337009608578732\n\\item -1.50876669066598\n\\item 0.00950534218916699\n\\item 0.341941011000995\n\\item -0.735171811668583\n\\item 1.11596317306094\n\\item -0.0123713782813746\n\\item -0.306129418031126\n\\item 0.153738631212313\n\\item 0.415886535279795\n\\item -1.0220157188333\n\\item 0.266210683468734\n\\item 0.99900644757923\n\\item 0.389220579624321\n\\item -0.512934103522646\n\\item -1.44020988532924\n\\item -1.41230405539791\n\\item 0.181181254176766\n\\item 1.02814011146059\n\\item -1.93907476460851\n\\item 0.106798045779674\n\\item -1.11097582033422\n\\item -0.143680211071774\n\\item -1.70113456088279\n\\item -0.179144466544118\n\\item -1.34220555086433\n\\item -0.34670801302008\n\\item -1.00496873391887\n\\item -1.62996923126149\n\\item 0.612893248589049\n\\item -1.00670816643594\n\\item -0.207635966688921\n\\item -0.813682797821512\n\\item 0.231230991204671\n\\item -0.440264481486203\n\\item 0.767420762997392\n\\item 0.899251093950542\n\\end{enumerate*}\n",
            "text/markdown": "1. 0.440707232556411\n2. 0.005287149668319\n3. 1.71618396394904\n4. -0.420394596704888\n5. 0.198180928774098\n6. 0.153106241285618\n7. -1.23486582834926\n8. 0.46141749815219\n9. -1.13043958024096\n10. 1.24777567536622\n11. -0.262814966770876\n12. -1.16072050461761\n13. 0.511625191019469\n14. 0.619957771027763\n15. -0.510559512220785\n16. -0.254322913527464\n17. 0.901703990354814\n18. 0.707279279456159\n19. 0.930729548446231\n20. -0.74410518809358\n21. 0.815254387612692\n22. 0.451260032016784\n23. -0.51078704984184\n24. -2.55487972800461\n25. -0.0949971098088515\n26. -0.435820038674206\n27. -0.422730367033402\n28. -0.241399506104981\n29. 0.989535537974877\n30. -0.24273084955323\n31. 0.757912841783183\n32. -1.2597613439218\n33. -0.108661364860854\n34. -0.0211595725826686\n35. -0.543301515738732\n36. -0.954351780477251\n37. -0.64269496453787\n38. 0.721912160697399\n39. -0.450788192075956\n40. 1.56446172631927\n41. 1.20174807766706\n42. 0.941606931244615\n43. 0.0777069641519595\n44. -0.873891406197875\n45. -1.40664954389975\n46. 0.520153269840522\n47. -0.660291086022385\n48. -0.972043628472008\n49. -0.392387358624835\n50. 1.33307744669591\n51. -1.47132793487191\n52. 1.68409369137127\n53. -0.966632622761328\n54. -0.421390181055463\n55. -0.977303934965389\n56. -1.73220114095319\n57. -0.0778143034875186\n58. 0.510329078030648\n59. 0.0506962154200487\n60. 0.951945094907699\n61. -1.08633922162716\n62. 0.363832059799096\n63. -1.81548226535212\n64. -0.337009608578732\n65. -1.50876669066598\n66. 0.00950534218916699\n67. 0.341941011000995\n68. -0.735171811668583\n69. 1.11596317306094\n70. -0.0123713782813746\n71. -0.306129418031126\n72. 0.153738631212313\n73. 0.415886535279795\n74. -1.0220157188333\n75. 0.266210683468734\n76. 0.99900644757923\n77. 0.389220579624321\n78. -0.512934103522646\n79. -1.44020988532924\n80. -1.41230405539791\n81. 0.181181254176766\n82. 1.02814011146059\n83. -1.93907476460851\n84. 0.106798045779674\n85. -1.11097582033422\n86. -0.143680211071774\n87. -1.70113456088279\n88. -0.179144466544118\n89. -1.34220555086433\n90. -0.34670801302008\n91. -1.00496873391887\n92. -1.62996923126149\n93. 0.612893248589049\n94. -1.00670816643594\n95. -0.207635966688921\n96. -0.813682797821512\n97. 0.231230991204671\n98. -0.440264481486203\n99. 0.767420762997392\n100. 0.899251093950542\n\n\n",
            "text/html": [
              "<style>\n",
              ".list-inline {list-style: none; margin:0; padding: 0}\n",
              ".list-inline>li {display: inline-block}\n",
              ".list-inline>li:not(:last-child)::after {content: \"\\00b7\"; padding: 0 .5ex}\n",
              "</style>\n",
              "<ol class=list-inline><li>0.440707232556411</li><li>0.005287149668319</li><li>1.71618396394904</li><li>-0.420394596704888</li><li>0.198180928774098</li><li>0.153106241285618</li><li>-1.23486582834926</li><li>0.46141749815219</li><li>-1.13043958024096</li><li>1.24777567536622</li><li>-0.262814966770876</li><li>-1.16072050461761</li><li>0.511625191019469</li><li>0.619957771027763</li><li>-0.510559512220785</li><li>-0.254322913527464</li><li>0.901703990354814</li><li>0.707279279456159</li><li>0.930729548446231</li><li>-0.74410518809358</li><li>0.815254387612692</li><li>0.451260032016784</li><li>-0.51078704984184</li><li>-2.55487972800461</li><li>-0.0949971098088515</li><li>-0.435820038674206</li><li>-0.422730367033402</li><li>-0.241399506104981</li><li>0.989535537974877</li><li>-0.24273084955323</li><li>0.757912841783183</li><li>-1.2597613439218</li><li>-0.108661364860854</li><li>-0.0211595725826686</li><li>-0.543301515738732</li><li>-0.954351780477251</li><li>-0.64269496453787</li><li>0.721912160697399</li><li>-0.450788192075956</li><li>1.56446172631927</li><li>1.20174807766706</li><li>0.941606931244615</li><li>0.0777069641519595</li><li>-0.873891406197875</li><li>-1.40664954389975</li><li>0.520153269840522</li><li>-0.660291086022385</li><li>-0.972043628472008</li><li>-0.392387358624835</li><li>1.33307744669591</li><li>-1.47132793487191</li><li>1.68409369137127</li><li>-0.966632622761328</li><li>-0.421390181055463</li><li>-0.977303934965389</li><li>-1.73220114095319</li><li>-0.0778143034875186</li><li>0.510329078030648</li><li>0.0506962154200487</li><li>0.951945094907699</li><li>-1.08633922162716</li><li>0.363832059799096</li><li>-1.81548226535212</li><li>-0.337009608578732</li><li>-1.50876669066598</li><li>0.00950534218916699</li><li>0.341941011000995</li><li>-0.735171811668583</li><li>1.11596317306094</li><li>-0.0123713782813746</li><li>-0.306129418031126</li><li>0.153738631212313</li><li>0.415886535279795</li><li>-1.0220157188333</li><li>0.266210683468734</li><li>0.99900644757923</li><li>0.389220579624321</li><li>-0.512934103522646</li><li>-1.44020988532924</li><li>-1.41230405539791</li><li>0.181181254176766</li><li>1.02814011146059</li><li>-1.93907476460851</li><li>0.106798045779674</li><li>-1.11097582033422</li><li>-0.143680211071774</li><li>-1.70113456088279</li><li>-0.179144466544118</li><li>-1.34220555086433</li><li>-0.34670801302008</li><li>-1.00496873391887</li><li>-1.62996923126149</li><li>0.612893248589049</li><li>-1.00670816643594</li><li>-0.207635966688921</li><li>-0.813682797821512</li><li>0.231230991204671</li><li>-0.440264481486203</li><li>0.767420762997392</li><li>0.899251093950542</li></ol>\n"
            ]
          },
          "metadata": {
            "tags": []
          }
        }
      ]
    },
    {
      "cell_type": "markdown",
      "metadata": {
        "id": "hnHW0A8HpeOn",
        "colab_type": "text"
      },
      "source": [
        "#### qqnorm (object)\n",
        "\n",
        "- Gera o Q-Q Plot para verificar se a distribuição é Normal, cujos eixo x representa os quantis teóricos de uma Distribuição Normal e o eixo y representa os quantis reais do conjunto de dados\n",
        "\n",
        "- object --> conjunto de dados que se deseja verificar Distribuição Normal\n",
        "\n",
        "#### qqline (object)\n",
        "\n",
        "- Gera a linha X = Y do gráfico acima\n",
        "- object --> conjunto de dados que se deseja verificar Distribuição Normal"
      ]
    },
    {
      "cell_type": "code",
      "metadata": {
        "id": "ohTRpdqOpUMC",
        "colab_type": "code",
        "colab": {
          "base_uri": "https://localhost:8080/",
          "height": 437
        },
        "outputId": "7f9fd0d8-ca1e-4d40-a228-99af016a9d9c"
      },
      "source": [
        "qqnorm(x)\n",
        "qqline(x)"
      ],
      "execution_count": 14,
      "outputs": [
        {
          "output_type": "display_data",
          "data": {
            "image/png": "[encoded data removed]",
            "text/plain": [
              "Plot with title “Normal Q-Q Plot”"
            ]
          },
          "metadata": {
            "tags": [],
            "image/png": {
              "width": 420,
              "height": 420
            },
            "text/plain": {
              "width": 420,
              "height": 420
            }
          }
        }
      ]
    },
    {
      "cell_type": "markdown",
      "metadata": {
        "id": "ls1I-BUNq148",
        "colab_type": "text"
      },
      "source": [
        "#### shapiro.test (object)\n",
        "\n",
        "- Realiza o Teste de Hipótese para averiguar se um conjunto de dados apresenta-se normalmente distribuído\n",
        "\n",
        "- object --> conjunto de dados que se deseja verificar Distribuição Normal\n",
        "\n",
        "- Output:\n",
        "  - W --> Alfa\n",
        "  - p-value --> p\n",
        "\n",
        "- Revisão:\n",
        "  - p < W --> Normal\n",
        "  - p > W --> Não Normal"
      ]
    },
    {
      "cell_type": "code",
      "metadata": {
        "id": "fWw7-oklqE2V",
        "colab_type": "code",
        "colab": {
          "base_uri": "https://localhost:8080/",
          "height": 101
        },
        "outputId": "eccb864b-dfa3-465c-f23f-266cb2956fcb"
      },
      "source": [
        "shapiro.test(x)"
      ],
      "execution_count": 15,
      "outputs": [
        {
          "output_type": "display_data",
          "data": {
            "text/plain": [
              "\n",
              "\tShapiro-Wilk normality test\n",
              "\n",
              "data:  x\n",
              "W = 0.99111, p-value = 0.7533\n"
            ]
          },
          "metadata": {
            "tags": []
          }
        }
      ]
    },
    {
      "cell_type": "markdown",
      "metadata": {
        "id": "p8YgTMMasIrL",
        "colab_type": "text"
      },
      "source": [
        "## Estatística Paramétrica e Não-Paramétrica"
      ]
    },
    {
      "cell_type": "markdown",
      "metadata": {
        "id": "6hBbQ5Zgs6LN",
        "colab_type": "text"
      },
      "source": [
        "### Estatística Paramétrica\n",
        "\n",
        "- A Estatística Paramétrica requer que os dados estejam em conformidade com alguma distribuição estatística (e.g. Normal, Binomial)\n",
        "- Para aplicarmos técnicas de estatística paramétrica, os dados devem se adequar a um padrão (e.g. determinada distribuição estatística)"
      ]
    },
    {
      "cell_type": "markdown",
      "metadata": {
        "id": "3TpUPHbxtZxL",
        "colab_type": "text"
      },
      "source": [
        "### Estatística Não-Paramétrica\n",
        "\n",
        "- A Estatística Paramétrica é utilizada quando os dados não se encontram em conformidade com alguma distribuição estatística\n",
        "- Utiliza-se esse tipo de estatística quando não se conhece a distribuição do determinado conjunto de dados"
      ]
    },
    {
      "cell_type": "markdown",
      "metadata": {
        "id": "dmoRS1pquMyp",
        "colab_type": "text"
      },
      "source": [
        "### Algumas Considerações\n",
        "\n",
        "- A Estatística Paramétrica ofere MENOS riscos\n",
        "  - e.g. se os dados estão normalmente distribuídos, um teste de hipótese paramétrico tende a ser mais preciso do que um teste de hipótese não-paramétrico\n",
        "- Portanto, utiliza-se a Estatística Não-Paramétrica apenas quando não é possível utilizar a Estatística Paramétrica\n",
        "- No restante do curso, será estudado apenas técnicas de Estatística Paramétrica. Portanto, o estudo da Estatística Não-Paramétrica está além do escopo desse curso"
      ]
    }
  ]
}
