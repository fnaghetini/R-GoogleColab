{
  "nbformat": 4,
  "nbformat_minor": 0,
  "metadata": {
    "colab": {
      "name": "R-Correlação, Regressão Linear & Regressão Logística.ipynb",
      "provenance": [],
      "collapsed_sections": []
    },
    "kernelspec": {
      "name": "ir",
      "display_name": "R"
    }
  },
  "cells": [
    {
      "cell_type": "markdown",
      "metadata": {
        "id": "-uxk59ZukQ21",
        "colab_type": "text"
      },
      "source": [
        "# Correlação Linear"
      ]
    },
    {
      "cell_type": "markdown",
      "metadata": {
        "id": "mMhzQzvwk-5Q",
        "colab_type": "text"
      },
      "source": [
        "## Coeficiente de Determinação (R²)\n",
        "\n",
        "- É o Coeficiente de Correlação (R) ao quadrado\n",
        "- Mostra o quanto um modelo conseque explicar os valores\n",
        "- Quanto MAIOR é valor de R², MAIS o modelo associado ao R² explica uma variável\n",
        "- O restante da variabilidade (a porção dos dados que não é explicada pelo modelo) poderia ser explicada por outras variáveis que não estão presentes no modelo\n",
        "                                                            0 <= R² <= 1\n",
        "\n",
        "Exemplo:\n",
        "\n",
        "- Suponha que as variáveis \"Idade\" e \"Custo do Plano de Saúde\" apresentam um coeficiente de correlação (R) muito forte:\n",
        "  - R = 0.93\n",
        "\n",
        "- Nesse sentido, temos que o coeficiente de determinação (R²) é o quadrado de R:\n",
        "  - R² = 0.86\n",
        "\n",
        "- Portanto, 86% da variável DEPENDENTE (e.g. Custo) consegue ser explicada pela(s) variável(is) explanatória(s) presente(s) no modelo (e.g. Idade). Os 14% restantes da variável dependente são explicados por outra(s) variável(is) não presente(s) no modelo\n",
        "- Como temos apenas UMA variável explanatória, teríamos um problema de Regressão Linear Simples. Se tivéssemos mais de uma, seria um problema de Regressão Linear Múltipla"
      ]
    },
    {
      "cell_type": "markdown",
      "metadata": {
        "id": "OSe-MzDNoh8w",
        "colab_type": "text"
      },
      "source": [
        "# Regressão Linear Simples"
      ]
    },
    {
      "cell_type": "markdown",
      "metadata": {
        "id": "jHU6iKhzosY2",
        "colab_type": "text"
      },
      "source": [
        "## Regressão Linear Simples - Previsão\n",
        "\n",
        "- Após escolhermos a reta de ajuste ótima para determinado conjunto de dados (método dos mínimos quadrados), pode-se prever valores de Y não amostrados para determinados valores de X\n",
        "- Para tal, deve-se satisfazer diversos pré-requisitos para utilizar uma regressão linear simples para prever valores, tais como:\n",
        "  - Deve haver LINEARIDADE entre as variáveis dependente e independente\n",
        "  - Deve haver uma CORRELAÇÃO suficientemente forte entre as variáveis dependente e independente\n",
        "  - Os demais requisitos serão abordados à frente"
      ]
    },
    {
      "cell_type": "markdown",
      "metadata": {
        "id": "OZBVL7QZ0_nV",
        "colab_type": "text"
      },
      "source": [
        "### Intersecção e Inclinação\n",
        "\n",
        "- Intersecção/Coef. Linear (a) --> é o ponto de interseção da reta com o eixo Y. Ou seja, é o valor de Y para X = 0\n",
        "- Inclinação/Coef. Angular (b) --> a cada unidade que aumenta na variável independente X, a variável independente Y aumenta o valor da inclinação (obs.: no caso de uma correlação linear positiva entre as variáveis)\n",
        "  - e.g. Imagine que o custo de um plano de saúde (Y) de um cliente de 33 anos (X) é de 1356. A inclinação da reta de regressão linear é 61.86. Portanto, um cliente de 34 anos terá um plano de saúde de custo igual a (1356 + 61.86) 1417.86 reais."
      ]
    },
    {
      "cell_type": "markdown",
      "metadata": {
        "id": "omPWpcdD3F2X",
        "colab_type": "text"
      },
      "source": [
        "### Fórmula da Regressão Linear Simples\n",
        "\n",
        "- A regressão linear simples pode ser escrita como uma função de primeiro grau:\n",
        "\n",
        "                                                           Y = bX + a\n",
        "\n",
        "- Parâmetros:\n",
        "  - Y --> variável dependente\n",
        "  - X --> variável independente\n",
        "  - a --> intersecção/coeficiente linear\n",
        "  - b --> inclinação/coeficiente angular"
      ]
    },
    {
      "cell_type": "markdown",
      "metadata": {
        "id": "E33fzDd439se",
        "colab_type": "text"
      },
      "source": [
        "## Regressão Linear Simples - Resíduos\n",
        "\n",
        "- Resíduo --> para um mesmo valor de X, o resíduo é o resultado da diferença entre o valor REAL de Y (Y) e o valor ESTIMADO de Y (Y*):\n",
        "                                                       Resíduo = Y - Y*\n",
        "    - Resíduos > 0 --> relativos a pontos encontrados acima da reta de regressão\n",
        "    - Resíduos < 0 --> relativos a pontos encontrados abaixo da reta de regressão\n",
        "\n",
        "<p align=\"center\">\n",
        "    <img src=\"https://upload.wikimedia.org/wikipedia/commons/thumb/5/53/Linear_least_squares_example2.png/220px-Linear_least_squares_example2.png\"/>\n",
        "</p>\n",
        "\n",
        "- A média dos quadrados dos residuais pode ser utilizada para avaliar o erro associado ao modelo de regressão linear"
      ]
    },
    {
      "cell_type": "markdown",
      "metadata": {
        "id": "HW2s0VZ3QnJz",
        "colab_type": "text"
      },
      "source": [
        "## Premissas Regressão Linear\n",
        "\n",
        "- Modelos de Regressão Linear que lançam mão de técnicas padrões de estimativa (e.g. quadrados mínimos ordinários - OLS) se baseiam em um série de premissas sobre as variáveis dependente e independente e sobre suas relações"
      ]
    },
    {
      "cell_type": "markdown",
      "metadata": {
        "id": "XLYCGqdRSJ6u",
        "colab_type": "text"
      },
      "source": [
        "### Baixa Exogeneidade\n",
        "\n",
        "- Isso significa que as variáveis independentes (Xi) podem ser tratadas como valores fixos, ao invés de variáveis aleatórias\n",
        "- Nesse sentido, assume-se que as variáveis independentes estão livres de erros (i.e. não são afetadas por erros de medição)\n",
        "- Embora essa premissa seja raramente realista, a sua não consideração pode aumentar bastante a complexidade da análise dos erros associados às variáveis"
      ]
    },
    {
      "cell_type": "markdown",
      "metadata": {
        "id": "c6kfJsBVTTJp",
        "colab_type": "text"
      },
      "source": [
        "### Linearidade\n",
        "\n",
        "- Isso significa que a média da variável dependente é fruto de uma COMBINAÇÃO LINEAR entre os parâmetros (i.e. coeficientes linear e angular da regressão) e a(s) variável(is) independente(s)\n",
        "- Considerando que a primeira premissa (i.e. baixa exogeneidade) é válida, a linearidade é uma restrição muito mais \"flexível\", pois restringe apenas os parâmetros (coeficientes da regressão)\n",
        "- A regressão linear leva certa vantagem sobre regressões polinomiais, no sentido das últimas poderem gerar \"overfitting\""
      ]
    },
    {
      "cell_type": "markdown",
      "metadata": {
        "id": "oCdKiEmsU5dv",
        "colab_type": "text"
      },
      "source": [
        "### Homocedacidade\n",
        "\n",
        "- Isso significa que valores distintos da variável dependente apresentam MESMA VARIÂNCIA associada a seus respectivos erros, independentemente da(s) variável(is) independente(s)\n",
        "- Uma outra interpretação é que os erros devem variar igualmente ao redor da reta de melhor ajuste para todos os valores da variável independente X\n",
        "- Em termos práticos, essa premissa raramente é satisfeita, principalmente quando a(s) variável(is) independente(s) apresenta(m) uma elevada amplitude (range) de valores"
      ]
    },
    {
      "cell_type": "markdown",
      "metadata": {
        "id": "WTLFPUrEXBqH",
        "colab_type": "text"
      },
      "source": [
        "### Erros Independentes\n",
        "\n",
        "- Significa que os erros associados às variáveis dependentes não se correlacionam entre si\n",
        "- Quando essa premissa não é satisfeita, deve-se utilizar outras variações de regressão linear, como:\n",
        "  - Regressão Linear Bayesiana\n",
        "  - Generalized Least Squares"
      ]
    },
    {
      "cell_type": "markdown",
      "metadata": {
        "id": "Y9bj8iL6XhX_",
        "colab_type": "text"
      },
      "source": [
        "### Ausência de Multi-Colinearidade Perfeita\n",
        "\n",
        "- Métodos padrão de mínimos quadrados lançam mão dessa premissa\n",
        "- Isso quer dizer que o rank de A (número de colunas ou linhas linearmente independentes) da matriz composta pelas variáveis independentes deve ser igual ao número de variáveis independentes. Ou seja, não pode haver variáveis que representam colunas linearmente dependentes, caso contrário, teremos uma MULTI-COLINEARIDADE PERFEITA entre as colunas/variáveis (i.e. elas são linearmente dependentes)\n",
        "- Nesse sentido, variáveis independentes (utilizadas para prever valores da variável dependente) não devem apresentar correlações lineares muito fortes entre si\n",
        "- Esse problema pode ocorrer quando se tem um número maior de variáveis independentes do que número de dados"
      ]
    },
    {
      "cell_type": "markdown",
      "metadata": {
        "id": "NfJyCtV_9uOd",
        "colab_type": "text"
      },
      "source": [
        "## Outliers e Regressão Linear Simples\n",
        "\n",
        "- Outliers (valores anômalos que fogem do \"padrão\" de uma determinada população) podem inflluenciar negativamente modelos de regressão linear\n",
        "- Como o coeficiente de correlação linear é uma medida sensível à presença de outliers, ela pode se apresentar menor do que de fato é, na presença de outliers\n",
        "- Portanto, os outliers devem ser tratados antes de se realizar uma regressão linear (e.g. remoção dos outliers, transformação do dataset, isolamento dos outliers)"
      ]
    },
    {
      "cell_type": "markdown",
      "metadata": {
        "id": "zHMECaI1_XQ8",
        "colab_type": "text"
      },
      "source": [
        "## Extrapolação e Regressão Linear Simples\n",
        "\n",
        "- A extrapolação ocorre quando deseja-se estimar um valor que se encontra abaixo ou acima do range de valores amostrados\n",
        "  - e.g. Imagine que foram amostrados pacientes de idades que variam de 18 a 63 anos. Estimar um valor para um paciente de 16 ou 70 anos seria uma extrapolação\n",
        "- A extrapolação é arriscada, pois não há informações disponíveis para valores além/aquém do range de valores amostrados. Nesse sentido, o comportamento fora desse range pode não ser mais linear\n",
        "- Portanto, a extrapolação pode ser feita, embora deva ser realizada com cautela. Se possível, deve ser evitada"
      ]
    },
    {
      "cell_type": "markdown",
      "metadata": {
        "id": "6YqzqHQJAyeG",
        "colab_type": "text"
      },
      "source": [
        "## Correlação Não Implica Causalidade\n",
        "\n",
        "- Pessoas que receberam um treinamento têm um melhor desempenho ou será que essas pessoas receberam um treinamento porque tiveram um melhor desempenho?\n",
        "- Candidatos mais carismáticos obtém mais votos ou será que candidados que recebem mais votos são vistos como mais carismáticos?\n",
        "- Além disso, correlações podem ocorrer ao acaso:\n",
        "  - e.g. a variável número de voos por hora no aeroporto de Miami apresenta forte correlação linear positiva com a variável número de pessoas que comem tofu na Nova Zelândia\n",
        "  - OBS.: lembrar do livro \"Spurious Correlations\"\n",
        "- Nossas crenças e preconceitos nos levam a concluir erroneamente que fatos correlacionados possuem relação de causalidade mesmo quando não há uma evidência para isso, o que acaba por empobrecer muitos debates, tornando-os rasos"
      ]
    },
    {
      "cell_type": "markdown",
      "metadata": {
        "id": "Mgn0u9u-EbIj",
        "colab_type": "text"
      },
      "source": [
        "## Correlação Linear Simples no R"
      ]
    },
    {
      "cell_type": "markdown",
      "metadata": {
        "id": "ublC62DSEl5h",
        "colab_type": "text"
      },
      "source": [
        "### dim (df)\n",
        "\n",
        "- Verifica o número de linhas e colunas de um dataframe\n",
        "- No primeiro exemplo, utilizaremos o dataset \"Cars\" interno do R\n",
        "- Esse conjunto de dados apresenta 50 linhas e 2 colunas (velocidade e distância)"
      ]
    },
    {
      "cell_type": "code",
      "metadata": {
        "id": "6BcrWblomAh1",
        "colab_type": "code",
        "colab": {
          "base_uri": "https://localhost:8080/",
          "height": 34
        },
        "outputId": "2c7e52dd-d046-48c6-ac6e-c7a9d185873a"
      },
      "source": [
        "dim(cars)"
      ],
      "execution_count": null,
      "outputs": [
        {
          "output_type": "display_data",
          "data": {
            "text/plain": [
              "[1] 50  2"
            ],
            "text/latex": "\\begin{enumerate*}\n\\item 50\n\\item 2\n\\end{enumerate*}\n",
            "text/markdown": "1. 50\n2. 2\n\n\n",
            "text/html": [
              "<style>\n",
              ".list-inline {list-style: none; margin:0; padding: 0}\n",
              ".list-inline>li {display: inline-block}\n",
              ".list-inline>li:not(:last-child)::after {content: \"\\00b7\"; padding: 0 .5ex}\n",
              "</style>\n",
              "<ol class=list-inline><li>50</li><li>2</li></ol>\n"
            ]
          },
          "metadata": {
            "tags": []
          }
        }
      ]
    },
    {
      "cell_type": "markdown",
      "metadata": {
        "id": "B7Ol7scWFKe7",
        "colab_type": "text"
      },
      "source": [
        "### head(df)\n",
        "\n",
        "- Mostra as 6 primeiras linhas de um dataframe\n",
        "- O dataframe \"Cars\" apresenta duas colunas:\n",
        "  - Velocidade\n",
        "  - Distância"
      ]
    },
    {
      "cell_type": "code",
      "metadata": {
        "id": "NbmyrXDHEz4e",
        "colab_type": "code",
        "colab": {
          "base_uri": "https://localhost:8080/",
          "height": 212
        },
        "outputId": "bf8259db-c89c-4f55-c426-bc6f94ba849c"
      },
      "source": [
        "head(cars)"
      ],
      "execution_count": null,
      "outputs": [
        {
          "output_type": "display_data",
          "data": {
            "text/plain": [
              "  speed dist\n",
              "1 4      2  \n",
              "2 4     10  \n",
              "3 7      4  \n",
              "4 7     22  \n",
              "5 8     16  \n",
              "6 9     10  "
            ],
            "text/latex": "A data.frame: 6 × 2\n\\begin{tabular}{r|ll}\n  & speed & dist\\\\\n  & <dbl> & <dbl>\\\\\n\\hline\n\t1 & 4 &  2\\\\\n\t2 & 4 & 10\\\\\n\t3 & 7 &  4\\\\\n\t4 & 7 & 22\\\\\n\t5 & 8 & 16\\\\\n\t6 & 9 & 10\\\\\n\\end{tabular}\n",
            "text/markdown": "\nA data.frame: 6 × 2\n\n| <!--/--> | speed &lt;dbl&gt; | dist &lt;dbl&gt; |\n|---|---|---|\n| 1 | 4 |  2 |\n| 2 | 4 | 10 |\n| 3 | 7 |  4 |\n| 4 | 7 | 22 |\n| 5 | 8 | 16 |\n| 6 | 9 | 10 |\n\n",
            "text/html": [
              "<table>\n",
              "<caption>A data.frame: 6 × 2</caption>\n",
              "<thead>\n",
              "\t<tr><th></th><th scope=col>speed</th><th scope=col>dist</th></tr>\n",
              "\t<tr><th></th><th scope=col>&lt;dbl&gt;</th><th scope=col>&lt;dbl&gt;</th></tr>\n",
              "</thead>\n",
              "<tbody>\n",
              "\t<tr><th scope=row>1</th><td>4</td><td> 2</td></tr>\n",
              "\t<tr><th scope=row>2</th><td>4</td><td>10</td></tr>\n",
              "\t<tr><th scope=row>3</th><td>7</td><td> 4</td></tr>\n",
              "\t<tr><th scope=row>4</th><td>7</td><td>22</td></tr>\n",
              "\t<tr><th scope=row>5</th><td>8</td><td>16</td></tr>\n",
              "\t<tr><th scope=row>6</th><td>9</td><td>10</td></tr>\n",
              "</tbody>\n",
              "</table>\n"
            ]
          },
          "metadata": {
            "tags": []
          }
        }
      ]
    },
    {
      "cell_type": "markdown",
      "metadata": {
        "id": "NxCyd_64Fes5",
        "colab_type": "text"
      },
      "source": [
        "### plot (var1 ~ var2,data = df)\n",
        "\n",
        "- Por default, esta função plota um scatterplot\n",
        "- Como o df \"Cars\" apresenta apenas duas variáveis, não foi preciso especificar as colunas\n",
        "- Note que as duas variável aparentam apresentar certa correlação linear positiva\n",
        "  - var1 --> Y\n",
        "  - var2 --> X"
      ]
    },
    {
      "cell_type": "code",
      "metadata": {
        "id": "DFF_raiuFaC4",
        "colab_type": "code",
        "colab": {
          "base_uri": "https://localhost:8080/",
          "height": 437
        },
        "outputId": "6c7cb8b2-33cb-49ad-b2f6-708f92b3b0c0"
      },
      "source": [
        "plot(speed ~ dist,data=cars)"
      ],
      "execution_count": null,
      "outputs": [
        {
          "output_type": "display_data",
          "data": {
            "image/png": "[encoded data removed]",
            "text/plain": [
              "plot without title"
            ]
          },
          "metadata": {
            "tags": [],
            "image/png": {
              "width": 420,
              "height": 420
            },
            "text/plain": {
              "width": 420,
              "height": 420
            }
          }
        }
      ]
    },
    {
      "cell_type": "markdown",
      "metadata": {
        "id": "Ekk5jXgaF_qJ",
        "colab_type": "text"
      },
      "source": [
        "### cor (df)\n",
        "\n",
        "- Retorna a matriz de correlação de todas as variáveis presentes no dataframe\n",
        "- Note que há uma correlação linear positiva forte entre as variáveis distância e velocidade (~ 0.81)"
      ]
    },
    {
      "cell_type": "code",
      "metadata": {
        "id": "TyIYH2T7Fgxb",
        "colab_type": "code",
        "colab": {
          "base_uri": "https://localhost:8080/",
          "height": 95
        },
        "outputId": "2758d82d-b178-4e13-d3b1-e28a4251b75c"
      },
      "source": [
        "cor(cars)"
      ],
      "execution_count": null,
      "outputs": [
        {
          "output_type": "display_data",
          "data": {
            "text/plain": [
              "      speed     dist     \n",
              "speed 1.0000000 0.8068949\n",
              "dist  0.8068949 1.0000000"
            ],
            "text/latex": "A matrix: 2 × 2 of type dbl\n\\begin{tabular}{r|ll}\n  & speed & dist\\\\\n\\hline\n\tspeed & 1.0000000 & 0.8068949\\\\\n\tdist & 0.8068949 & 1.0000000\\\\\n\\end{tabular}\n",
            "text/markdown": "\nA matrix: 2 × 2 of type dbl\n\n| <!--/--> | speed | dist |\n|---|---|---|\n| speed | 1.0000000 | 0.8068949 |\n| dist | 0.8068949 | 1.0000000 |\n\n",
            "text/html": [
              "<table>\n",
              "<caption>A matrix: 2 × 2 of type dbl</caption>\n",
              "<thead>\n",
              "\t<tr><th></th><th scope=col>speed</th><th scope=col>dist</th></tr>\n",
              "</thead>\n",
              "<tbody>\n",
              "\t<tr><th scope=row>speed</th><td>1.0000000</td><td>0.8068949</td></tr>\n",
              "\t<tr><th scope=row>dist</th><td>0.8068949</td><td>1.0000000</td></tr>\n",
              "</tbody>\n",
              "</table>\n"
            ]
          },
          "metadata": {
            "tags": []
          }
        }
      ]
    },
    {
      "cell_type": "markdown",
      "metadata": {
        "id": "CuIF5-ISGsgK",
        "colab_type": "text"
      },
      "source": [
        "### linear_model <- lm (var1 ~ var2, data = df)\n",
        "\n",
        "- Cria um modelo de regressão linear simples com as variáveis \"var1\" e \"var2\" presentes no dataset \"df\"\n",
        "- O modelo criado é salvo na variável \"linear_model\"\n",
        "- var1 --> variável DEPENDENTE\n",
        "- var2 --> variável INDEPENDENTE\n",
        "- Retorna os dois coeficientes: linear (intersecção) e angular (inclinação)\n",
        "  - Coef. Linear = 8.2839\n",
        "  - Coef. Angular = 0.1656\n",
        "- Pode-se plotar o modelo criado para analisar diversos gráficos de resíduos"
      ]
    },
    {
      "cell_type": "code",
      "metadata": {
        "id": "skTPRxluGY-G",
        "colab_type": "code",
        "colab": {
          "base_uri": "https://localhost:8080/",
          "height": 134
        },
        "outputId": "422ffb1a-d427-448d-82b7-5eaa41ad4a62"
      },
      "source": [
        "modelo <- lm(speed ~ dist, data=cars)\n",
        "modelo"
      ],
      "execution_count": null,
      "outputs": [
        {
          "output_type": "display_data",
          "data": {
            "text/plain": [
              "\n",
              "Call:\n",
              "lm(formula = speed ~ dist, data = cars)\n",
              "\n",
              "Coefficients:\n",
              "(Intercept)         dist  \n",
              "     8.2839       0.1656  \n"
            ]
          },
          "metadata": {
            "tags": []
          }
        }
      ]
    },
    {
      "cell_type": "code",
      "metadata": {
        "id": "p859wQyiHd6O",
        "colab_type": "code",
        "colab": {
          "base_uri": "https://localhost:8080/",
          "height": 1000
        },
        "outputId": "7ac09d6d-bc7e-44da-b01b-69d4516d7fb4"
      },
      "source": [
        "plot(modelo)"
      ],
      "execution_count": null,
      "outputs": [
        {
          "output_type": "display_data",
          "data": {
            "image/png": "[encoded data removed]",
            "text/plain": [
              "Plot with title “”"
            ]
          },
          "metadata": {
            "tags": [],
            "image/png": {
              "width": 420,
              "height": 420
            },
            "text/plain": {
              "width": 420,
              "height": 420
            }
          }
        },
        {
          "output_type": "display_data",
          "data": {
            "image/png": "[encoded data removed]",
            "text/plain": [
              "Plot with title “”"
            ]
          },
          "metadata": {
            "tags": [],
            "image/png": {
              "width": 420,
              "height": 420
            },
            "text/plain": {
              "width": 420,
              "height": 420
            }
          }
        },
        {
          "output_type": "display_data",
          "data": {
            "image/png": "[encoded data removed]",
            "text/plain": [
              "Plot with title “”"
            ]
          },
          "metadata": {
            "tags": [],
            "image/png": {
              "width": 420,
              "height": 420
            },
            "text/plain": {
              "width": 420,
              "height": 420
            }
          }
        },
        {
          "output_type": "display_data",
          "data": {
            "image/png": "[encoded data removed]",
            "text/plain": [
              "Plot with title “”"
            ]
          },
          "metadata": {
            "tags": [],
            "image/png": {
              "width": 420,
              "height": 420
            },
            "text/plain": {
              "width": 420,
              "height": 420
            }
          }
        }
      ]
    },
    {
      "cell_type": "markdown",
      "metadata": {
        "id": "dO7q3cLCJIQ2",
        "colab_type": "text"
      },
      "source": [
        "### abline (linear_model)\n",
        "\n",
        "- Plota a reta de ajuste ótimo resultante do modelo de regressão linear \"linear_model\" criado. Essa é a linha utilizada como referência para as previsões\n",
        "\n",
        "1. Plota-se o scatterplot das variáveis\n",
        "2. Aplica-se o método \"abline\""
      ]
    },
    {
      "cell_type": "code",
      "metadata": {
        "id": "bLCaJsG8IGmC",
        "colab_type": "code",
        "colab": {
          "base_uri": "https://localhost:8080/",
          "height": 437
        },
        "outputId": "95ca76ea-e915-4c33-9519-a3e721d2f413"
      },
      "source": [
        "plot (speed ~ dist,data=cars)\n",
        "abline(modelo)"
      ],
      "execution_count": null,
      "outputs": [
        {
          "output_type": "display_data",
          "data": {
            "image/png": "[encoded data removed]",
            "text/plain": [
              "plot without title"
            ]
          },
          "metadata": {
            "tags": [],
            "image/png": {
              "width": 420,
              "height": 420
            },
            "text/plain": {
              "width": 420,
              "height": 420
            }
          }
        }
      ]
    },
    {
      "cell_type": "markdown",
      "metadata": {
        "id": "Tv4JotNhKd7b",
        "colab_type": "text"
      },
      "source": [
        "### Busca dos Coeficientes do Modelo\n",
        "\n",
        "- Pode-se buscar o valor dos coeficientes retornados pelo modelo"
      ]
    },
    {
      "cell_type": "code",
      "metadata": {
        "id": "VkYB8T2wJsXD",
        "colab_type": "code",
        "colab": {
          "base_uri": "https://localhost:8080/",
          "height": 34
        },
        "outputId": "3ac140a3-ef8d-43c6-8dd0-f6cd983be63e"
      },
      "source": [
        "# Coeficiente Linear\n",
        "modelo$coefficients[1]"
      ],
      "execution_count": null,
      "outputs": [
        {
          "output_type": "display_data",
          "data": {
            "text/plain": [
              "(Intercept) \n",
              "   8.283906 "
            ],
            "text/latex": "\\textbf{(Intercept):} 8.28390564178717",
            "text/markdown": "**(Intercept):** 8.28390564178717",
            "text/html": [
              "<strong>(Intercept):</strong> 8.28390564178717"
            ]
          },
          "metadata": {
            "tags": []
          }
        }
      ]
    },
    {
      "cell_type": "code",
      "metadata": {
        "id": "300rtLMOKtlE",
        "colab_type": "code",
        "colab": {
          "base_uri": "https://localhost:8080/",
          "height": 34
        },
        "outputId": "5ac8fb53-6563-489b-ff55-fcab0ef2abe4"
      },
      "source": [
        "# Coeficiente Angular\n",
        "modelo$coefficients[2]"
      ],
      "execution_count": null,
      "outputs": [
        {
          "output_type": "display_data",
          "data": {
            "text/plain": [
              "     dist \n",
              "0.1655676 "
            ],
            "text/latex": "\\textbf{dist:} 0.165567574644319",
            "text/markdown": "**dist:** 0.165567574644319",
            "text/html": [
              "<strong>dist:</strong> 0.165567574644319"
            ]
          },
          "metadata": {
            "tags": []
          }
        }
      ]
    },
    {
      "cell_type": "markdown",
      "metadata": {
        "id": "X2RnrY4-Lgzd",
        "colab_type": "text"
      },
      "source": [
        "### predict (linear_model, data.frame (indep_var = c(value1,value2,...) ) )\n",
        "\n",
        "- Prevê os valores de uma variável dependente (no caso, \"speed\") a partir dos valores da variável independente (\"indep_var\") informados (\"v1,v2,...\")\n",
        "- Deve-se inputar o modelo de regressão linear (\"linear_model\") "
      ]
    },
    {
      "cell_type": "code",
      "metadata": {
        "id": "QnT5MMnnLTLq",
        "colab_type": "code",
        "colab": {
          "base_uri": "https://localhost:8080/",
          "height": 34
        },
        "outputId": "275641f9-fe37-483e-ff66-a5ae9b4a25f6"
      },
      "source": [
        "predict(modelo,data.frame(dist=c(22,50)))"
      ],
      "execution_count": null,
      "outputs": [
        {
          "output_type": "display_data",
          "data": {
            "text/plain": [
              "       1        2 \n",
              "11.92639 16.56228 "
            ],
            "text/latex": "\\begin{description*}\n\\item[1] 11.9263922839622\n\\item[2] 16.5622843740031\n\\end{description*}\n",
            "text/markdown": "1\n:   11.92639228396222\n:   16.5622843740031\n\n",
            "text/html": [
              "<style>\n",
              ".dl-inline {width: auto; margin:0; padding: 0}\n",
              ".dl-inline>dt, .dl-inline>dd {float: none; width: auto; display: inline-block}\n",
              ".dl-inline>dt::after {content: \":\\0020\"; padding-right: .5ex}\n",
              ".dl-inline>dt:not(:first-of-type) {padding-left: .5ex}\n",
              "</style><dl class=dl-inline><dt>1</dt><dd>11.9263922839622</dd><dt>2</dt><dd>16.5622843740031</dd></dl>\n"
            ]
          },
          "metadata": {
            "tags": []
          }
        }
      ]
    },
    {
      "cell_type": "markdown",
      "metadata": {
        "id": "rACi88T3M6eL",
        "colab_type": "text"
      },
      "source": [
        "### summary (linear_model)\n",
        "\n",
        "- Retorna informações estatísticas importantes sobre o modelo de regressão linear (\"linear_model\"), como estatísticas dos coeficientes e dos resíduos"
      ]
    },
    {
      "cell_type": "code",
      "metadata": {
        "id": "6JT27amNNRko",
        "colab_type": "code",
        "colab": {
          "base_uri": "https://localhost:8080/",
          "height": 319
        },
        "outputId": "4257ff8d-7b56-421a-ec58-61d2a6c16d97"
      },
      "source": [
        "summary(modelo)"
      ],
      "execution_count": null,
      "outputs": [
        {
          "output_type": "display_data",
          "data": {
            "text/plain": [
              "\n",
              "Call:\n",
              "lm(formula = speed ~ dist, data = cars)\n",
              "\n",
              "Residuals:\n",
              "    Min      1Q  Median      3Q     Max \n",
              "-7.5293 -2.1550  0.3615  2.4377  6.4179 \n",
              "\n",
              "Coefficients:\n",
              "            Estimate Std. Error t value Pr(>|t|)    \n",
              "(Intercept)  8.28391    0.87438   9.474 1.44e-12 ***\n",
              "dist         0.16557    0.01749   9.464 1.49e-12 ***\n",
              "---\n",
              "Signif. codes:  0 ‘***’ 0.001 ‘**’ 0.01 ‘*’ 0.05 ‘.’ 0.1 ‘ ’ 1\n",
              "\n",
              "Residual standard error: 3.156 on 48 degrees of freedom\n",
              "Multiple R-squared:  0.6511,\tAdjusted R-squared:  0.6438 \n",
              "F-statistic: 89.57 on 1 and 48 DF,  p-value: 1.49e-12\n"
            ]
          },
          "metadata": {
            "tags": []
          }
        }
      ]
    },
    {
      "cell_type": "markdown",
      "metadata": {
        "id": "HZYli3GINer-",
        "colab_type": "text"
      },
      "source": [
        "### linear_model$\n",
        "\n",
        "- Retorna as principais informações do modelo criado"
      ]
    },
    {
      "cell_type": "code",
      "metadata": {
        "id": "mB888Sj1NTtR",
        "colab_type": "code",
        "colab": {
          "base_uri": "https://localhost:8080/",
          "height": 34
        },
        "outputId": "3384d63b-7c88-431c-9a1b-55c5be6a7758"
      },
      "source": [
        "# Coeficientes linear e angular do modelo\n",
        "modelo$coefficients"
      ],
      "execution_count": null,
      "outputs": [
        {
          "output_type": "display_data",
          "data": {
            "text/plain": [
              "(Intercept)        dist \n",
              "  8.2839056   0.1655676 "
            ],
            "text/latex": "\\begin{description*}\n\\item[(Intercept)] 8.28390564178717\n\\item[dist] 0.165567574644319\n\\end{description*}\n",
            "text/markdown": "(Intercept)\n:   8.28390564178717dist\n:   0.165567574644319\n\n",
            "text/html": [
              "<style>\n",
              ".dl-inline {width: auto; margin:0; padding: 0}\n",
              ".dl-inline>dt, .dl-inline>dd {float: none; width: auto; display: inline-block}\n",
              ".dl-inline>dt::after {content: \":\\0020\"; padding-right: .5ex}\n",
              ".dl-inline>dt:not(:first-of-type) {padding-left: .5ex}\n",
              "</style><dl class=dl-inline><dt>(Intercept)</dt><dd>8.28390564178717</dd><dt>dist</dt><dd>0.165567574644319</dd></dl>\n"
            ]
          },
          "metadata": {
            "tags": []
          }
        }
      ]
    },
    {
      "cell_type": "code",
      "metadata": {
        "id": "K66osSHcNnFl",
        "colab_type": "code",
        "colab": {
          "base_uri": "https://localhost:8080/",
          "height": 185
        },
        "outputId": "4f3a6629-946f-4074-e536-8a62ca75d9a0"
      },
      "source": [
        "# Resíduos do modelo\n",
        "modelo$residuals"
      ],
      "execution_count": null,
      "outputs": [
        {
          "output_type": "display_data",
          "data": {
            "text/plain": [
              "          1           2           3           4           5           6 \n",
              "-4.61504079 -5.93958139 -1.94617594 -4.92639228 -2.93298684 -0.93958139 \n",
              "          7           8           9          10          11          12 \n",
              "-1.26412199 -2.58866258 -3.91320318 -0.09855441 -1.91979773  1.39814831 \n",
              "         13          14          15          16          17          18 \n",
              " 0.40474287 -0.25752743 -0.91979773  0.41133742 -0.91320318 -0.91320318 \n",
              "         19          20          21          22          23          24 \n",
              "-2.90001408  1.41133742 -0.24433833 -4.21796012 -7.52931161  3.40474287 \n",
              "         25          26          27          28          29          30 \n",
              " 2.41133742 -2.22455467  2.41793197  1.09339137  3.41793197  2.09339137 \n",
              "         31          32          33          34          35          36 \n",
              " 0.43771563  2.76225622  0.44431018 -2.86704131 -4.19158191  4.75566167 \n",
              "         37          38          39          40          41          42 \n",
              " 3.09998592 -0.54250072  6.41793197  3.76885078  3.10658048  2.44431018 \n",
              "         43          44          45          46          47          48 \n",
              " 1.11976958  2.78863443  5.77544533  4.12636413  0.48387749  0.31830992 \n",
              "         49          50 \n",
              "-4.15201460  2.64285051 "
            ],
            "text/latex": "\\begin{description*}\n\\item[1] -4.61504079107582\n\\item[2] -5.93958138823036\n\\item[3] -1.94617594036445\n\\item[4] -4.92639228396219\n\\item[5] -2.93298683609627\n\\item[6] -0.939581388230361\n\\item[7] -1.26412198538491\n\\item[8] -2.58866258253946\n\\item[9] -3.91320317969402\n\\item[10] -0.0985544107405941\n\\item[11] -1.9197977318281\n\\item[12] 1.39814831319236\n\\item[13] 0.404742865326449\n\\item[14] -0.257527433250826\n\\item[15] -0.919797731828102\n\\item[16] 0.411337417460535\n\\item[17] -0.913203179694016\n\\item[18] -0.913203179694016\n\\item[19] -2.90001407542584\n\\item[20] 1.41133741746054\n\\item[21] -0.244338328982654\n\\item[22] -4.21796012044631\n\\item[23] -7.52931161333269\n\\item[24] 3.40474286532645\n\\item[25] 2.41133741746054\n\\item[26] -2.22455467258039\n\\item[27] 2.41793196959462\n\\item[28] 1.09339137244007\n\\item[29] 3.41793196959462\n\\item[30] 2.09339137244007\n\\item[31] 0.437715625996881\n\\item[32] 2.76225622315143\n\\item[33] 0.444310178130967\n\\item[34] -2.86704131475541\n\\item[35] -4.19158191190996\n\\item[36] 4.75566167101735\n\\item[37] 3.09998592457416\n\\item[38] -0.54250071760086\n\\item[39] 6.41793196959462\n\\item[40] 3.76885077528552\n\\item[41] 3.10658047670824\n\\item[42] 2.44431017813097\n\\item[43] 1.11976958097642\n\\item[44] 2.78863443168778\n\\item[45] 5.77544532741961\n\\item[46] 4.1263641331105\n\\item[47] 0.483877490935488\n\\item[48] 0.318309916291168\n\\item[49] -4.15201459910544\n\\item[50] 2.64285051344572\n\\end{description*}\n",
            "text/markdown": "1\n:   -4.615040791075822\n:   -5.939581388230363\n:   -1.946175940364454\n:   -4.926392283962195\n:   -2.932986836096276\n:   -0.9395813882303617\n:   -1.264121985384918\n:   -2.588662582539469\n:   -3.9132031796940210\n:   -0.098554410740594111\n:   -1.919797731828112\n:   1.3981483131923613\n:   0.40474286532644914\n:   -0.25752743325082615\n:   -0.91979773182810216\n:   0.41133741746053517\n:   -0.91320317969401618\n:   -0.91320317969401619\n:   -2.9000140754258420\n:   1.4113374174605421\n:   -0.24433832898265422\n:   -4.2179601204463123\n:   -7.5293116133326924\n:   3.4047428653264525\n:   2.4113374174605426\n:   -2.2245546725803927\n:   2.4179319695946228\n:   1.0933913724400729\n:   3.4179319695946230\n:   2.0933913724400731\n:   0.43771562599688132\n:   2.7622562231514333\n:   0.44431017813096734\n:   -2.8670413147554135\n:   -4.1915819119099636\n:   4.7556616710173537\n:   3.0999859245741638\n:   -0.5425007176008639\n:   6.4179319695946240\n:   3.7688507752855241\n:   3.1065804767082442\n:   2.4443101781309743\n:   1.1197695809764244\n:   2.7886344316877845\n:   5.7754453274196146\n:   4.126364133110547\n:   0.48387749093548848\n:   0.31830991629116849\n:   -4.1520145991054450\n:   2.64285051344572\n\n",
            "text/html": [
              "<style>\n",
              ".dl-inline {width: auto; margin:0; padding: 0}\n",
              ".dl-inline>dt, .dl-inline>dd {float: none; width: auto; display: inline-block}\n",
              ".dl-inline>dt::after {content: \":\\0020\"; padding-right: .5ex}\n",
              ".dl-inline>dt:not(:first-of-type) {padding-left: .5ex}\n",
              "</style><dl class=dl-inline><dt>1</dt><dd>-4.61504079107582</dd><dt>2</dt><dd>-5.93958138823036</dd><dt>3</dt><dd>-1.94617594036445</dd><dt>4</dt><dd>-4.92639228396219</dd><dt>5</dt><dd>-2.93298683609627</dd><dt>6</dt><dd>-0.939581388230361</dd><dt>7</dt><dd>-1.26412198538491</dd><dt>8</dt><dd>-2.58866258253946</dd><dt>9</dt><dd>-3.91320317969402</dd><dt>10</dt><dd>-0.0985544107405941</dd><dt>11</dt><dd>-1.9197977318281</dd><dt>12</dt><dd>1.39814831319236</dd><dt>13</dt><dd>0.404742865326449</dd><dt>14</dt><dd>-0.257527433250826</dd><dt>15</dt><dd>-0.919797731828102</dd><dt>16</dt><dd>0.411337417460535</dd><dt>17</dt><dd>-0.913203179694016</dd><dt>18</dt><dd>-0.913203179694016</dd><dt>19</dt><dd>-2.90001407542584</dd><dt>20</dt><dd>1.41133741746054</dd><dt>21</dt><dd>-0.244338328982654</dd><dt>22</dt><dd>-4.21796012044631</dd><dt>23</dt><dd>-7.52931161333269</dd><dt>24</dt><dd>3.40474286532645</dd><dt>25</dt><dd>2.41133741746054</dd><dt>26</dt><dd>-2.22455467258039</dd><dt>27</dt><dd>2.41793196959462</dd><dt>28</dt><dd>1.09339137244007</dd><dt>29</dt><dd>3.41793196959462</dd><dt>30</dt><dd>2.09339137244007</dd><dt>31</dt><dd>0.437715625996881</dd><dt>32</dt><dd>2.76225622315143</dd><dt>33</dt><dd>0.444310178130967</dd><dt>34</dt><dd>-2.86704131475541</dd><dt>35</dt><dd>-4.19158191190996</dd><dt>36</dt><dd>4.75566167101735</dd><dt>37</dt><dd>3.09998592457416</dd><dt>38</dt><dd>-0.54250071760086</dd><dt>39</dt><dd>6.41793196959462</dd><dt>40</dt><dd>3.76885077528552</dd><dt>41</dt><dd>3.10658047670824</dd><dt>42</dt><dd>2.44431017813097</dd><dt>43</dt><dd>1.11976958097642</dd><dt>44</dt><dd>2.78863443168778</dd><dt>45</dt><dd>5.77544532741961</dd><dt>46</dt><dd>4.1263641331105</dd><dt>47</dt><dd>0.483877490935488</dd><dt>48</dt><dd>0.318309916291168</dd><dt>49</dt><dd>-4.15201459910544</dd><dt>50</dt><dd>2.64285051344572</dd></dl>\n"
            ]
          },
          "metadata": {
            "tags": []
          }
        }
      ]
    },
    {
      "cell_type": "code",
      "metadata": {
        "id": "79zWERxYN5QA",
        "colab_type": "code",
        "colab": {
          "base_uri": "https://localhost:8080/",
          "height": 185
        },
        "outputId": "5f09ffb1-f6a3-46d0-c373-bbfdb70c50d2"
      },
      "source": [
        "# Valores ajustados para criar a linha de melhor ajuste\n",
        "modelo$fitted.values"
      ],
      "execution_count": null,
      "outputs": [
        {
          "output_type": "display_data",
          "data": {
            "text/plain": [
              "        1         2         3         4         5         6         7         8 \n",
              " 8.615041  9.939581  8.946176 11.926392 10.932987  9.939581 11.264122 12.588663 \n",
              "        9        10        11        12        13        14        15        16 \n",
              "13.913203 11.098554 12.919798 10.601852 11.595257 12.257527 12.919798 12.588663 \n",
              "       17        18        19        20        21        22        23        24 \n",
              "13.913203 13.913203 15.900014 12.588663 14.244338 18.217960 21.529312 11.595257 \n",
              "       25        26        27        28        29        30        31        32 \n",
              "12.588663 17.224555 13.582068 14.906609 13.582068 14.906609 16.562284 15.237744 \n",
              "       33        34        35        36        37        38        39        40 \n",
              "17.555690 20.867041 22.191582 14.244338 15.900014 19.542501 13.582068 16.231149 \n",
              "       41        42        43        44        45        46        47        48 \n",
              "16.893420 17.555690 18.880230 19.211366 17.224555 19.873636 23.516123 23.681690 \n",
              "       49        50 \n",
              "28.152015 22.357149 "
            ],
            "text/latex": "\\begin{description*}\n\\item[1] 8.61504079107582\n\\item[2] 9.93958138823036\n\\item[3] 8.94617594036445\n\\item[4] 11.9263922839622\n\\item[5] 10.9329868360963\n\\item[6] 9.93958138823036\n\\item[7] 11.2641219853849\n\\item[8] 12.5886625825395\n\\item[9] 13.913203179694\n\\item[10] 11.0985544107406\n\\item[11] 12.9197977318281\n\\item[12] 10.6018516868076\n\\item[13] 11.5952571346736\n\\item[14] 12.2575274332508\n\\item[15] 12.9197977318281\n\\item[16] 12.5886625825395\n\\item[17] 13.913203179694\n\\item[18] 13.913203179694\n\\item[19] 15.9000140754258\n\\item[20] 12.5886625825395\n\\item[21] 14.2443383289827\n\\item[22] 18.2179601204463\n\\item[23] 21.5293116133327\n\\item[24] 11.5952571346736\n\\item[25] 12.5886625825395\n\\item[26] 17.2245546725804\n\\item[27] 13.5820680304054\n\\item[28] 14.9066086275599\n\\item[29] 13.5820680304054\n\\item[30] 14.9066086275599\n\\item[31] 16.5622843740031\n\\item[32] 15.2377437768486\n\\item[33] 17.555689821869\n\\item[34] 20.8670413147554\n\\item[35] 22.19158191191\n\\item[36] 14.2443383289827\n\\item[37] 15.9000140754258\n\\item[38] 19.5425007176009\n\\item[39] 13.5820680304054\n\\item[40] 16.2311492247145\n\\item[41] 16.8934195232918\n\\item[42] 17.555689821869\n\\item[43] 18.8802304190236\n\\item[44] 19.2113655683122\n\\item[45] 17.2245546725804\n\\item[46] 19.8736358668895\n\\item[47] 23.5161225090645\n\\item[48] 23.6816900837088\n\\item[49] 28.1520145991054\n\\item[50] 22.3571494865543\n\\end{description*}\n",
            "text/markdown": "1\n:   8.615040791075822\n:   9.939581388230363\n:   8.946175940364454\n:   11.92639228396225\n:   10.93298683609636\n:   9.939581388230367\n:   11.26412198538498\n:   12.58866258253959\n:   13.91320317969410\n:   11.098554410740611\n:   12.919797731828112\n:   10.601851686807613\n:   11.595257134673614\n:   12.257527433250815\n:   12.919797731828116\n:   12.588662582539517\n:   13.91320317969418\n:   13.91320317969419\n:   15.900014075425820\n:   12.588662582539521\n:   14.244338328982722\n:   18.217960120446323\n:   21.529311613332724\n:   11.595257134673625\n:   12.588662582539526\n:   17.224554672580427\n:   13.582068030405428\n:   14.906608627559929\n:   13.582068030405430\n:   14.906608627559931\n:   16.562284374003132\n:   15.237743776848633\n:   17.55568982186934\n:   20.867041314755435\n:   22.1915819119136\n:   14.244338328982737\n:   15.900014075425838\n:   19.542500717600939\n:   13.582068030405440\n:   16.231149224714541\n:   16.893419523291842\n:   17.55568982186943\n:   18.880230419023644\n:   19.211365568312245\n:   17.224554672580446\n:   19.873635866889547\n:   23.516122509064548\n:   23.681690083708849\n:   28.152014599105450\n:   22.3571494865543\n\n",
            "text/html": [
              "<style>\n",
              ".dl-inline {width: auto; margin:0; padding: 0}\n",
              ".dl-inline>dt, .dl-inline>dd {float: none; width: auto; display: inline-block}\n",
              ".dl-inline>dt::after {content: \":\\0020\"; padding-right: .5ex}\n",
              ".dl-inline>dt:not(:first-of-type) {padding-left: .5ex}\n",
              "</style><dl class=dl-inline><dt>1</dt><dd>8.61504079107582</dd><dt>2</dt><dd>9.93958138823036</dd><dt>3</dt><dd>8.94617594036445</dd><dt>4</dt><dd>11.9263922839622</dd><dt>5</dt><dd>10.9329868360963</dd><dt>6</dt><dd>9.93958138823036</dd><dt>7</dt><dd>11.2641219853849</dd><dt>8</dt><dd>12.5886625825395</dd><dt>9</dt><dd>13.913203179694</dd><dt>10</dt><dd>11.0985544107406</dd><dt>11</dt><dd>12.9197977318281</dd><dt>12</dt><dd>10.6018516868076</dd><dt>13</dt><dd>11.5952571346736</dd><dt>14</dt><dd>12.2575274332508</dd><dt>15</dt><dd>12.9197977318281</dd><dt>16</dt><dd>12.5886625825395</dd><dt>17</dt><dd>13.913203179694</dd><dt>18</dt><dd>13.913203179694</dd><dt>19</dt><dd>15.9000140754258</dd><dt>20</dt><dd>12.5886625825395</dd><dt>21</dt><dd>14.2443383289827</dd><dt>22</dt><dd>18.2179601204463</dd><dt>23</dt><dd>21.5293116133327</dd><dt>24</dt><dd>11.5952571346736</dd><dt>25</dt><dd>12.5886625825395</dd><dt>26</dt><dd>17.2245546725804</dd><dt>27</dt><dd>13.5820680304054</dd><dt>28</dt><dd>14.9066086275599</dd><dt>29</dt><dd>13.5820680304054</dd><dt>30</dt><dd>14.9066086275599</dd><dt>31</dt><dd>16.5622843740031</dd><dt>32</dt><dd>15.2377437768486</dd><dt>33</dt><dd>17.555689821869</dd><dt>34</dt><dd>20.8670413147554</dd><dt>35</dt><dd>22.19158191191</dd><dt>36</dt><dd>14.2443383289827</dd><dt>37</dt><dd>15.9000140754258</dd><dt>38</dt><dd>19.5425007176009</dd><dt>39</dt><dd>13.5820680304054</dd><dt>40</dt><dd>16.2311492247145</dd><dt>41</dt><dd>16.8934195232918</dd><dt>42</dt><dd>17.555689821869</dd><dt>43</dt><dd>18.8802304190236</dd><dt>44</dt><dd>19.2113655683122</dd><dt>45</dt><dd>17.2245546725804</dd><dt>46</dt><dd>19.8736358668895</dd><dt>47</dt><dd>23.5161225090645</dd><dt>48</dt><dd>23.6816900837088</dd><dt>49</dt><dd>28.1520145991054</dd><dt>50</dt><dd>22.3571494865543</dd></dl>\n"
            ]
          },
          "metadata": {
            "tags": []
          }
        }
      ]
    },
    {
      "cell_type": "markdown",
      "metadata": {
        "id": "xAEkAHzUOkLG",
        "colab_type": "text"
      },
      "source": [
        "## Validações para Utilizar Regressão Linear\n",
        "\n",
        "- Verificação do Coeficiente de **Correlação Linear** (R):\n",
        "  - Pode-se lançar mão de uma regressão linear, se a correlação for MODERADA ou FORTE\n",
        "- Verificação do **Coeficiente de Determinação** (R²):\n",
        "  - R² >= 0.7 --> pode-se utilizar a regressão\n",
        "  - R² <= 0.3 --> não se deve utilizar a regressão\n",
        "  - 0.3 < R² < 0.7 --> deve-se avaliar (depende do caso)\n",
        "- Verificação dos Residuais Padronizados:\n",
        "  - Os dados são padronizados de acordo com uma Distribuição Normal Padrão\n",
        "  - É um Q-Q Plot dados pelo método \"plot(linear_model)\"\n",
        "  - Os residuos padronizados, nesse sentido, devem estar próximos de uma Distribuição Normal Padrão (i.e. o Q-Q Plot deve dar aproximadamente uma reta)"
      ]
    },
    {
      "cell_type": "markdown",
      "metadata": {
        "id": "xvKFqqH9a022",
        "colab_type": "text"
      },
      "source": [
        "## Regressão Linear Múltipla"
      ]
    },
    {
      "cell_type": "markdown",
      "metadata": {
        "id": "Hc14yzuLbCAm",
        "colab_type": "text"
      },
      "source": [
        "### Regressão Linear: Simples x Múltipla\n",
        "\n",
        "- **Simples**:\n",
        "  - Apenas UMA variável explanatória (independente) para prever uma variável dependente (X e Y, respectivamente)\n",
        "- **Múltipla**:\n",
        "  - DUAS OU MAIS variáveis explanatórias (independentes) para prever uma variável dependente (X1,X2,...,Xn e Y, respectivamente)"
      ]
    },
    {
      "cell_type": "markdown",
      "metadata": {
        "id": "31Gz-xsHfGBr",
        "colab_type": "text"
      },
      "source": [
        "### Fórmula Geral da Regressão Linear Múltipla\n",
        "\n",
        "<p align=\"center\">\n",
        "    <img src=\"https://wikimedia.org/api/rest_v1/media/math/render/svg/704b31aa61dfc93d672f15bf02aa6d168be49643\"/>\n",
        "</p>\n",
        "\n",
        "- Parâmetros:\n",
        "  - Bi --> coeficientes das variáveis\n",
        "  - B0 --> intersecção\n",
        "  - Yi --> variável dependente\n",
        "  - Xi (i = 1,2,...,n) --> variáveis explanatórias/independentes\n",
        "  - E --> erro variável"
      ]
    },
    {
      "cell_type": "markdown",
      "metadata": {
        "id": "4nXAt_YpcMkS",
        "colab_type": "text"
      },
      "source": [
        "### O que deve-se fazer para realizar um Regressão Linear Múltipla?\n",
        "\n",
        "- Avaliar cada variável independente (Xi) com a variável dependente (Y) separadamente\n",
        "  - e.g. gerar scatterplots separados\n",
        "\n",
        "- Verificar possíveis redundâncias (i.e. multi-colinearidade)"
      ]
    },
    {
      "cell_type": "markdown",
      "metadata": {
        "id": "YQi6r1Gbc7o-",
        "colab_type": "text"
      },
      "source": [
        "### Coeficiente de Determinação (R²) e Coeficiente de Determinação Ajustado \n",
        "\n",
        "- Também deve ser avaliado quando lança-se mão de uma Regressão Linear Múltipla\n",
        "- R² informa o percentual da variável dependente que pode ser explicado pela variável independente\n",
        "- Nesse sentido, de maneira geral, quanto MAIS variáveis independentes são adicionadas o modelo, MAIOR é a tendência de que R² aumente\n",
        "  - i.e. com um maior número de variáveis explanatórias, um maior percentual da variável dependente tende a ser explicado\n",
        "- O aumento do número de variáveis explanatórias não necessariamente aumenta a precisão do modelo de previsão da variável dependente. Entretanto, de qualquer forma, o R² tende a aumentar\n",
        "- Utiliza-se então o **R² Ajustado**, que ajusta a variação do modelo de acordo com o número de variáveis independentes que são incluídas no modelo. Nesse sentido, sempre temos que:\n",
        "                                                            R²(AJUSTADO) < R²\n",
        "\n",
        "- Nesse sentido, se o R² não é ajustado de acordo com o número de variáveis explanatórias presentes no modelo, o seu valor se torna enviesado (e pouco confiável), já que o valor de R² tende a aumentar com o aumento do número de variáveis explanatórias do modelo "
      ]
    },
    {
      "cell_type": "markdown",
      "metadata": {
        "id": "B8GemY1xf9uB",
        "colab_type": "text"
      },
      "source": [
        "### Colinearidade e Parcimônia\n",
        "\n",
        "- **COLINEARIDADE** --> variáveis independentes são redundantes, ou seja, uma delas é fruto de uma combinação linear de outra. Portanto, deve-se evitar multi-colinearidade em um modelo, ou seja, as variáveis explanatórias devem ser linearmente independentes\n",
        "\n",
        "- **PARCIMÔNIA** --> princípio que diz que não se deve incluir variáveis explanatórias que não mehoram (e.g. a precisão) do modelo em nada\n",
        "  - Devemos criar modelos parcimoniosos"
      ]
    },
    {
      "cell_type": "markdown",
      "metadata": {
        "id": "ADjuIAuAh6dG",
        "colab_type": "text"
      },
      "source": [
        "### Alguns Pré-Requisitos\n",
        "\n",
        "- Os pré-requisitos (premissas) já foram detalhados acima. Os principais são:\n",
        "\n",
        "1. Linearidade entre variáveis independentes e variável dependente\n",
        "2. Baixa (ou nenhuma) colinearidade entre as variáveis independentes\n",
        "3. As variáveis independentes devem ser normalmente distribuídas\n",
        "4. Os residuais devem:\n",
        "  - Ser próximos de uma Distribuição Normal\n",
        "  - Variância aproximadamente constante em relação à linha de melhor ajuste (homocedacidade)\n"
      ]
    },
    {
      "cell_type": "markdown",
      "metadata": {
        "id": "1PgjzfYrjC5C",
        "colab_type": "text"
      },
      "source": [
        "### Regressão Linear Múltipla no R"
      ]
    },
    {
      "cell_type": "markdown",
      "metadata": {
        "id": "fvxEfTJWj4Ts",
        "colab_type": "text"
      },
      "source": [
        "#### Dataset\n",
        "\n",
        "- O dataset que será abordado (**mtcars**) é nativo do R e trata-se se diversos atributos relacionados a características apresentadas por carros\n",
        "- Atributos:\n",
        "  - **mpg** --> consumo de galões por milhas\n",
        "  - **cyl** --> número de cilindros\n",
        "  - **disp** --> polegadas cúbicas\n",
        "  - **hp** --> número de cavalos\n",
        "  - **drat**\n",
        "  - **wt**\n",
        "  - **qsec**\n",
        "  - **vs**\n",
        "  - **am**\n",
        "  - **gear**\n",
        "  - **carb**\n",
        "\n",
        "- O dataset apresenta 32 colunas e 11 linhas"
      ]
    },
    {
      "cell_type": "code",
      "metadata": {
        "id": "y2s_13h6a3dY",
        "colab_type": "code",
        "colab": {
          "base_uri": "https://localhost:8080/",
          "height": 34
        },
        "outputId": "b216ab17-98fc-4b2e-f55f-e1383e71cd42"
      },
      "source": [
        "# Verificação das dimensões do dataset\n",
        "dim(mtcars)"
      ],
      "execution_count": null,
      "outputs": [
        {
          "output_type": "display_data",
          "data": {
            "text/plain": [
              "[1] 32 11"
            ],
            "text/latex": "\\begin{enumerate*}\n\\item 32\n\\item 11\n\\end{enumerate*}\n",
            "text/markdown": "1. 32\n2. 11\n\n\n",
            "text/html": [
              "<style>\n",
              ".list-inline {list-style: none; margin:0; padding: 0}\n",
              ".list-inline>li {display: inline-block}\n",
              ".list-inline>li:not(:last-child)::after {content: \"\\00b7\"; padding: 0 .5ex}\n",
              "</style>\n",
              "<ol class=list-inline><li>32</li><li>11</li></ol>\n"
            ]
          },
          "metadata": {
            "tags": []
          }
        }
      ]
    },
    {
      "cell_type": "markdown",
      "metadata": {
        "id": "tXLtJWP1lPOT",
        "colab_type": "text"
      },
      "source": [
        "#### Modelo de Regressão Linear Simples\n",
        "\n",
        "- Utilizaremos as variáveis **`mpg`** e **`disp`** para gerar o modelo de Regressão Linear Simples\n",
        "  - **`mpg`** --> variável de resposta (dependente)\n",
        "  - **`disp`** --> variável explanatória (independente)"
      ]
    },
    {
      "cell_type": "code",
      "metadata": {
        "id": "mKSTXv-9lB-e",
        "colab_type": "code",
        "colab": {
          "base_uri": "https://localhost:8080/",
          "height": 135
        },
        "outputId": "f99700a7-0be2-4828-cd2e-d45d5d6b8145"
      },
      "source": [
        "# Verificando correlação entre as 4 primeiras variáveis do dataset\n",
        "cor(mtcars[1:4])\n",
        "\n",
        "# As variáveis \"mpg\" e \"disp\" apresentam uma forte correlação linear negativa"
      ],
      "execution_count": null,
      "outputs": [
        {
          "output_type": "display_data",
          "data": {
            "text/plain": [
              "     mpg        cyl        disp       hp        \n",
              "mpg   1.0000000 -0.8521620 -0.8475514 -0.7761684\n",
              "cyl  -0.8521620  1.0000000  0.9020329  0.8324475\n",
              "disp -0.8475514  0.9020329  1.0000000  0.7909486\n",
              "hp   -0.7761684  0.8324475  0.7909486  1.0000000"
            ],
            "text/latex": "A matrix: 4 × 4 of type dbl\n\\begin{tabular}{r|llll}\n  & mpg & cyl & disp & hp\\\\\n\\hline\n\tmpg &  1.0000000 & -0.8521620 & -0.8475514 & -0.7761684\\\\\n\tcyl & -0.8521620 &  1.0000000 &  0.9020329 &  0.8324475\\\\\n\tdisp & -0.8475514 &  0.9020329 &  1.0000000 &  0.7909486\\\\\n\thp & -0.7761684 &  0.8324475 &  0.7909486 &  1.0000000\\\\\n\\end{tabular}\n",
            "text/markdown": "\nA matrix: 4 × 4 of type dbl\n\n| <!--/--> | mpg | cyl | disp | hp |\n|---|---|---|---|---|\n| mpg |  1.0000000 | -0.8521620 | -0.8475514 | -0.7761684 |\n| cyl | -0.8521620 |  1.0000000 |  0.9020329 |  0.8324475 |\n| disp | -0.8475514 |  0.9020329 |  1.0000000 |  0.7909486 |\n| hp | -0.7761684 |  0.8324475 |  0.7909486 |  1.0000000 |\n\n",
            "text/html": [
              "<table>\n",
              "<caption>A matrix: 4 × 4 of type dbl</caption>\n",
              "<thead>\n",
              "\t<tr><th></th><th scope=col>mpg</th><th scope=col>cyl</th><th scope=col>disp</th><th scope=col>hp</th></tr>\n",
              "</thead>\n",
              "<tbody>\n",
              "\t<tr><th scope=row>mpg</th><td> 1.0000000</td><td>-0.8521620</td><td>-0.8475514</td><td>-0.7761684</td></tr>\n",
              "\t<tr><th scope=row>cyl</th><td>-0.8521620</td><td> 1.0000000</td><td> 0.9020329</td><td> 0.8324475</td></tr>\n",
              "\t<tr><th scope=row>disp</th><td>-0.8475514</td><td> 0.9020329</td><td> 1.0000000</td><td> 0.7909486</td></tr>\n",
              "\t<tr><th scope=row>hp</th><td>-0.7761684</td><td> 0.8324475</td><td> 0.7909486</td><td> 1.0000000</td></tr>\n",
              "</tbody>\n",
              "</table>\n"
            ]
          },
          "metadata": {
            "tags": []
          }
        }
      ]
    },
    {
      "cell_type": "code",
      "metadata": {
        "id": "EoztN0e1lzvl",
        "colab_type": "code",
        "colab": {
          "base_uri": "https://localhost:8080/",
          "height": 134
        },
        "outputId": "b12318fd-de3e-4e6f-c44c-c744e060b7f7"
      },
      "source": [
        "# Criação do modelo a partir do \"lm\"\n",
        "model = lm(mpg ~ disp, data=mtcars)\n",
        "# Verificação de algumas infos do modelo criado\n",
        "model"
      ],
      "execution_count": null,
      "outputs": [
        {
          "output_type": "display_data",
          "data": {
            "text/plain": [
              "\n",
              "Call:\n",
              "lm(formula = mpg ~ disp, data = mtcars)\n",
              "\n",
              "Coefficients:\n",
              "(Intercept)         disp  \n",
              "   29.59985     -0.04122  \n"
            ]
          },
          "metadata": {
            "tags": []
          }
        }
      ]
    },
    {
      "cell_type": "code",
      "metadata": {
        "id": "b4xX7pVhmxli",
        "colab_type": "code",
        "colab": {
          "base_uri": "https://localhost:8080/",
          "height": 34
        },
        "outputId": "eb05f557-3dc6-4942-bcec-781102212f2d"
      },
      "source": [
        "# Verificação do R² do modelo criado\n",
        "summary(model)$r.squared\n",
        "\n",
        "# ~ 72% da variável dependente é explicado pela variável independente"
      ],
      "execution_count": null,
      "outputs": [
        {
          "output_type": "display_data",
          "data": {
            "text/plain": [
              "[1] 0.7183433"
            ],
            "text/latex": "0.71834334048973",
            "text/markdown": "0.71834334048973",
            "text/html": [
              "0.71834334048973"
            ]
          },
          "metadata": {
            "tags": []
          }
        }
      ]
    },
    {
      "cell_type": "code",
      "metadata": {
        "id": "dEXA29RtnBEo",
        "colab_type": "code",
        "colab": {
          "base_uri": "https://localhost:8080/",
          "height": 34
        },
        "outputId": "dd5b9526-ea6a-44e4-d3ca-40cfc5ef0fc8"
      },
      "source": [
        "# Verificação do R² ajustado do modelo criado\n",
        "summary(model)$adj.r.squared\n",
        "\n",
        "# ~ 71% da variável dependente é explicado pela variável independente (mais \n",
        "# confiança)"
      ],
      "execution_count": null,
      "outputs": [
        {
          "output_type": "display_data",
          "data": {
            "text/plain": [
              "[1] 0.7089548"
            ],
            "text/latex": "0.708954785172721",
            "text/markdown": "0.708954785172721",
            "text/html": [
              "0.708954785172721"
            ]
          },
          "metadata": {
            "tags": []
          }
        }
      ]
    },
    {
      "cell_type": "code",
      "metadata": {
        "id": "AicmEdSan7hc",
        "colab_type": "code",
        "colab": {
          "base_uri": "https://localhost:8080/",
          "height": 437
        },
        "outputId": "d0d09ae2-4bcb-4bba-fb2a-85b38a949b0e"
      },
      "source": [
        "# Scatterplot das duas variáveis\n",
        "plot(mpg~disp,data=mtcars)\n",
        "# Geração da linha de melhor ajuste\n",
        "abline(model)"
      ],
      "execution_count": null,
      "outputs": [
        {
          "output_type": "display_data",
          "data": {
            "image/png": "[encoded data removed]",
            "text/plain": [
              "plot without title"
            ]
          },
          "metadata": {
            "tags": [],
            "image/png": {
              "width": 420,
              "height": 420
            },
            "text/plain": {
              "width": 420,
              "height": 420
            }
          }
        }
      ]
    },
    {
      "cell_type": "code",
      "metadata": {
        "id": "stgiqr0JogIl",
        "colab_type": "code",
        "colab": {
          "base_uri": "https://localhost:8080/",
          "height": 50
        },
        "outputId": "91b5c0c0-1123-457c-bd7c-8a6549e76bf5"
      },
      "source": [
        "# Previsão de alguns valores de mpg, a partir de um vetor de valores de disp\n",
        "predict(model,data.frame(disp=c(200,220,80,315,270,289,315,90,89)))"
      ],
      "execution_count": null,
      "outputs": [
        {
          "output_type": "display_data",
          "data": {
            "text/plain": [
              "       1        2        3        4        5        6        7        8 \n",
              "21.35683 20.53253 26.30265 16.61709 18.47177 17.68869 16.61709 25.89049 \n",
              "       9 \n",
              "25.93171 "
            ],
            "text/latex": "\\begin{description*}\n\\item[1] 21.3568307636067\n\\item[2] 20.532528364351\n\\item[3] 26.3026451591411\n\\item[4] 16.6170919678863\n\\item[5] 18.4717723662117\n\\item[6] 17.6886850869187\n\\item[7] 16.6170919678863\n\\item[8] 25.8904939595132\n\\item[9] 25.931709079476\n\\end{description*}\n",
            "text/markdown": "1\n:   21.35683076360672\n:   20.5325283643513\n:   26.30264515914114\n:   16.61709196788635\n:   18.47177236621176\n:   17.68868508691877\n:   16.61709196788638\n:   25.89049395951329\n:   25.931709079476\n\n",
            "text/html": [
              "<style>\n",
              ".dl-inline {width: auto; margin:0; padding: 0}\n",
              ".dl-inline>dt, .dl-inline>dd {float: none; width: auto; display: inline-block}\n",
              ".dl-inline>dt::after {content: \":\\0020\"; padding-right: .5ex}\n",
              ".dl-inline>dt:not(:first-of-type) {padding-left: .5ex}\n",
              "</style><dl class=dl-inline><dt>1</dt><dd>21.3568307636067</dd><dt>2</dt><dd>20.532528364351</dd><dt>3</dt><dd>26.3026451591411</dd><dt>4</dt><dd>16.6170919678863</dd><dt>5</dt><dd>18.4717723662117</dd><dt>6</dt><dd>17.6886850869187</dd><dt>7</dt><dd>16.6170919678863</dd><dt>8</dt><dd>25.8904939595132</dd><dt>9</dt><dd>25.931709079476</dd></dl>\n"
            ]
          },
          "metadata": {
            "tags": []
          }
        }
      ]
    },
    {
      "cell_type": "markdown",
      "metadata": {
        "id": "OKh1NQTKpKBZ",
        "colab_type": "text"
      },
      "source": [
        "#### Modelo de Regressão Linear Múltipla\n",
        "\n",
        "- A criação do modelo de Regressão Linear Múltipla se baseará também no dataset \"mtcars\"\n",
        "\n",
        "- Variáveis explanatórias/independentes:\n",
        "  - **`disp`**\n",
        "  - **`hp`**\n",
        "  - **`cyl`**\n",
        "\n",
        "- Variável de resposta/dependente:\n",
        "  - **`mpg`**"
      ]
    },
    {
      "cell_type": "markdown",
      "metadata": {
        "id": "1G3XJy5cqM1Y",
        "colab_type": "text"
      },
      "source": [
        "##### mult_model <- lm (Y ~ X1 + X2 + ... + Xn, data = df)\n",
        "\n",
        "- Cria o modelo de regressão linear múltipla\n",
        "- Parâmetros:\n",
        "  - Y --> variável dependente\n",
        "  - Xi --> variáveis independentes\n",
        "  - data --> dataset que se deseja utilizar para criar o modelo"
      ]
    },
    {
      "cell_type": "code",
      "metadata": {
        "id": "gERQlRC3psjh",
        "colab_type": "code",
        "colab": {}
      },
      "source": [
        "# Criação do modelo de regressão linear múltipla\n",
        "model_mult <- lm(mpg ~ disp + hp + cyl, data=mtcars)"
      ],
      "execution_count": null,
      "outputs": []
    },
    {
      "cell_type": "markdown",
      "metadata": {
        "id": "IqFz-tEnsOQz",
        "colab_type": "text"
      },
      "source": [
        "##### summary(mult_model)$r.squared\n",
        "\n",
        "- Retorna o R² do modelo"
      ]
    },
    {
      "cell_type": "code",
      "metadata": {
        "id": "8kY1tb3_rQDG",
        "colab_type": "code",
        "colab": {
          "base_uri": "https://localhost:8080/",
          "height": 34
        },
        "outputId": "01bec511-d8b6-411e-bdff-b6d5bd4b2f5f"
      },
      "source": [
        "# Verificação do R²\n",
        "summary(model_mult)$r.squared\n",
        "\n",
        "# Note que o R² aumentou em relação ao do modelo de regressão linear simples.\n",
        "# Isso é explicado, pois houve um aumento do número de variáveis explanatórias"
      ],
      "execution_count": null,
      "outputs": [
        {
          "output_type": "display_data",
          "data": {
            "text/plain": [
              "[1] 0.7678877"
            ],
            "text/latex": "0.767887744092864",
            "text/markdown": "0.767887744092864",
            "text/html": [
              "0.767887744092864"
            ]
          },
          "metadata": {
            "tags": []
          }
        }
      ]
    },
    {
      "cell_type": "markdown",
      "metadata": {
        "id": "NBp6pDRKsgli",
        "colab_type": "text"
      },
      "source": [
        "##### summary(mult_model)$adj.r.squared\n",
        "\n",
        "- Retorna o R² ajustado do modelo"
      ]
    },
    {
      "cell_type": "code",
      "metadata": {
        "id": "HBE6shUprqQh",
        "colab_type": "code",
        "colab": {
          "base_uri": "https://localhost:8080/",
          "height": 34
        },
        "outputId": "b80b6b94-1119-444d-d7aa-e9f812cf4475"
      },
      "source": [
        "# Verificação do R² AJUSTADO\n",
        "summary(model_mult)$adj.r.squared\n",
        "\n",
        "# Tratando-se de uma regressão linear múltipla, é mais confiável analisar o R²\n",
        "# ajustado (compensa o número de Xi adicionado). Ainda sim, é elevado!"
      ],
      "execution_count": null,
      "outputs": [
        {
          "output_type": "display_data",
          "data": {
            "text/plain": [
              "[1] 0.7430186"
            ],
            "text/latex": "0.743018573817099",
            "text/markdown": "0.743018573817099",
            "text/html": [
              "0.743018573817099"
            ]
          },
          "metadata": {
            "tags": []
          }
        }
      ]
    },
    {
      "cell_type": "markdown",
      "metadata": {
        "id": "S-GfW2aYsyfE",
        "colab_type": "text"
      },
      "source": [
        "##### predict(mult_model,data.frame(X1=c(v1,v2,...,vn) , X2=c(w1,w2,...,wn) , ... , Xn=c(u1,u2,...,un) ) )\n",
        "\n",
        "- Prevê valores da variável dependente a partir das variáveis explanatórias Xi e seus valores Vi, Wi e Ui"
      ]
    },
    {
      "cell_type": "code",
      "metadata": {
        "id": "JPFgj_1crvn4",
        "colab_type": "code",
        "colab": {
          "base_uri": "https://localhost:8080/",
          "height": 34
        },
        "outputId": "9e60522d-f84d-4dac-871a-ff94e53223b4"
      },
      "source": [
        "# Previsão de \"mpg\" a partir dos valores definidos para \"disp\", \"hp\" e \"cyl\"\n",
        "predict(model_mult,data.frame(disp=200,hp=100,cyl=4))"
      ],
      "execution_count": null,
      "outputs": [
        {
          "output_type": "display_data",
          "data": {
            "text/plain": [
              "       1 \n",
              "24.03969 "
            ],
            "text/latex": "\\textbf{1:} 24.0396888658269",
            "text/markdown": "**1:** 24.0396888658269",
            "text/html": [
              "<strong>1:</strong> 24.0396888658269"
            ]
          },
          "metadata": {
            "tags": []
          }
        }
      ]
    },
    {
      "cell_type": "markdown",
      "metadata": {
        "id": "hxqp79oIY6L5",
        "colab_type": "text"
      },
      "source": [
        "# Cálculos e Fórmulas de Regressão Linear"
      ]
    },
    {
      "cell_type": "markdown",
      "metadata": {
        "id": "loT_utcpZGMW",
        "colab_type": "text"
      },
      "source": [
        "## Fluxograma de Trabalho com Regressões\n",
        "\n",
        "1. Cálculo da Correlação\n",
        "2. Cálculo da inclinação da reta de melhor ajuste\n",
        "3. Cálculo do intercepto da reta de melhor ajuste\n",
        "4. Cálculo das previsões"
      ]
    },
    {
      "cell_type": "markdown",
      "metadata": {
        "id": "qunSoyCNZ2ms",
        "colab_type": "text"
      },
      "source": [
        "### Cálculo da Correlação\n",
        "\n",
        "- A medida de correlação linear mais utilizada é o Coeficiente de Correlação Linear de Pearson:\n",
        "\n",
        "<p align=\"center\">\n",
        "    <img src=\"https://wikimedia.org/api/rest_v1/media/math/render/svg/f76ccfa7c2ed7f5b085115086107bbe25d329cec\"/>\n",
        "</p>"
      ]
    },
    {
      "cell_type": "markdown",
      "metadata": {
        "id": "m60wdpPZboGe",
        "colab_type": "text"
      },
      "source": [
        "### Cálculo da Inclinação e Intercepto\n",
        "\n",
        "- A inclinação (m) pode ser calculada pelo produto do coeficiente de correlação de Pearson (r) pelo resultado da divisão do DP(y) pelo DP(x):\n",
        "\n",
        "<p align=\"center\">\n",
        "    <img src=\"https://wikimedia.org/api/rest_v1/media/math/render/svg/b741fefbfb6a540afd9828f43870a6c551875ccd\"/>\n",
        "</p>\n",
        "\n",
        "- Alternativamente, a inclinaçã (m) pode ser escrita como uma razão entre covariâncias:\n",
        "\n",
        "<p align=\"center\">\n",
        "    <img src=\"https://wikimedia.org/api/rest_v1/media/math/render/svg/1bc9cae27820f2bd0d971e8ffaaaa31d64792d3d\"/>\n",
        "</p>\n",
        "\n",
        "- Já o intercepto (b) é calculado pela seguinte fórmula:\n",
        "\n",
        "                                                      b = média(y) - m.média(x)\n",
        "\n",
        "  - b --> intercepto\n",
        "  - média(y) --> média amostral da variável Y\n",
        "  - média(x) --> média amostral da variável X\n",
        "  - m --> inclinação\n",
        "\n"
      ]
    },
    {
      "cell_type": "markdown",
      "metadata": {
        "id": "Akldu3Pfdg43",
        "colab_type": "text"
      },
      "source": [
        "### Cálculo da Previsão\n",
        "\n",
        "- Fórmula para previsão:\n",
        "\n",
        "                                                             D = b + (m.I)\n",
        "\n",
        "  - D --> variável dependente\n",
        "  - b --> intercepto\n",
        "  - m --> inclinação\n",
        "  - I --> variável independente"
      ]
    },
    {
      "cell_type": "markdown",
      "metadata": {
        "id": "6dsA8i5beZ2M",
        "colab_type": "text"
      },
      "source": [
        "# Regressão Logística\n",
        "\n",
        "- Semelhante à Regressão Linear, porém a variável de resposta (dependente) é BINÁRIA: sucesso ou fracasso\n",
        "  - Fracasso --> 0\n",
        "  - Sucesso --> 1\n",
        "\n",
        "- Sucesso e Fracasso são representados por meio de PROBABILIDADES\n",
        "- A Regressão Logística pode ser SIMPLES (apenas uma variável independente tenta explicar a variável dependente)  ou MÚLTIPLA (duas ou mais variáveis independentes tentam explicar a variável dependente), assim como na regressão linear"
      ]
    },
    {
      "cell_type": "markdown",
      "metadata": {
        "id": "kvSXr7HivpaG",
        "colab_type": "text"
      },
      "source": [
        "## Regressão Logística no R\n",
        "\n",
        "- O objetivo desse exercício é prever se candidatos serão eleitos (1) ou não (0) a partir dos investimentos feitos por eles durante a campanha"
      ]
    },
    {
      "cell_type": "markdown",
      "metadata": {
        "id": "ZIFAZWNewHCT",
        "colab_type": "text"
      },
      "source": [
        "### df = read.csv (file.path ( ) , sep = ' ' , header = bool )\n",
        "\n",
        "- Parâmetros:\n",
        "  - file.path ( ) --> deve-se colocar o caminho do arquivo do dataset, em que cada termo é colocado entre aspas. A separação entre os termos é feita por vírgulas\n",
        "  - sep --> separador dos elementos do dataset\n",
        "  - header = bool:\n",
        "    - T --> o dataset tem cabeçalho\n",
        "    - F --> o dataset não tem cabeçalho"
      ]
    },
    {
      "cell_type": "code",
      "metadata": {
        "id": "PbDZsyMbtsbP",
        "colab_type": "code",
        "colab": {
          "base_uri": "https://localhost:8080/",
          "height": 195
        },
        "outputId": "028896ec-46f3-431c-c5ec-c92ee52839a5"
      },
      "source": [
        "# Importação do dataset e criação do df\n",
        "dataframe <- read.csv(file.path('/','content','/','Eleicao.csv'),sep=';',\n",
        "header=TRUE)\n",
        "# Visualização das 6 primeiras linhas do df criado\n",
        "head(dataframe)"
      ],
      "execution_count": 7,
      "outputs": [
        {
          "output_type": "display_data",
          "data": {
            "text/plain": [
              "  CANDIDATO      SITUACAO DESPESAS\n",
              "1 George Turner  0          10    \n",
              "2 Victor Johnson 0         100    \n",
              "3 Jerry Perry    1        1600    \n",
              "4 Shirley Cook   1        1500    \n",
              "5 Carolyn Bailey 1        3300    \n",
              "6 Susan Sanders  0         200    "
            ],
            "text/latex": "A data.frame: 6 × 3\n\\begin{tabular}{r|lll}\n  & CANDIDATO & SITUACAO & DESPESAS\\\\\n  & <fct> & <int> & <int>\\\\\n\\hline\n\t1 & George Turner  & 0 &   10\\\\\n\t2 & Victor Johnson & 0 &  100\\\\\n\t3 & Jerry Perry    & 1 & 1600\\\\\n\t4 & Shirley Cook   & 1 & 1500\\\\\n\t5 & Carolyn Bailey & 1 & 3300\\\\\n\t6 & Susan Sanders  & 0 &  200\\\\\n\\end{tabular}\n",
            "text/markdown": "\nA data.frame: 6 × 3\n\n| <!--/--> | CANDIDATO &lt;fct&gt; | SITUACAO &lt;int&gt; | DESPESAS &lt;int&gt; |\n|---|---|---|---|\n| 1 | George Turner  | 0 |   10 |\n| 2 | Victor Johnson | 0 |  100 |\n| 3 | Jerry Perry    | 1 | 1600 |\n| 4 | Shirley Cook   | 1 | 1500 |\n| 5 | Carolyn Bailey | 1 | 3300 |\n| 6 | Susan Sanders  | 0 |  200 |\n\n",
            "text/html": [
              "<table>\n",
              "<caption>A data.frame: 6 × 3</caption>\n",
              "<thead>\n",
              "\t<tr><th></th><th scope=col>CANDIDATO</th><th scope=col>SITUACAO</th><th scope=col>DESPESAS</th></tr>\n",
              "\t<tr><th></th><th scope=col>&lt;fct&gt;</th><th scope=col>&lt;int&gt;</th><th scope=col>&lt;int&gt;</th></tr>\n",
              "</thead>\n",
              "<tbody>\n",
              "\t<tr><th scope=row>1</th><td>George Turner </td><td>0</td><td>  10</td></tr>\n",
              "\t<tr><th scope=row>2</th><td>Victor Johnson</td><td>0</td><td> 100</td></tr>\n",
              "\t<tr><th scope=row>3</th><td>Jerry Perry   </td><td>1</td><td>1600</td></tr>\n",
              "\t<tr><th scope=row>4</th><td>Shirley Cook  </td><td>1</td><td>1500</td></tr>\n",
              "\t<tr><th scope=row>5</th><td>Carolyn Bailey</td><td>1</td><td>3300</td></tr>\n",
              "\t<tr><th scope=row>6</th><td>Susan Sanders </td><td>0</td><td> 200</td></tr>\n",
              "</tbody>\n",
              "</table>\n"
            ]
          },
          "metadata": {
            "tags": []
          }
        }
      ]
    },
    {
      "cell_type": "markdown",
      "metadata": {
        "id": "_CmkBld9zR-H",
        "colab_type": "text"
      },
      "source": [
        "### Scatterplot: Situação x Despesas\n",
        "\n",
        "- Há uma área duvidosa (400 <= despesas <= 700) em que alguns candidatos são eleitos (1) e outros não (0)\n",
        "- Para despesas < 400, nenhum candidato foi eleito\n",
        "- Para despesas >= 1300, todos os candidatos foram eleitos"
      ]
    },
    {
      "cell_type": "code",
      "metadata": {
        "id": "tUEEbVejyaTA",
        "colab_type": "code",
        "colab": {
          "base_uri": "https://localhost:8080/",
          "height": 437
        },
        "outputId": "440d8dda-0173-4045-f267-e78924240082"
      },
      "source": [
        "plot(dataframe$DESPESAS, dataframe$SITUACAO)"
      ],
      "execution_count": 8,
      "outputs": [
        {
          "output_type": "display_data",
          "data": {
            "image/png": "[encoded data removed]",
            "text/plain": [
              "plot without title"
            ]
          },
          "metadata": {
            "tags": [],
            "image/png": {
              "width": 420,
              "height": 420
            },
            "text/plain": {
              "width": 420,
              "height": 420
            }
          }
        }
      ]
    },
    {
      "cell_type": "markdown",
      "metadata": {
        "id": "UcoYpv641Fa6",
        "colab_type": "text"
      },
      "source": [
        "### summary (df)\n",
        "\n",
        "- Retorna as principais estatísticas descritivas de um df"
      ]
    },
    {
      "cell_type": "code",
      "metadata": {
        "id": "WWJBvhvHzkJw",
        "colab_type": "code",
        "colab": {
          "base_uri": "https://localhost:8080/",
          "height": 151
        },
        "outputId": "a0952977-8941-4377-aac9-857425b67dcc"
      },
      "source": [
        "summary(dataframe)\n",
        "\n",
        "# Sabe-se que a média de uma variável binária fornece uma informação de\n",
        "# probabilidade. Nesse sentido, aproximadamente 50% dos candidatos foram eleitos\n",
        "# e 50% não foram eleitos"
      ],
      "execution_count": 9,
      "outputs": [
        {
          "output_type": "display_data",
          "data": {
            "text/plain": [
              "             CANDIDATO     SITUACAO         DESPESAS   \n",
              "  Gary Peterson   : 1   Min.   :0.0000   Min.   :  10  \n",
              "  Pamela Bryant   : 1   1st Qu.:0.0000   1st Qu.: 300  \n",
              " Andrea Washington: 1   Median :1.0000   Median : 800  \n",
              " Annie Brooks     : 1   Mean   :0.5106   Mean   :1086  \n",
              " Anthony Harris   : 1   3rd Qu.:1.0000   3rd Qu.:1700  \n",
              " Barbara White    : 1   Max.   :1.0000   Max.   :3300  \n",
              " (Other)          :41                                  "
            ]
          },
          "metadata": {
            "tags": []
          }
        }
      ]
    },
    {
      "cell_type": "markdown",
      "metadata": {
        "id": "7x5gMvKD1tzk",
        "colab_type": "text"
      },
      "source": [
        "### Correlação: Situação x Despesas\n",
        "\n",
        "- A correlação entre ambas as variáveis é forte e positiva (~ 0.81)"
      ]
    },
    {
      "cell_type": "code",
      "metadata": {
        "id": "skqZW51J1NVS",
        "colab_type": "code",
        "colab": {
          "base_uri": "https://localhost:8080/",
          "height": 34
        },
        "outputId": "6281770a-cdf3-4382-ff34-8ba89b55bcc7"
      },
      "source": [
        "cor(dataframe$DESPESAS,dataframe$SITUACAO)"
      ],
      "execution_count": 10,
      "outputs": [
        {
          "output_type": "display_data",
          "data": {
            "text/plain": [
              "[1] 0.8121872"
            ],
            "text/latex": "0.812187165576407",
            "text/markdown": "0.812187165576407",
            "text/html": [
              "0.812187165576407"
            ]
          },
          "metadata": {
            "tags": []
          }
        }
      ]
    },
    {
      "cell_type": "markdown",
      "metadata": {
        "id": "BaZN2kkK2SJN",
        "colab_type": "text"
      },
      "source": [
        "### Criação do Modelo\n",
        "\n",
        "- O método \"glm\" é utilizado para gerar diversos modelos de regressão, diferentemente do método \"lm\" que, por sua vez, cria somente modelos de regressão linear (múltipla ou simples)\n",
        "- Parâmetros:\n",
        "  - 1º parâmetro --> variável dependente\n",
        "  - 2º parâmetro --> variável independente\n",
        "  - data --> dataset\n",
        "  - family --> tipo de regressão do modelo que será criado (e.g. a regressão logística é dada por \"binomial\")"
      ]
    },
    {
      "cell_type": "code",
      "metadata": {
        "id": "2Lgw6pWG1_EF",
        "colab_type": "code",
        "colab": {}
      },
      "source": [
        "# Criação do modelo\n",
        "log_model <- glm(SITUACAO ~ DESPESAS, data = dataframe, family = \"binomial\")"
      ],
      "execution_count": 11,
      "outputs": []
    },
    {
      "cell_type": "code",
      "metadata": {
        "id": "CXmJWqwD4SzH",
        "colab_type": "code",
        "colab": {
          "base_uri": "https://localhost:8080/",
          "height": 386
        },
        "outputId": "c454a221-483d-4e97-8a61-b91bbd7713e2"
      },
      "source": [
        "# Visualização do sumário estatístico do modelo criado\n",
        "summary(log_model)"
      ],
      "execution_count": 12,
      "outputs": [
        {
          "output_type": "display_data",
          "data": {
            "text/plain": [
              "\n",
              "Call:\n",
              "glm(formula = SITUACAO ~ DESPESAS, family = \"binomial\", data = dataframe)\n",
              "\n",
              "Deviance Residuals: \n",
              "     Min        1Q    Median        3Q       Max  \n",
              "-1.79020  -0.29574   0.00379   0.20326   2.10968  \n",
              "\n",
              "Coefficients:\n",
              "             Estimate Std. Error z value Pr(>|z|)    \n",
              "(Intercept) -4.602880   1.315934  -3.498 0.000469 ***\n",
              "DESPESAS     0.004984   0.001404   3.550 0.000385 ***\n",
              "---\n",
              "Signif. codes:  0 ‘***’ 0.001 ‘**’ 0.01 ‘*’ 0.05 ‘.’ 0.1 ‘ ’ 1\n",
              "\n",
              "(Dispersion parameter for binomial family taken to be 1)\n",
              "\n",
              "    Null deviance: 65.135  on 46  degrees of freedom\n",
              "Residual deviance: 18.540  on 45  degrees of freedom\n",
              "AIC: 22.54\n",
              "\n",
              "Number of Fisher Scoring iterations: 7\n"
            ]
          },
          "metadata": {
            "tags": []
          }
        }
      ]
    },
    {
      "cell_type": "markdown",
      "metadata": {
        "id": "GXSe_vSj4008",
        "colab_type": "text"
      },
      "source": [
        "### Visualização de Pontos Previstos"
      ]
    },
    {
      "cell_type": "code",
      "metadata": {
        "id": "Vc444-1e4ago",
        "colab_type": "code",
        "colab": {
          "base_uri": "https://localhost:8080/",
          "height": 437
        },
        "outputId": "3ec76645-1038-4d5b-ca8b-f61865246945"
      },
      "source": [
        "# Renderiza um scatterplot com pontos vermelhos \"col\" preenchidos \"pch\"\n",
        "plot(dataframe$DESPESAS, dataframe$SITUACAO, col='red', pch = 20)\n",
        "\n",
        "# Plotagem dos pontos que foram previstos pelo modelo\n",
        "points(dataframe$DESPESAS, log_model$fitted.values, col = 'green',pch = 4)\n",
        "\n",
        "# Note que os valores previstos retornam probabilidade de eleição de um\n",
        "# candidato e estão coerentes com a análise preliminar dos dados realizado no\n",
        "# item \"Scatterplot: Situação x Despesas\""
      ],
      "execution_count": 16,
      "outputs": [
        {
          "output_type": "display_data",
          "data": {
            "image/png": "[encoded data removed]",
            "text/plain": [
              "plot without title"
            ]
          },
          "metadata": {
            "tags": [],
            "image/png": {
              "width": 420,
              "height": 420
            },
            "text/plain": {
              "width": 420,
              "height": 420
            }
          }
        }
      ]
    },
    {
      "cell_type": "markdown",
      "metadata": {
        "id": "GJuTPLNS6juq",
        "colab_type": "text"
      },
      "source": [
        "### Utilização do Modelo para Prever a Situação de Novos Candidatos"
      ]
    },
    {
      "cell_type": "code",
      "metadata": {
        "id": "-syUXuVG5ZpH",
        "colab_type": "code",
        "colab": {
          "base_uri": "https://localhost:8080/",
          "height": 215
        },
        "outputId": "b2a4f0bd-e7c5-4f0f-fc44-f6270b485e82"
      },
      "source": [
        "# Inicialmente, importamos outro dataset com novos candidatos e seus respectivos\n",
        "# investimentos na campanha de candidatura\n",
        "novos_candidatos <- read.csv (file.path(\"/\",\"content\",\"/\",\"NovosCandidatos.csv\"),\n",
        "sep=';', header=T)\n",
        "novos_candidatos"
      ],
      "execution_count": 18,
      "outputs": [
        {
          "output_type": "display_data",
          "data": {
            "text/plain": [
              "  CANDIDATO DESPESAS\n",
              "1 A            0    \n",
              "2 B           10    \n",
              "3 C          200    \n",
              "4 D          500    \n",
              "5 E          900    \n",
              "6 F         1500    \n",
              "7 G         3000    "
            ],
            "text/latex": "A data.frame: 7 × 2\n\\begin{tabular}{ll}\n CANDIDATO & DESPESAS\\\\\n <fct> & <int>\\\\\n\\hline\n\t A &    0\\\\\n\t B &   10\\\\\n\t C &  200\\\\\n\t D &  500\\\\\n\t E &  900\\\\\n\t F & 1500\\\\\n\t G & 3000\\\\\n\\end{tabular}\n",
            "text/markdown": "\nA data.frame: 7 × 2\n\n| CANDIDATO &lt;fct&gt; | DESPESAS &lt;int&gt; |\n|---|---|\n| A |    0 |\n| B |   10 |\n| C |  200 |\n| D |  500 |\n| E |  900 |\n| F | 1500 |\n| G | 3000 |\n\n",
            "text/html": [
              "<table>\n",
              "<caption>A data.frame: 7 × 2</caption>\n",
              "<thead>\n",
              "\t<tr><th scope=col>CANDIDATO</th><th scope=col>DESPESAS</th></tr>\n",
              "\t<tr><th scope=col>&lt;fct&gt;</th><th scope=col>&lt;int&gt;</th></tr>\n",
              "</thead>\n",
              "<tbody>\n",
              "\t<tr><td>A</td><td>   0</td></tr>\n",
              "\t<tr><td>B</td><td>  10</td></tr>\n",
              "\t<tr><td>C</td><td> 200</td></tr>\n",
              "\t<tr><td>D</td><td> 500</td></tr>\n",
              "\t<tr><td>E</td><td> 900</td></tr>\n",
              "\t<tr><td>F</td><td>1500</td></tr>\n",
              "\t<tr><td>G</td><td>3000</td></tr>\n",
              "</tbody>\n",
              "</table>\n"
            ]
          },
          "metadata": {
            "tags": []
          }
        }
      ]
    },
    {
      "cell_type": "code",
      "metadata": {
        "id": "32KdBO2A7HjS",
        "colab_type": "code",
        "colab": {}
      },
      "source": [
        "# Criar uma nova coluna no df \"novos_canditatos\"\n",
        "novos_candidatos$SITUACAO_PREVISTA <- predict(log_model,\n",
        "newdata=novos_candidatos, type=\"response\")"
      ],
      "execution_count": 19,
      "outputs": []
    },
    {
      "cell_type": "code",
      "metadata": {
        "id": "I01iEME_7_tv",
        "colab_type": "code",
        "colab": {
          "base_uri": "https://localhost:8080/",
          "height": 50
        },
        "outputId": "a7b26ef9-f52c-496f-f8d8-e6c9fac3c1ed"
      },
      "source": [
        "# Visualizando as previsões realizadas\n",
        "novos_candidatos$SITUACAO_PREVISTA"
      ],
      "execution_count": 20,
      "outputs": [
        {
          "output_type": "display_data",
          "data": {
            "text/plain": [
              "[1] 0.009923466 0.010425261 0.026438255 0.108027149 0.470635921 0.946475247\n",
              "[7] 0.999967947"
            ],
            "text/latex": "\\begin{enumerate*}\n\\item 0.00992346602509472\n\\item 0.0104252614024675\n\\item 0.0264382547697668\n\\item 0.10802714867848\n\\item 0.470635920860994\n\\item 0.946475247380095\n\\item 0.999967946790996\n\\end{enumerate*}\n",
            "text/markdown": "1. 0.00992346602509472\n2. 0.0104252614024675\n3. 0.0264382547697668\n4. 0.10802714867848\n5. 0.470635920860994\n6. 0.946475247380095\n7. 0.999967946790996\n\n\n",
            "text/html": [
              "<style>\n",
              ".list-inline {list-style: none; margin:0; padding: 0}\n",
              ".list-inline>li {display: inline-block}\n",
              ".list-inline>li:not(:last-child)::after {content: \"\\00b7\"; padding: 0 .5ex}\n",
              "</style>\n",
              "<ol class=list-inline><li>0.00992346602509472</li><li>0.0104252614024675</li><li>0.0264382547697668</li><li>0.10802714867848</li><li>0.470635920860994</li><li>0.946475247380095</li><li>0.999967946790996</li></ol>\n"
            ]
          },
          "metadata": {
            "tags": []
          }
        }
      ]
    },
    {
      "cell_type": "code",
      "metadata": {
        "id": "SQmqnZXO8HIT",
        "colab_type": "code",
        "colab": {
          "base_uri": "https://localhost:8080/",
          "height": 215
        },
        "outputId": "124806b3-7c51-489a-d76c-48467ef765ef"
      },
      "source": [
        "# Visualização do df agora com os valores previstos\n",
        "novos_candidatos\n",
        "\n",
        "# Note que os resultados previstos nunca serão exatamente 0 ou 1"
      ],
      "execution_count": 22,
      "outputs": [
        {
          "output_type": "display_data",
          "data": {
            "text/plain": [
              "  CANDIDATO DESPESAS SITUACAO_PREVISTA\n",
              "1 A            0     0.009923466      \n",
              "2 B           10     0.010425261      \n",
              "3 C          200     0.026438255      \n",
              "4 D          500     0.108027149      \n",
              "5 E          900     0.470635921      \n",
              "6 F         1500     0.946475247      \n",
              "7 G         3000     0.999967947      "
            ],
            "text/latex": "A data.frame: 7 × 3\n\\begin{tabular}{lll}\n CANDIDATO & DESPESAS & SITUACAO\\_PREVISTA\\\\\n <fct> & <int> & <dbl>\\\\\n\\hline\n\t A &    0 & 0.009923466\\\\\n\t B &   10 & 0.010425261\\\\\n\t C &  200 & 0.026438255\\\\\n\t D &  500 & 0.108027149\\\\\n\t E &  900 & 0.470635921\\\\\n\t F & 1500 & 0.946475247\\\\\n\t G & 3000 & 0.999967947\\\\\n\\end{tabular}\n",
            "text/markdown": "\nA data.frame: 7 × 3\n\n| CANDIDATO &lt;fct&gt; | DESPESAS &lt;int&gt; | SITUACAO_PREVISTA &lt;dbl&gt; |\n|---|---|---|\n| A |    0 | 0.009923466 |\n| B |   10 | 0.010425261 |\n| C |  200 | 0.026438255 |\n| D |  500 | 0.108027149 |\n| E |  900 | 0.470635921 |\n| F | 1500 | 0.946475247 |\n| G | 3000 | 0.999967947 |\n\n",
            "text/html": [
              "<table>\n",
              "<caption>A data.frame: 7 × 3</caption>\n",
              "<thead>\n",
              "\t<tr><th scope=col>CANDIDATO</th><th scope=col>DESPESAS</th><th scope=col>SITUACAO_PREVISTA</th></tr>\n",
              "\t<tr><th scope=col>&lt;fct&gt;</th><th scope=col>&lt;int&gt;</th><th scope=col>&lt;dbl&gt;</th></tr>\n",
              "</thead>\n",
              "<tbody>\n",
              "\t<tr><td>A</td><td>   0</td><td>0.009923466</td></tr>\n",
              "\t<tr><td>B</td><td>  10</td><td>0.010425261</td></tr>\n",
              "\t<tr><td>C</td><td> 200</td><td>0.026438255</td></tr>\n",
              "\t<tr><td>D</td><td> 500</td><td>0.108027149</td></tr>\n",
              "\t<tr><td>E</td><td> 900</td><td>0.470635921</td></tr>\n",
              "\t<tr><td>F</td><td>1500</td><td>0.946475247</td></tr>\n",
              "\t<tr><td>G</td><td>3000</td><td>0.999967947</td></tr>\n",
              "</tbody>\n",
              "</table>\n"
            ]
          },
          "metadata": {
            "tags": []
          }
        }
      ]
    }
  ]
}