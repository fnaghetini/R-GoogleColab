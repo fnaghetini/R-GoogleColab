{
  "nbformat": 4,
  "nbformat_minor": 0,
  "metadata": {
    "colab": {
      "name": "R-Distribuição de Poisson, Qui Quadrado e ANOVA.ipynb",
      "provenance": [],
      "collapsed_sections": []
    },
    "kernelspec": {
      "name": "ir",
      "display_name": "R"
    }
  },
  "cells": [
    {
      "cell_type": "markdown",
      "metadata": {
        "id": "ICAsMT_Vl_i0",
        "colab_type": "text"
      },
      "source": [
        "# Análise Exploratória dos Dados (AED)"
      ]
    },
    {
      "cell_type": "markdown",
      "metadata": {
        "id": "g_4ROh08nGc-",
        "colab_type": "text"
      },
      "source": [
        "## Origem\n",
        "\n",
        "- Termo que foi solidificado quando John Wilder Tukey publicou o livro \"Exploratory Data Analysis\""
      ]
    },
    {
      "cell_type": "markdown",
      "metadata": {
        "id": "7xRRIp0LngAT",
        "colab_type": "text"
      },
      "source": [
        "## Objetivo\n",
        "\n",
        "- Buscar informações ocultas nos dados\n",
        "- Antes de partir para a solução dos problemas, deve-se explorar/conhecer a base de dados\n",
        "- É uma etapa preliminar essencial tanto para projetos de ML, quanto para estudos geoestatísticos, pois a partir da AED, é possível obter insights sobre os dados\n",
        "- Alguns tipos de informações buscados:\n",
        "  - Variabilidade dos dados\n",
        "  - Detecção de eventuais anomalias\n",
        "  - Distribuição das variáveis\n",
        "  - Correlações entre variáveis\n",
        "  - Padrões dos dados\n",
        "  - Tendências apresentadas pelos dados\n",
        "- A AED deve ser a primeira etapa da resolução de um problema\n"
      ]
    },
    {
      "cell_type": "markdown",
      "metadata": {
        "id": "4tBuLqdgo8l7",
        "colab_type": "text"
      },
      "source": [
        "## AED e Gráficos\n",
        "\n",
        "- Os gráficos não estão restritos apenas à AED, mas são produtos extremamente importantes para essa etapa do projeto\n",
        "\n",
        "- Alguns tipos de gráficos utilizados na AED:\n",
        "  - Histogramas\n",
        "  - PDF\n",
        "  - CDF\n",
        "  - Boxplot\n",
        "  - Scatterplots\n",
        "  - Q-Q Plots\n",
        "  - H-Scatterplots"
      ]
    },
    {
      "cell_type": "markdown",
      "metadata": {
        "id": "Pa6RBG1-qNix",
        "colab_type": "text"
      },
      "source": [
        "# Distribuição de Poisson\n",
        "\n",
        "- Também é uma distribuição de probabilidade\n",
        "\n",
        "- Mede a probabilidade da ocorrência de eventos em um INTERVALO DE TEMPO, em vez de um número certo/conhecido de eventos (e.g. distribuição binomial)\n",
        "\n",
        "- Em outras palavras, modela o número de vezes que um evento ocorre em um determinado intervalo de tempo ou espaço\n",
        "\n",
        "- Os eventos, a cada intervalo de tempo, devem ser INDEPENDENTES"
      ]
    },
    {
      "cell_type": "markdown",
      "metadata": {
        "id": "NlG3rpkUrKJ8",
        "colab_type": "text"
      },
      "source": [
        "## Tipos de Probabilidade que Podem Ser Calculadas\n",
        "\n",
        "- P(X = x)\n",
        "  - e.g. qual é a probabilidade de ocorrerem EXATAMENTE 3 acidentes de carros em um dia em 7L\n",
        "\n",
        "- P(X < x)\n",
        "  - e.g. qual é a probabilidade de ocorrerem MENOS de 3 acidentes de carros em um dia em 7L\n",
        "\n",
        "- P(X > x)\n",
        "  - e.g. qual é a probabilidade de ocorrerem MAIS de 3 acidentes de carros em um dia em 7L\n",
        "\n",
        "- OBS.: é possível, ainda, calcular P(X <= x) e P(X >= x)"
      ]
    },
    {
      "cell_type": "markdown",
      "metadata": {
        "id": "bftnkcMythM5",
        "colab_type": "text"
      },
      "source": [
        "## Fórmula para P(X = x)\n",
        "\n",
        "<p align=\"center\">\n",
        "    <img src=\"https://wikimedia.org/api/rest_v1/media/math/render/svg/c22cb4461e100a6db5f815de1f44b1747f160048\"/>\n",
        "</p>\n",
        "\n",
        "Parâmetro:\n",
        "- lambda --> número médio de eventos que ocorrem por intervalo\n",
        "- k --> número de eventos que serão calculados (e.g. 3 acidentes)\n",
        "- X --> variável aleatória discreta\n",
        "- e --> número de Euler (2.71828)"
      ]
    },
    {
      "cell_type": "markdown",
      "metadata": {
        "id": "Co1aVJLhwEGN",
        "colab_type": "text"
      },
      "source": [
        "## Exemplo 1\n",
        "\n",
        "- O número de acidentes de carro que ocorrem por dia é de 2. Qual é a probabilidade de ocorrerem EXATAMENTE 3 acidentes em determinado dia?\n",
        "- Parâmetros:\n",
        "  - lambda --> 2\n",
        "  - X --> número de acidentes\n",
        "  - k --> 3\n",
        "  - P(X = 3) --> ?\n",
        "\n",
        "- Substituido essas informações na fórmula acima, temos que:\n",
        "                                                    P(X = 3) = 0.1804 ~ 18%\n",
        "\n"
      ]
    },
    {
      "cell_type": "markdown",
      "metadata": {
        "id": "wQj8iRnh0OVK",
        "colab_type": "text"
      },
      "source": [
        "## Exemplo 2\n",
        "\n",
        "- Ocorrem, em média 2 acidentes de carros por dia. Qual é a probabilidade de ocorrem 3 OU MENOS acidentes em um dia?\n",
        "\n",
        "- Parâmetros:\n",
        "  - lambda --> 2\n",
        "  - X --> número de acidentes\n",
        "  - k --> 3\n",
        "  - P(X <= 3) --> ?\n",
        "\n",
        "- Nesse caso, devemos calcular todas as probabilidades menores ou iguais a 3 e depois somá-las:\n",
        "  - P(X = 0)\n",
        "  - P(X = 1)\n",
        "  - P(X = 2)\n",
        "  - P(X = 3)\n",
        "- Substituido na fórmula (altera-se apenas o valor de k), temos que:\n",
        "  - P(X = 0) = 0.1353\n",
        "  - P(X = 1) = 0.2707\n",
        "  - P(X = 2) = 0.2707\n",
        "  - P(X = 3) = 0.1804\n",
        "\n",
        "- O resultado é a soma de todas essas probabilidades:\n",
        "  - P(X <= 3) ~ 0.86 = 86%"
      ]
    },
    {
      "cell_type": "markdown",
      "metadata": {
        "id": "oHC1Sbay1keG",
        "colab_type": "text"
      },
      "source": [
        "## Exemplo 3\n",
        "\n",
        "- Ocorrem, em média 2 acidentes de carros por dia. Qual é a probabilidade de ocorrem MAIS DE 3 acidentes em um dia?\n",
        "\n",
        "- Parâmetros:\n",
        "  - lambda --> 2\n",
        "  - X --> número de acidentes\n",
        "  - k --> 3\n",
        "  - P(X >= 3) --> ?\n",
        "- Nesse caso, devemos calcular todas as probabilidades menores ou iguais a 3 e depois somá-las:\n",
        "  - P(X = 0)\n",
        "  - P(X = 1)\n",
        "  - P(X = 2)\n",
        "  - P(X = 3)\n",
        "- Substituido na fórmula (altera-se apenas o valor de k), temos que:\n",
        "  - P(X = 0) = 0.1353\n",
        "  - P(X = 1) = 0.2707\n",
        "  - P(X = 2) = 0.2707\n",
        "  - P(X = 3) = 0.1804\n",
        "\n",
        "- O resultado é a soma de todas essas probabilidades:\n",
        "  - P(X <= 3) ~ 0.86 = 86%\n",
        "\n",
        "- Até então fizemos o mesmo procedimento realizado para o exemplo 2. Entretanto, para encontrar P(X >= 3), devemos fazer:\n",
        "                                                      P(X > 3) = 1 - P(X <= 3)\n",
        "\n",
        "- Portanto, temos que:\n",
        "  - P(X > 3) = 1 - P(X <= 3) = 1 - 0.86 = 0.14 = 14%"
      ]
    },
    {
      "cell_type": "markdown",
      "metadata": {
        "id": "aCxYrIBr2n_E",
        "colab_type": "text"
      },
      "source": [
        "## Distribuição de Poisson no R\n",
        "\n",
        "- dpois (k,lambda = ) --> P(X = x)\n",
        "\n",
        "- ppois(k,lambda = ,lower.tail = T) --> P(X <= x)\n",
        "\n",
        "- ppois(k,lambda = ,lower.tail = F) --> P(X > x)\n",
        "\n",
        "- ppois(k,lambda = ,lower.tail = T) - dpois (k,lambda = ) --> P(X < x)\n",
        "\n",
        "- ppois(k,lambda = ,lower.tail = F) + dpois (k,lambda = ) --> P(X >= x)\n",
        "  - OBS.: note que nos métodos \"ppois\" é representada a probabilidade MENOR OU IGUAL/MAIOR QUE. Caso queiramos apenas a probabilidade do tipo P(X < x) devemos subtrair o termo P(X = x). Caso queiramos a probabilidade do tipo P(X >= x), devemos somar o termo P(X = x)\n",
        "\n",
        "- Parâmetros:\n",
        "  - lambda --> média de eventos que ocorrem por intervalo\n",
        "  - k --> número de eventos que serão calculados"
      ]
    },
    {
      "cell_type": "markdown",
      "metadata": {
        "id": "QKMoqyGE30P6",
        "colab_type": "text"
      },
      "source": [
        "### Exemplo 1 - P(X = x)\n",
        "\n",
        "- O número de acidentes de carro que ocorrem por dia é de 2. Qual é a probabilidade de ocorrerem EXATAMENTE 3 acidentes em determinado dia?\n",
        "- Parâmetros:\n",
        "  - lambda --> 2\n",
        "  - X --> número de acidentes\n",
        "  - k --> 3\n",
        "  - P(X = 3) --> ?"
      ]
    },
    {
      "cell_type": "code",
      "metadata": {
        "id": "8L1VxWo51e8M",
        "colab_type": "code",
        "colab": {
          "base_uri": "https://localhost:8080/",
          "height": 34
        },
        "outputId": "5059bbe5-7d5e-41f9-ba9e-c10a080aca4c"
      },
      "source": [
        "# P(X = 3) ~ 18%\n",
        "dpois(3,lambda=2)"
      ],
      "execution_count": null,
      "outputs": [
        {
          "output_type": "display_data",
          "data": {
            "text/plain": [
              "[1] 0.180447"
            ],
            "text/latex": "0.180447044315484",
            "text/markdown": "0.180447044315484",
            "text/html": [
              "0.180447044315484"
            ]
          },
          "metadata": {
            "tags": []
          }
        }
      ]
    },
    {
      "cell_type": "markdown",
      "metadata": {
        "id": "n0WdNYeV5h_Z",
        "colab_type": "text"
      },
      "source": [
        "### Exemplo 2 - P(X <= x)\n",
        "\n",
        "- O número de acidentes de carro que ocorrem por dia é de 2. Qual é a probabilidade de ocorrerem 3 OU MENOS acidentes em determinado dia?\n",
        "- Parâmetros:\n",
        "  - lambda --> 2\n",
        "  - X --> número de acidentes\n",
        "  - k --> 3\n",
        "  - P(X <= 3) --> ?"
      ]
    },
    {
      "cell_type": "code",
      "metadata": {
        "id": "Mo_Jl2b73-EV",
        "colab_type": "code",
        "colab": {
          "base_uri": "https://localhost:8080/",
          "height": 34
        },
        "outputId": "9c948db8-d19a-4111-ac98-8a9d2e6aea83"
      },
      "source": [
        "# P(X >= 3) ~ 86%\n",
        "ppois(3,lambda=2,lower.tail=T)"
      ],
      "execution_count": null,
      "outputs": [
        {
          "output_type": "display_data",
          "data": {
            "text/plain": [
              "[1] 0.8571235"
            ],
            "text/latex": "0.857123460498547",
            "text/markdown": "0.857123460498547",
            "text/html": [
              "0.857123460498547"
            ]
          },
          "metadata": {
            "tags": []
          }
        }
      ]
    },
    {
      "cell_type": "markdown",
      "metadata": {
        "colab_type": "text",
        "id": "DeXD81vY6yaE"
      },
      "source": [
        "### Exemplo 3 - P(X >= x)\n",
        "\n",
        "- O número de acidentes de carro que ocorrem por dia é de 2. Qual é a probabilidade de ocorrerem 3 OU MAIS acidentes em determinado dia?\n",
        "- Parâmetros:\n",
        "  - lambda --> 2\n",
        "  - X --> número de acidentes\n",
        "  - k --> 3\n",
        "  - P(X >= 3) --> ?"
      ]
    },
    {
      "cell_type": "code",
      "metadata": {
        "id": "mq_gJADh6AgR",
        "colab_type": "code",
        "colab": {
          "base_uri": "https://localhost:8080/",
          "height": 34
        },
        "outputId": "186e5737-9043-471b-9e44-1164979d83e3"
      },
      "source": [
        "# P(X > 3) ~ 14%\n",
        "ppois(3,lambda=2,lower.tail=F)"
      ],
      "execution_count": null,
      "outputs": [
        {
          "output_type": "display_data",
          "data": {
            "text/plain": [
              "[1] 0.1428765"
            ],
            "text/latex": "0.142876539501453",
            "text/markdown": "0.142876539501453",
            "text/html": [
              "0.142876539501453"
            ]
          },
          "metadata": {
            "tags": []
          }
        }
      ]
    },
    {
      "cell_type": "markdown",
      "metadata": {
        "id": "hiDv54UD_-5R",
        "colab_type": "text"
      },
      "source": [
        "# Qui Quadrado\n",
        "\n",
        "- É uma tipo de teste estatístico (Teste de Hipótese)\n",
        "\n",
        "- O Teste Qui Quadrado de Pearson é utilizado para verificar se existe uma diferença estatística significante entre as frequências esperadas e as frequências observadas para uma ou mais categorias"
      ]
    },
    {
      "cell_type": "markdown",
      "metadata": {
        "id": "70xWeRDeWruB",
        "colab_type": "text"
      },
      "source": [
        "## Exemplo\n",
        "\n",
        "- Foram entrevistadas 100 pessoas: 75 mulheres e 25 homens. Elas responderam se assistiam ou não novela.\n",
        "\n",
        "- 62% das pessoas responderam que assistem novela, enquanto 38% responderam que não assistem.\n",
        "\n",
        "- Queremos descobrir se essa proporção (assistem/não assistem novela) é influenciada pelo sexo do entrevistado ou não. Em outras palavras, queremos saber se as variáveis \"Assiste Novela\" e \"Sexo\" são independentes ou não.\n",
        "\n",
        "- Frequência esperada:\n",
        "  - Assistem novela:\n",
        "    - Homens --> 62% de 25 = 15.5\n",
        "    - Mulheres --> 62% de 75 = 46.5\n",
        "  - Não assistem novela:\n",
        "    - Homens --> 38% de 25 = 9.5\n",
        "    - Mulheres --> 38% de 75 = 28.5\n",
        "\n",
        "- Frequência observada:\n",
        "  - Assistem novela:\n",
        "    - Homens --> 19\n",
        "    - Mulheres --> 43\n",
        "  - Não assistem novela:\n",
        "    - Homens --> 6\n",
        "    - Mulheres --> 32\n",
        "\n",
        "- Pelos resultados observados, aparentemente as variáveis apresentam uma relação entre si (i.e. são dependentes).\n",
        "\n",
        "- Devemos, nesse sentido, verificar se essa diferença entre as proporções esperada e observada é de fato significante do ponto de vista estatístico. Portanto, devemos realizar um Teste Qui Quadrado para avaliar essa situação.\n",
        "\n",
        "  - Hipótese nula (H0) --> não há diferença significativa entre as proporções, além de diferenças relacionadas ao acaso"
      ]
    },
    {
      "cell_type": "markdown",
      "metadata": {
        "id": "2sfA4SHmfWMM",
        "colab_type": "text"
      },
      "source": [
        "## Qui Quadrado no R\n",
        "\n",
        "                                                                    chisq.test (dataset)"
      ]
    },
    {
      "cell_type": "code",
      "metadata": {
        "id": "fIJetIW-fIje",
        "colab_type": "code",
        "colab": {}
      },
      "source": [
        "# Criação do dataset com os mesmos dados do exemplo\n",
        "novela <- matrix(c(19,6,43,32),nrow=2,byrow=T)"
      ],
      "execution_count": null,
      "outputs": []
    },
    {
      "cell_type": "code",
      "metadata": {
        "id": "ZF5aOgHlgP_5",
        "colab_type": "code",
        "colab": {
          "base_uri": "https://localhost:8080/",
          "height": 95
        },
        "outputId": "88310dfa-8305-42f9-819d-9f270528ac13"
      },
      "source": [
        "# Renomeando linhas da matriz\n",
        "rownames(novela) <- c(\"Masculino\",\"Feminino\")\n",
        "# Renomeando colunas da matriz\n",
        "colnames(novela) <- c(\"Assiste\",\"Nao_Assiste\")\n",
        "# Visualizando matriz\n",
        "novela"
      ],
      "execution_count": null,
      "outputs": [
        {
          "output_type": "display_data",
          "data": {
            "text/plain": [
              "          Assiste Nao_Assiste\n",
              "Masculino 19       6         \n",
              "Feminino  43      32         "
            ],
            "text/latex": "A matrix: 2 × 2 of type dbl\n\\begin{tabular}{r|ll}\n  & Assiste & Nao\\_Assiste\\\\\n\\hline\n\tMasculino & 19 &  6\\\\\n\tFeminino & 43 & 32\\\\\n\\end{tabular}\n",
            "text/markdown": "\nA matrix: 2 × 2 of type dbl\n\n| <!--/--> | Assiste | Nao_Assiste |\n|---|---|---|\n| Masculino | 19 |  6 |\n| Feminino | 43 | 32 |\n\n",
            "text/html": [
              "<table>\n",
              "<caption>A matrix: 2 × 2 of type dbl</caption>\n",
              "<thead>\n",
              "\t<tr><th></th><th scope=col>Assiste</th><th scope=col>Nao_Assiste</th></tr>\n",
              "</thead>\n",
              "<tbody>\n",
              "\t<tr><th scope=row>Masculino</th><td>19</td><td> 6</td></tr>\n",
              "\t<tr><th scope=row>Feminino</th><td>43</td><td>32</td></tr>\n",
              "</tbody>\n",
              "</table>\n"
            ]
          },
          "metadata": {
            "tags": []
          }
        }
      ]
    },
    {
      "cell_type": "code",
      "metadata": {
        "id": "9dEiCVQJhNu-",
        "colab_type": "code",
        "colab": {
          "base_uri": "https://localhost:8080/",
          "height": 101
        },
        "outputId": "e18183c8-7c7c-4586-e35a-f1c948158df1"
      },
      "source": [
        "# Teste Qui Quadrado\n",
        "chisq.test(novela)\n",
        "\n",
        "# Alfa = 0.05\n",
        "# Valor-p = 0.1535\n",
        "# Como Alfa < Valor-p, não podemos descartar a hipótese nula (H0). Nesse\n",
        "# sentido, até então, as variáveis são INDEPENDENTES, já que, por meio do\n",
        "# Teste Qui Quadrado, não foi constatada uma diferença estatística\n",
        "# significativa, além do acaso"
      ],
      "execution_count": null,
      "outputs": [
        {
          "output_type": "display_data",
          "data": {
            "text/plain": [
              "\n",
              "\tPearson's Chi-squared test with Yates' continuity correction\n",
              "\n",
              "data:  novela\n",
              "X-squared = 2.0374, df = 1, p-value = 0.1535\n"
            ]
          },
          "metadata": {
            "tags": []
          }
        }
      ]
    },
    {
      "cell_type": "markdown",
      "metadata": {
        "id": "jr2SibORokmY",
        "colab_type": "text"
      },
      "source": [
        "# Teste T-Student & ANOVA\n",
        "\n",
        "- É uma coleção de modelos estatísticos e seus procedimentos de estimativa associados (e.g. variação inter e intragrupos) utilizada para analisar as diferenças entre as médias de grupos de uma amostra\n",
        "\n"
      ]
    },
    {
      "cell_type": "markdown",
      "metadata": {
        "id": "IDxH_zJbpk0K",
        "colab_type": "text"
      },
      "source": [
        "## Exemplo 1\n",
        "\n",
        "- Temos dois remédios (grupos) criados para amenizar dores causadas por uma doença. Queremos comprar um lote bem grande desses remédios:\n",
        "  - Remédio A --> 100,00\n",
        "  - Remédio B --> 120,00\n",
        "\n",
        "- Fizemos 8 testes com cada remédio para avaliar o número de horas que eles demoravam para fazer efeito. Se o remédio mais caro fizer efeito mais rápido, não me importarei de pagar a mais.\n",
        "\n",
        "- Obtivemos os seguintes resultados de média de variação dos testes:\n",
        "  - Remédio/grupo A --> 7.750\n",
        "  - Remédio/grupo B --> 6.875\n",
        "\n",
        "- Pelo que foi observado após os testes, o remédio B (mais caro) varia menos e, portanto, faz efeito mais rápido. Entretanto, deve-se avaliar dois pontos para verificar se, de fato, o remédio B faz efeito mais rápido:\n",
        "  - A variação observada nos testes representa de fato a variação entre os remédios ou representa a variação do acaso entre os testes realizados? Em outras palavras, essa variação observada representa de fato a variação entre os remédios ou representa uma variação entre as pessoas que testaram os remédios?\n",
        "  - Se a variação for de fato entre os remédios, ela é significativa do ponto de vista estatístico?\n",
        "\n",
        "- Variáveis:\n",
        "  - Variável dependente --> observações/testes\n",
        "  - Variável independete --> remédio"
      ]
    },
    {
      "cell_type": "markdown",
      "metadata": {
        "id": "e3S7LdoUtZtf",
        "colab_type": "text"
      },
      "source": [
        "## Teste T-Student\n",
        "\n",
        "- Quando queremos comparar apenas dois grupos (caso do exemplo acima), podemos utilizar o Teste T-Student\n",
        "\n",
        "- É um tipo de teste de hipótese que compara as médias de cada um dos dois grupos. Ele retorna se há uma variação estatística significante entre os dois grupos ou se a variação é fruto apenas do acaso das observações\n",
        "\n",
        "- Pré-requisitos para executar este teste:\n",
        "  - As duas populações/grupos são INDEPENDENTES\n",
        "  - A variável dependente é normalmente distribuída\n",
        "  - A variância entre as duas variáveis é aproximada\n",
        "\n",
        "- Portanto, o Teste T-Student é útil para comparar DUAS populações/grupos\n",
        "\n",
        "- Se quisermos comparar 3 OU MAIS grupos/populações, não é recomendado utilizar o Teste T-Student\n",
        "\n",
        "- Portanto, para o Exemplo 1, podemos utilizar o Teste T-Student"
      ]
    },
    {
      "cell_type": "markdown",
      "metadata": {
        "id": "S8xwBcO4u3Wp",
        "colab_type": "text"
      },
      "source": [
        "## Exemplo 2\n",
        "\n",
        "- Temos três remédios (grupos) criados para amenizar dores causadas por uma doença. Queremos comprar um lote bem grande desses remédios:\n",
        "  - Remédio A --> 100,00\n",
        "  - Remédio B --> 120,00\n",
        "  - Remédio C --> 130,00\n",
        "\n",
        "- Fizemos 8 testes com cada remédio para avaliar o número de horas que eles demoravam para fazer efeito. Se o remédio mais caro fizer efeito mais rápido, não me importarei de pagar a mais.\n",
        "\n",
        "- Obtivemos os seguintes resultados de média de variação dos testes:\n",
        "  - Remédio/grupo A --> 7.500\n",
        "  - Remédio/grupo B --> 7.875\n",
        "  - Remédio/grupo C --> 6.875\n",
        "\n",
        "- Pelo que foi observado após os testes, o remédio C (mais caro) varia menos e, portanto, faz efeito mais rápido. Entretanto, deve-se avaliar dois pontos para verificar se, de fato, o remédio C faz efeito mais rápido:\n",
        "  - A variação observada nos testes representa de fato a variação entre os remédios ou representa a variação do acaso entre os testes realizados? Em outras palavras, essa variação observada representa de fato a variação entre os remédios ou representa uma variação entre as pessoas que testaram os remédios?\n",
        "  - Se a variação for de fato entre os remédios, ela é significativa do ponto de vista estatístico?\n",
        "\n",
        "- Variáveis:\n",
        "  - Variável dependente --> observações/testes\n",
        "  - Variável independete --> remédio\n",
        "\n",
        "- Em termos de variáveis, queremos verificar se as variações ocorrem na variável dependente (observações/teste) ou na variável independente (remédio)"
      ]
    },
    {
      "cell_type": "markdown",
      "metadata": {
        "id": "EhGVIdCLwPnt",
        "colab_type": "text"
      },
      "source": [
        "## Análise de Variância (ANOVA)\n",
        "\n",
        "- Assim como o Teste T-Student, também é um teste de hipótese\n",
        "\n",
        "- É utilizado para comparar 3 OU MAIS grupos/populações\n",
        "\n",
        "- As populações devem representar:\n",
        "  - 1 variável quantitativa (e.g. horas que o remédio leva para fazer efeito - observações)\n",
        "  - 1 ou mais variáveis categóricas (e.g. remédios)\n",
        "\n",
        "- Ao invés de comparar pares de grupos (Teste T-Student), compara todo o conjunto de uma vez\n",
        "\n",
        "- Teste de Hipótese:\n",
        "  - H0 --> não há diferença estatística significativa (além do acaso) no tempo de efeito entre as diferentes marcas de remédio \n",
        "  - Ha --> há diferença estatística significativa (além do acaso) no tempo de efeito entre as diferentes marcas de remédio \n",
        "  - Iremos supor (como em todos os outros testes de hipótese), inicialmente, que a H0 está correta. Queremos, entretanto, encontrar evidências de que a H0 pode ser descartada e que a Ha é mais válida"
      ]
    },
    {
      "cell_type": "markdown",
      "metadata": {
        "id": "I_l8YkWPybvF",
        "colab_type": "text"
      },
      "source": [
        "### Por que não se compara os grupos aos pares?\n",
        "\n",
        "- Por que não podemos realizar a comparação de grupos, utilizando dois grupos de cada vez?\n",
        "\n",
        "- Se isso fosse feito para a comparação entre 20 grupos, teríamos que realizar 190 comparações. Isso aumentaria muito as chances de se ter um Erro Tipo I"
      ]
    },
    {
      "cell_type": "markdown",
      "metadata": {
        "id": "GaXk_TbRzOzG",
        "colab_type": "text"
      },
      "source": [
        "### Teste F/Estatística F\n",
        "\n",
        "- A Análise de Variância (ANOVA) é feita através do Teste F\n",
        "\n",
        "- O Teste F pode ser representado como:\n",
        "                                                                 F (X,Y)\n",
        "                                                              \n",
        "- Parâmetros de entrada do Teste F:\n",
        "  - X --> graus de liberdade (número de grupos -1)\n",
        "  - Y --> graus de liberdade no denominador (número de observações - número de grupos)\n",
        "\n",
        "- Hipótese Nula (H0) --> não há variação significativa do ponto de vista estatístico entre os grupos (além da variação gerada pelo acaso)\n",
        "\n",
        "- Hipótese Alternativa (Ha) --> há variação significativa do ponto de vista estatístico entre os grupos\n",
        "\n",
        "- Resultados:\n",
        "  - Valor-p < Alfa --> descarta-se H0 (há variação significativa entre os grupos)\n",
        "  - Valor-p > Alfa --> não descarta H0 (não há variação significativa entre os grupos)"
      ]
    },
    {
      "cell_type": "markdown",
      "metadata": {
        "id": "xL67XVRp1DEA",
        "colab_type": "text"
      },
      "source": [
        "### Análise de Variância de Dois Fatores\n",
        "\n",
        "- Imagine que, além de verificar se a variação ocorre entre os diferentes grupos de remédios ou entre as pessoas que testaram os remédios (observações), deseja-se verificar se a variação pode ter ocorrido em função do sexo do paciente que testou o remédio\n",
        "\n",
        "- Nessa situação, estamos avaliando DOIS FATORES (remédio e sexo), e não mais um, como no caso anterior"
      ]
    },
    {
      "cell_type": "markdown",
      "metadata": {
        "id": "6YR0-cbu11oc",
        "colab_type": "text"
      },
      "source": [
        "### Teste de Tukey\n",
        "\n",
        "- É realizado caso a ANOVA ateste que há uma variação significativa entre os grupos, ou seja, quando H0 pôde ter sido rejeitada após a ANOVA\n",
        "\n",
        "- Se pretendemos verificar se existe variação entre diversos grupos distintos e queremos descobrir exatamente entre quais grupos essa diferença se manifesta, existem diversos tipos de testes que podem ser realizados. Um deles é o Teste de Tukey\n",
        "\n",
        "- No R, para fazer o Teste de Tukey, ele recebe como parâmetro de entrada apenas o objeto de ANOVA criado previamente"
      ]
    },
    {
      "cell_type": "markdown",
      "metadata": {
        "id": "uDWkePgO20Rj",
        "colab_type": "text"
      },
      "source": [
        "## ANOVA no R"
      ]
    },
    {
      "cell_type": "markdown",
      "metadata": {
        "id": "g6q2f0bu3K3L",
        "colab_type": "text"
      },
      "source": [
        "### Métodos\n",
        "\n",
        "- Teste T:\n",
        "                                                          t.test (Y ~ X)\n",
        "\n",
        "- ANOVA:\n",
        "  - 1 Fator:\n",
        "                                        aov (var_dependente ~ var_independente, data = dados)\n",
        "  - 2 Fatores:\n",
        "                            aov (var_dependente ~ var_independente * var_independente, data = dados)\n",
        "\n",
        "- Teste de Tukey:\n",
        "                                                            TukeyHSD (aov)\n",
        "\n",
        "- OBS.: no R, não é necessário informar os graus de liberdade, ele já calcula automaticamente assim que passamos os parâmetros de entrada\n"
      ]
    },
    {
      "cell_type": "markdown",
      "metadata": {
        "id": "OFSkLv-s6FFs",
        "colab_type": "text"
      },
      "source": [
        "### Importação do Dataset"
      ]
    },
    {
      "cell_type": "code",
      "metadata": {
        "id": "Ksw-9dx_roap",
        "colab_type": "code",
        "colab": {
          "base_uri": "https://localhost:8080/",
          "height": 195
        },
        "outputId": "18ef9dd9-ebfb-4f46-afc9-112cc5c97a54"
      },
      "source": [
        "# Importação do dataset\n",
        "remedio <- read.csv(file.path('/','content','/','anova.csv'), sep=';',header=T)\n",
        "head(remedio)"
      ],
      "execution_count": null,
      "outputs": [
        {
          "output_type": "display_data",
          "data": {
            "text/plain": [
              "  Sexo Remedio Horas\n",
              "1 F    A        5   \n",
              "2 F    A       10   \n",
              "3 F    A        7   \n",
              "4 F    A        7   \n",
              "5 M    A        7   \n",
              "6 M    A        6   "
            ],
            "text/latex": "A data.frame: 6 × 3\n\\begin{tabular}{r|lll}\n  & Sexo & Remedio & Horas\\\\\n  & <fct> & <fct> & <int>\\\\\n\\hline\n\t1 & F & A &  5\\\\\n\t2 & F & A & 10\\\\\n\t3 & F & A &  7\\\\\n\t4 & F & A &  7\\\\\n\t5 & M & A &  7\\\\\n\t6 & M & A &  6\\\\\n\\end{tabular}\n",
            "text/markdown": "\nA data.frame: 6 × 3\n\n| <!--/--> | Sexo &lt;fct&gt; | Remedio &lt;fct&gt; | Horas &lt;int&gt; |\n|---|---|---|---|\n| 1 | F | A |  5 |\n| 2 | F | A | 10 |\n| 3 | F | A |  7 |\n| 4 | F | A |  7 |\n| 5 | M | A |  7 |\n| 6 | M | A |  6 |\n\n",
            "text/html": [
              "<table>\n",
              "<caption>A data.frame: 6 × 3</caption>\n",
              "<thead>\n",
              "\t<tr><th></th><th scope=col>Sexo</th><th scope=col>Remedio</th><th scope=col>Horas</th></tr>\n",
              "\t<tr><th></th><th scope=col>&lt;fct&gt;</th><th scope=col>&lt;fct&gt;</th><th scope=col>&lt;int&gt;</th></tr>\n",
              "</thead>\n",
              "<tbody>\n",
              "\t<tr><th scope=row>1</th><td>F</td><td>A</td><td> 5</td></tr>\n",
              "\t<tr><th scope=row>2</th><td>F</td><td>A</td><td>10</td></tr>\n",
              "\t<tr><th scope=row>3</th><td>F</td><td>A</td><td> 7</td></tr>\n",
              "\t<tr><th scope=row>4</th><td>F</td><td>A</td><td> 7</td></tr>\n",
              "\t<tr><th scope=row>5</th><td>M</td><td>A</td><td> 7</td></tr>\n",
              "\t<tr><th scope=row>6</th><td>M</td><td>A</td><td> 6</td></tr>\n",
              "</tbody>\n",
              "</table>\n"
            ]
          },
          "metadata": {
            "tags": []
          }
        }
      ]
    },
    {
      "cell_type": "markdown",
      "metadata": {
        "id": "zpUJ05fC7ihh",
        "colab_type": "text"
      },
      "source": [
        "### Boxplot\n",
        "\n",
        "- Vamos avaliar como os dados estão distribuídos\n",
        "- Análise:\n",
        "  - Remédio A --> distribuição mais homogênea\n",
        "  - Remédio B --> distribuição com cauda maior à esquerda (assimétrica positiva)\n",
        "  - Remédio C --> distribuição com cauda maior à direita (assimétrica negativa)"
      ]
    },
    {
      "cell_type": "code",
      "metadata": {
        "id": "gFMx6_w67nUj",
        "colab_type": "code",
        "colab": {
          "base_uri": "https://localhost:8080/",
          "height": 437
        },
        "outputId": "dc7b952b-935b-4ee3-fcb1-8459d4e02419"
      },
      "source": [
        "boxplot(remedio$Horas ~ remedio$Remedio)"
      ],
      "execution_count": null,
      "outputs": [
        {
          "output_type": "display_data",
          "data": {
            "image/png": "[encoded data removed]",
            "text/plain": [
              "plot without title"
            ]
          },
          "metadata": {
            "tags": [],
            "image/png": {
              "width": 420,
              "height": 420
            },
            "text/plain": {
              "width": 420,
              "height": 420
            }
          }
        }
      ]
    },
    {
      "cell_type": "markdown",
      "metadata": {
        "id": "1wk__ueH6x20",
        "colab_type": "text"
      },
      "source": [
        "### Análise de Variância de 1 Fator\n",
        "\n",
        "                                                     aov (var_dependente ~ var_independente, data = dados)\n",
        "\n",
        "- Parâmetros:\n",
        "  - var_dependente --> Horas\n",
        "  - var_independente --> Remedio\n",
        "  - data --> remedio (df)"
      ]
    },
    {
      "cell_type": "code",
      "metadata": {
        "id": "zB95_a4p6Z54",
        "colab_type": "code",
        "colab": {}
      },
      "source": [
        "# Realizando ANOVA de 1 Fator\n",
        "an1 <- aov(Horas ~ Remedio, data=remedio)"
      ],
      "execution_count": null,
      "outputs": []
    },
    {
      "cell_type": "code",
      "metadata": {
        "id": "fO76w1n58Yyu",
        "colab_type": "code",
        "colab": {
          "base_uri": "https://localhost:8080/",
          "height": 67
        },
        "outputId": "0bb15986-d384-4946-bc02-6950f56fda1a"
      },
      "source": [
        "# Verificando sumário estatístico deste objeto\n",
        "summary(an)\n",
        "\n",
        "# Valor-p --> Pr(>F)"
      ],
      "execution_count": null,
      "outputs": [
        {
          "output_type": "display_data",
          "data": {
            "text/plain": [
              "            Df Sum Sq Mean Sq F value Pr(>F)\n",
              "Remedio      2   4.08   2.042   0.538  0.592\n",
              "Residuals   21  79.75   3.798               "
            ]
          },
          "metadata": {
            "tags": []
          }
        }
      ]
    },
    {
      "cell_type": "markdown",
      "metadata": {
        "id": "QTQ9fUF48_jB",
        "colab_type": "text"
      },
      "source": [
        "### Análise de Variância de 2 Fatores\n",
        "\n",
        "                                      aov (var_dependente ~ var_independente * var_independente, data = dados)\n",
        "\n",
        "- Parâmetros:\n",
        "  - var_dependente --> Horas\n",
        "  - var_independente --> Remedio\n",
        "  - var_independente --> Sexo\n",
        "  - data --> remedio (df)"
      ]
    },
    {
      "cell_type": "code",
      "metadata": {
        "id": "SbE8y7NK8swt",
        "colab_type": "code",
        "colab": {}
      },
      "source": [
        "an2 <- aov(Horas ~ Remedio * Sexo, data = remedio)"
      ],
      "execution_count": null,
      "outputs": []
    },
    {
      "cell_type": "code",
      "metadata": {
        "id": "MV3rVIuv9eug",
        "colab_type": "code",
        "colab": {
          "base_uri": "https://localhost:8080/",
          "height": 101
        },
        "outputId": "023750b6-baa0-41a4-ef0c-35a06aba2987"
      },
      "source": [
        "summary(an2)\n",
        "\n",
        "# Valor-p --> Pr(>F)"
      ],
      "execution_count": null,
      "outputs": [
        {
          "output_type": "display_data",
          "data": {
            "text/plain": [
              "             Df Sum Sq Mean Sq F value Pr(>F)\n",
              "Remedio       2   4.08   2.042   0.533  0.596\n",
              "Sexo          1   4.17   4.167   1.087  0.311\n",
              "Remedio:Sexo  2   6.58   3.292   0.859  0.440\n",
              "Residuals    18  69.00   3.833               "
            ]
          },
          "metadata": {
            "tags": []
          }
        }
      ]
    },
    {
      "cell_type": "markdown",
      "metadata": {
        "id": "-stpLQHi97IS",
        "colab_type": "text"
      },
      "source": [
        "### Teste de Tukey\n",
        "\n",
        "                                                                   TukeyHSD (aov)\n",
        "                                                              \n",
        "- Imagine que concluímos que, de fato, há uma variação estatística significativa\n",
        "\n",
        "- Vamos realizar então o Teste de Tukey para o objeto ANOVA de 1 Fator e depois para o objeto de 2 Fatores"
      ]
    },
    {
      "cell_type": "markdown",
      "metadata": {
        "id": "Yc5XUSuM-f1N",
        "colab_type": "text"
      },
      "source": [
        "#### 1 Fator"
      ]
    },
    {
      "cell_type": "code",
      "metadata": {
        "id": "UwJOGli39gSv",
        "colab_type": "code",
        "colab": {
          "base_uri": "https://localhost:8080/",
          "height": 185
        },
        "outputId": "8180dea8-3822-4acb-91a2-b15b54bc2909"
      },
      "source": [
        "# Teste de Tukey para 1 Fator\n",
        "tukey1 <- TukeyHSD (an1)\n",
        "tukey1"
      ],
      "execution_count": null,
      "outputs": [
        {
          "output_type": "display_data",
          "data": {
            "text/plain": [
              "  Tukey multiple comparisons of means\n",
              "    95% family-wise confidence level\n",
              "\n",
              "Fit: aov(formula = Horas ~ Remedio, data = remedio)\n",
              "\n",
              "$Remedio\n",
              "      diff       lwr      upr     p adj\n",
              "B-A -0.625 -3.080978 1.830978 0.7991405\n",
              "C-A  0.375 -2.080978 2.830978 0.9218996\n",
              "C-B  1.000 -1.455978 3.455978 0.5689472\n"
            ]
          },
          "metadata": {
            "tags": []
          }
        }
      ]
    },
    {
      "cell_type": "code",
      "metadata": {
        "id": "GVGlC2Iq-ugv",
        "colab_type": "code",
        "colab": {
          "base_uri": "https://localhost:8080/",
          "height": 437
        },
        "outputId": "f71807f4-f8f9-4d4d-fdbe-a4f332a4a6c9"
      },
      "source": [
        "# Plot do objeto tukey\n",
        "plot(tukey1)"
      ],
      "execution_count": null,
      "outputs": [
        {
          "output_type": "display_data",
          "data": {
            "image/png": "[encoded data removed]",
            "text/plain": [
              "Plot with title “95% family-wise confidence level\n",
              "”"
            ]
          },
          "metadata": {
            "tags": [],
            "image/png": {
              "width": 420,
              "height": 420
            },
            "text/plain": {
              "width": 420,
              "height": 420
            }
          }
        }
      ]
    },
    {
      "cell_type": "code",
      "metadata": {
        "id": "K28AgmId_GVg",
        "colab_type": "code",
        "colab": {
          "base_uri": "https://localhost:8080/",
          "height": 554
        },
        "outputId": "7e62081e-73d2-40a4-f9a4-aa3d873dc862"
      },
      "source": [
        "# Teste de Tukey para 2 Fatores\n",
        "tukey2 <- TukeyHSD(an2)\n",
        "tukey2"
      ],
      "execution_count": null,
      "outputs": [
        {
          "output_type": "display_data",
          "data": {
            "text/plain": [
              "  Tukey multiple comparisons of means\n",
              "    95% family-wise confidence level\n",
              "\n",
              "Fit: aov(formula = Horas ~ Remedio * Sexo, data = remedio)\n",
              "\n",
              "$Remedio\n",
              "      diff       lwr      upr     p adj\n",
              "B-A -0.625 -3.123427 1.873427 0.8011051\n",
              "C-A  0.375 -2.123427 2.873427 0.9226431\n",
              "C-B  1.000 -1.498427 3.498427 0.5732500\n",
              "\n",
              "$Sexo\n",
              "         diff        lwr      upr     p adj\n",
              "M-F 0.8333333 -0.8459446 2.512611 0.3109477\n",
              "\n",
              "$`Remedio:Sexo`\n",
              "         diff      lwr     upr     p adj\n",
              "B:F-A:F -1.50 -5.89979 2.89979 0.8816496\n",
              "C:F-A:F  0.75 -3.64979 5.14979 0.9935270\n",
              "A:M-A:F  0.50 -3.89979 4.89979 0.9990466\n",
              "B:M-A:F  0.75 -3.64979 5.14979 0.9935270\n",
              "C:M-A:F  0.50 -3.89979 4.89979 0.9990466\n",
              "C:F-B:F  2.25 -2.14979 6.64979 0.5936233\n",
              "A:M-B:F  2.00 -2.39979 6.39979 0.7010347\n",
              "B:M-B:F  2.25 -2.14979 6.64979 0.5936233\n",
              "C:M-B:F  2.00 -2.39979 6.39979 0.7010347\n",
              "A:M-C:F -0.25 -4.64979 4.14979 0.9999681\n",
              "B:M-C:F  0.00 -4.39979 4.39979 1.0000000\n",
              "C:M-C:F -0.25 -4.64979 4.14979 0.9999681\n",
              "B:M-A:M  0.25 -4.14979 4.64979 0.9999681\n",
              "C:M-A:M  0.00 -4.39979 4.39979 1.0000000\n",
              "C:M-B:M -0.25 -4.64979 4.14979 0.9999681\n"
            ]
          },
          "metadata": {
            "tags": []
          }
        }
      ]
    },
    {
      "cell_type": "code",
      "metadata": {
        "id": "CYkZwxcA_SkQ",
        "colab_type": "code",
        "colab": {
          "base_uri": "https://localhost:8080/",
          "height": 1000
        },
        "outputId": "43479759-9505-4d81-875a-e60a4a470d54"
      },
      "source": [
        "# Plot do objeto tukey\n",
        "plot(tukey2)"
      ],
      "execution_count": null,
      "outputs": [
        {
          "output_type": "display_data",
          "data": {
            "image/png": "[encoded data removed]",
            "text/plain": [
              "Plot with title “95% family-wise confidence level\n",
              "”"
            ]
          },
          "metadata": {
            "tags": [],
            "image/png": {
              "width": 420,
              "height": 420
            },
            "text/plain": {
              "width": 420,
              "height": 420
            }
          }
        },
        {
          "output_type": "display_data",
          "data": {
            "image/png": "[encoded data removed]",
            "text/plain": [
              "Plot with title “95% family-wise confidence level\n",
              "”"
            ]
          },
          "metadata": {
            "tags": [],
            "image/png": {
              "width": 420,
              "height": 420
            },
            "text/plain": {
              "width": 420,
              "height": 420
            }
          }
        },
        {
          "output_type": "display_data",
          "data": {
            "image/png": "[encoded data removed]",
            "text/plain": [
              "Plot with title “95% family-wise confidence level\n",
              "”"
            ]
          },
          "metadata": {
            "tags": [],
            "image/png": {
              "width": 420,
              "height": 420
            },
            "text/plain": {
              "width": 420,
              "height": 420
            }
          }
        }
      ]
    },
    {
      "cell_type": "markdown",
      "metadata": {
        "id": "XOPqK0Eh_oRz",
        "colab_type": "text"
      },
      "source": [
        "# Outliers\n",
        "\n",
        "- Outliers são valores distantes do padrão apresentado pelo restante da população\n",
        "\n",
        "- Pode gerar, em alguns casos, problemas para as análises posteriores\n",
        "\n",
        "- Existem diversas formas de detectá-los"
      ]
    },
    {
      "cell_type": "markdown",
      "metadata": {
        "id": "sikFPhT5GxuC",
        "colab_type": "text"
      },
      "source": [
        "## Possíveis Origens para Outliers\n",
        "\n",
        "- Naturais (ocorrem naturalmente, como teores muito elevados de Au, discrepantes do restante da população)\n",
        "\n",
        "- Erros (erros de digitação, ou seja dígitos a mais muito discrepantes do resto dos valores)\n",
        "\n",
        "- Ruídos (ruídos de dados de sensores geofísicos, por exemplo)\n",
        "\n",
        "- Exceções\n",
        "\n",
        "- Fraudes (Lei de Benford - é uma distribuição de probabilidade que consiste na distribuição esperada para os dígitos em dados financeiros. Devemos comparar a distribuição observada com a distribuição de Benford para analisar possíveis fraudes financeiras)\n",
        "\n",
        "<p align=\"center\">\n",
        "    <img src=\"https://upload.wikimedia.org/wikipedia/commons/thumb/4/46/Rozklad_benforda.svg/220px-Rozklad_benforda.svg.png\"/>\n",
        "</p>"
      ]
    },
    {
      "cell_type": "markdown",
      "metadata": {
        "id": "_Mss5gkZMGio",
        "colab_type": "text"
      },
      "source": [
        "## Tipos de Outliers\n",
        "\n",
        "\n",
        "- Outliers de variáveis contínuas:\n",
        "  - Outliers univariados --> valores discrepantes/distoantes dos demais valores de uma mesma variável. Comumente representados por boxplots\n",
        "\n",
        "<p align=\"center\">\n",
        "    <img src=\"https://seaborn.pydata.org/_images/seaborn-boxplot-2.png\"/>\n",
        "</p>\n",
        "\n",
        "  - Outliers bivariados --> valores discrepantes em relação a duas variáveis. Comumente representados por scatterplots, em que pontos muito distantes dos demais pontos do diagrama de dispersão são denominados outliers\n",
        "    - Para mitigar a influência de outliers bivariados, uma alternativa é utilizar H-Scatterplots\n",
        "    - e.g. um outlier bivariado muitas vezes pode não ser um outlier em uma única variável. Um valor de 3000,00 pode não ser um outlier de custo, mas um valor de 3000,00 para uma idade de 20 já é um outlier\n",
        "\n",
        "    <p align=\"center\">\n",
        "    <img src=\"https://cdn.kastatic.org/ka-perseus-graphie/9ac1d984f64c54527ce83a0fcd8f87a20d0d32e5.svg\"/>\n",
        "</p>\n",
        "\n",
        "  - Outliers multivariados --> valores discrepantes em relação aos diversos clusters formados por n variáveis\n",
        "\n",
        "  <p align=\"center\">\n",
        "    <img src=\"https://media.geeksforgeeks.org/wp-content/uploads/outlier.jpg\"/>\n",
        "</p>\n",
        "\n",
        "- Outliers de variáveis categóricas\n"
      ]
    },
    {
      "cell_type": "markdown",
      "metadata": {
        "id": "Oo_dHoGURaqD",
        "colab_type": "text"
      },
      "source": [
        "## Como Lidar com Outliers?\n",
        "\n",
        "- Mantê-los\n",
        "\n",
        "- Substituí-los\n",
        "\n",
        "- Removê-los\n",
        "\n",
        "- Transformar a distribuição\n",
        "\n",
        "OBS.: não existe uma fórmula mágica"
      ]
    },
    {
      "cell_type": "markdown",
      "metadata": {
        "id": "GHGsqNwMRyjc",
        "colab_type": "text"
      },
      "source": [
        "## Outliers no R\n",
        "\n",
        "- Boxplot --> visualização do box & whisker plot\n",
        "\n",
        "- Boxplot.stats --> estatísticas numéricas de outliers\n",
        "\n",
        "- Outliers --> pacote com um grande número de métodos de busca de outliers\n",
        "\n"
      ]
    },
    {
      "cell_type": "markdown",
      "metadata": {
        "id": "QNRPV_qETcaY",
        "colab_type": "text"
      },
      "source": [
        "### boxplot (df$col_name, outline = bool)\n",
        "\n",
        "- Esta função do R já plota um boxplot por variável presente no dataset, caso passemos como parâmetro apenas o df\n",
        "\n",
        "- outline:\n",
        "  - T (default) --> plota outliers\n",
        "  - F --> NÃO plota outliers\n"
      ]
    },
    {
      "cell_type": "code",
      "metadata": {
        "id": "k1NVRmOQJ1eU",
        "colab_type": "code",
        "colab": {
          "base_uri": "https://localhost:8080/",
          "height": 437
        },
        "outputId": "b1437787-8679-46db-b4ab-ab522abec9f1"
      },
      "source": [
        "boxplot(iris$Sepal.Width)\n",
        "\n",
        "# Note a presença de outliers superiores (Sepal.Width > 4.0) e de um outlier\n",
        "# inferior de valor igual a 2.0"
      ],
      "execution_count": 3,
      "outputs": [
        {
          "output_type": "display_data",
          "data": {
            "image/png": "[encoded data removed]",
            "text/plain": [
              "plot without title"
            ]
          },
          "metadata": {
            "tags": [],
            "image/png": {
              "width": 420,
              "height": 420
            },
            "text/plain": {
              "width": 420,
              "height": 420
            }
          }
        }
      ]
    },
    {
      "cell_type": "code",
      "metadata": {
        "id": "8ooptpwOTqB5",
        "colab_type": "code",
        "colab": {
          "base_uri": "https://localhost:8080/",
          "height": 437
        },
        "outputId": "08e2871c-72d6-492f-b264-d2b2b7ce4029"
      },
      "source": [
        "boxplot(iris$Sepal.Width, outline = F)"
      ],
      "execution_count": 4,
      "outputs": [
        {
          "output_type": "display_data",
          "data": {
            "image/png": "[encoded data removed]",
            "text/plain": [
              "plot without title"
            ]
          },
          "metadata": {
            "tags": [],
            "image/png": {
              "width": 420,
              "height": 420
            },
            "text/plain": {
              "width": 420,
              "height": 420
            }
          }
        }
      ]
    },
    {
      "cell_type": "markdown",
      "metadata": {
        "id": "k5ssS73lW4PU",
        "colab_type": "text"
      },
      "source": [
        "### boxplot.stats (df$col_name)\n",
        "\n",
        "- Plota estatísticas de boxplots\n",
        "\n",
        "- Pode-se acrescentar um \"$\" ao final desse método para especificar o parâmetro que se deseja visualizar (e.g. out)"
      ]
    },
    {
      "cell_type": "code",
      "metadata": {
        "id": "UQPf0uv7W1uG",
        "colab_type": "code",
        "colab": {
          "base_uri": "https://localhost:8080/",
          "height": 183
        },
        "outputId": "c44ece88-391e-49c5-aa46-a3ad08c0d942"
      },
      "source": [
        "boxplot.stats (iris$Sepal.Width)"
      ],
      "execution_count": 6,
      "outputs": [
        {
          "output_type": "display_data",
          "data": {
            "text/plain": [
              "$stats\n",
              "[1] 2.2 2.8 3.0 3.3 4.0\n",
              "\n",
              "$n\n",
              "[1] 150\n",
              "\n",
              "$conf\n",
              "[1] 2.935497 3.064503\n",
              "\n",
              "$out\n",
              "[1] 4.4 4.1 4.2 2.0\n"
            ],
            "text/latex": "\\begin{description}\n\\item[\\$stats] \\begin{enumerate*}\n\\item 2.2\n\\item 2.8\n\\item 3\n\\item 3.3\n\\item 4\n\\end{enumerate*}\n\n\\item[\\$n] 150\n\\item[\\$conf] \\begin{enumerate*}\n\\item 2.93549677010671\n\\item 3.06450322989329\n\\end{enumerate*}\n\n\\item[\\$out] \\begin{enumerate*}\n\\item 4.4\n\\item 4.1\n\\item 4.2\n\\item 2\n\\end{enumerate*}\n\n\\end{description}\n",
            "text/markdown": "$stats\n:   1. 2.2\n2. 2.8\n3. 3\n4. 3.3\n5. 4\n\n\n\n$n\n:   150\n$conf\n:   1. 2.93549677010671\n2. 3.06450322989329\n\n\n\n$out\n:   1. 4.4\n2. 4.1\n3. 4.2\n4. 2\n\n\n\n\n\n",
            "text/html": [
              "<dl>\n",
              "\t<dt>$stats</dt>\n",
              "\t\t<dd><style>\n",
              ".list-inline {list-style: none; margin:0; padding: 0}\n",
              ".list-inline>li {display: inline-block}\n",
              ".list-inline>li:not(:last-child)::after {content: \"\\00b7\"; padding: 0 .5ex}\n",
              "</style>\n",
              "<ol class=list-inline><li>2.2</li><li>2.8</li><li>3</li><li>3.3</li><li>4</li></ol>\n",
              "</dd>\n",
              "\t<dt>$n</dt>\n",
              "\t\t<dd>150</dd>\n",
              "\t<dt>$conf</dt>\n",
              "\t\t<dd><style>\n",
              ".list-inline {list-style: none; margin:0; padding: 0}\n",
              ".list-inline>li {display: inline-block}\n",
              ".list-inline>li:not(:last-child)::after {content: \"\\00b7\"; padding: 0 .5ex}\n",
              "</style>\n",
              "<ol class=list-inline><li>2.93549677010671</li><li>3.06450322989329</li></ol>\n",
              "</dd>\n",
              "\t<dt>$out</dt>\n",
              "\t\t<dd><style>\n",
              ".list-inline {list-style: none; margin:0; padding: 0}\n",
              ".list-inline>li {display: inline-block}\n",
              ".list-inline>li:not(:last-child)::after {content: \"\\00b7\"; padding: 0 .5ex}\n",
              "</style>\n",
              "<ol class=list-inline><li>4.4</li><li>4.1</li><li>4.2</li><li>2</li></ol>\n",
              "</dd>\n",
              "</dl>\n"
            ]
          },
          "metadata": {
            "tags": []
          }
        }
      ]
    },
    {
      "cell_type": "code",
      "metadata": {
        "id": "HtPiDMUgXYoD",
        "colab_type": "code",
        "colab": {
          "base_uri": "https://localhost:8080/",
          "height": 35
        },
        "outputId": "a754cd60-32bc-461d-dcec-2c98a802e629"
      },
      "source": [
        "boxplot.stats (iris$Sepal.Width)$out"
      ],
      "execution_count": 7,
      "outputs": [
        {
          "output_type": "display_data",
          "data": {
            "text/plain": [
              "[1] 4.4 4.1 4.2 2.0"
            ],
            "text/latex": "\\begin{enumerate*}\n\\item 4.4\n\\item 4.1\n\\item 4.2\n\\item 2\n\\end{enumerate*}\n",
            "text/markdown": "1. 4.4\n2. 4.1\n3. 4.2\n4. 2\n\n\n",
            "text/html": [
              "<style>\n",
              ".list-inline {list-style: none; margin:0; padding: 0}\n",
              ".list-inline>li {display: inline-block}\n",
              ".list-inline>li:not(:last-child)::after {content: \"\\00b7\"; padding: 0 .5ex}\n",
              "</style>\n",
              "<ol class=list-inline><li>4.4</li><li>4.1</li><li>4.2</li><li>2</li></ol>\n"
            ]
          },
          "metadata": {
            "tags": []
          }
        }
      ]
    },
    {
      "cell_type": "markdown",
      "metadata": {
        "id": "Ei0N5RTqX4zp",
        "colab_type": "text"
      },
      "source": [
        "### Pacote \"Outliers\"\n",
        "\n",
        "- Não é nativo do R e, portanto, necessita ser instalado\n",
        "\n",
        "- Apresenta diversas funções distintas para buscas de outliers"
      ]
    },
    {
      "cell_type": "code",
      "metadata": {
        "id": "rxk1H8I0XiDi",
        "colab_type": "code",
        "colab": {
          "base_uri": "https://localhost:8080/",
          "height": 72
        },
        "outputId": "88b32cb5-2b3c-4164-ce80-cfce5a8a81f3"
      },
      "source": [
        "# Instalando pacote\n",
        "install.packages('outliers')"
      ],
      "execution_count": 10,
      "outputs": [
        {
          "output_type": "stream",
          "text": [
            "Installing package into ‘/usr/local/lib/R/site-library’\n",
            "(as ‘lib’ is unspecified)\n",
            "\n"
          ],
          "name": "stderr"
        }
      ]
    },
    {
      "cell_type": "code",
      "metadata": {
        "id": "eNGKRuh-XwCh",
        "colab_type": "code",
        "colab": {}
      },
      "source": [
        "# Importando pacote\n",
        "library (outliers)"
      ],
      "execution_count": 12,
      "outputs": []
    },
    {
      "cell_type": "markdown",
      "metadata": {
        "id": "fpK2nPVqYyZK",
        "colab_type": "text"
      },
      "source": [
        "#### outlier (df$col_name, opposite=bool, logical=bool)\n",
        "\n",
        "- Encontra o valor mais distante da média (um único valor)\n",
        "\n",
        "- opposite:\n",
        "  - F (default) --> retorna o maior valor mais distante da média\n",
        "  - T --> retorna o menor valor mais distante da média\n",
        "\n",
        "- logical:\n",
        "  - F (default) --> retorna o único valor, normalmente\n",
        "  - T --> retorna um vetor lógico/booleano, indicando a posição do outlier"
      ]
    },
    {
      "cell_type": "code",
      "metadata": {
        "id": "3cl19O50YNlT",
        "colab_type": "code",
        "colab": {
          "base_uri": "https://localhost:8080/",
          "height": 35
        },
        "outputId": "1ffdd81d-3c2a-42f5-ccef-86ba4348f897"
      },
      "source": [
        "# Função \"outlier\"\n",
        "outlier(iris$Sepal.Width)\n",
        "# Considera apenas um valor como outlier (valor maior)"
      ],
      "execution_count": 13,
      "outputs": [
        {
          "output_type": "display_data",
          "data": {
            "text/plain": [
              "[1] 4.4"
            ],
            "text/latex": "4.4",
            "text/markdown": "4.4",
            "text/html": [
              "4.4"
            ]
          },
          "metadata": {
            "tags": []
          }
        }
      ]
    },
    {
      "cell_type": "code",
      "metadata": {
        "id": "-OElvQ6gYoxT",
        "colab_type": "code",
        "colab": {
          "base_uri": "https://localhost:8080/",
          "height": 35
        },
        "outputId": "4661fc1e-22bf-4d1b-bb0a-3a18c172ceb6"
      },
      "source": [
        "outlier(iris$Sepal.Width, opposite=T)\n",
        "# Considera apenas um valor como outlier (valor menor)"
      ],
      "execution_count": 14,
      "outputs": [
        {
          "output_type": "display_data",
          "data": {
            "text/plain": [
              "[1] 2"
            ],
            "text/latex": "2",
            "text/markdown": "2",
            "text/html": [
              "2"
            ]
          },
          "metadata": {
            "tags": []
          }
        }
      ]
    },
    {
      "cell_type": "code",
      "metadata": {
        "id": "vP0pUZHka69G",
        "colab_type": "code",
        "colab": {
          "base_uri": "https://localhost:8080/",
          "height": 155
        },
        "outputId": "0867d091-02f1-4e87-ecfd-03a08aa927ae"
      },
      "source": [
        "outlier(iris$Sepal.Width, logical = T)\n",
        "# Retorna um vetor lógico com a posição do outlier (TRUE)"
      ],
      "execution_count": 15,
      "outputs": [
        {
          "output_type": "display_data",
          "data": {
            "text/plain": [
              "  [1] FALSE FALSE FALSE FALSE FALSE FALSE FALSE FALSE FALSE FALSE FALSE FALSE\n",
              " [13] FALSE FALSE FALSE  TRUE FALSE FALSE FALSE FALSE FALSE FALSE FALSE FALSE\n",
              " [25] FALSE FALSE FALSE FALSE FALSE FALSE FALSE FALSE FALSE FALSE FALSE FALSE\n",
              " [37] FALSE FALSE FALSE FALSE FALSE FALSE FALSE FALSE FALSE FALSE FALSE FALSE\n",
              " [49] FALSE FALSE FALSE FALSE FALSE FALSE FALSE FALSE FALSE FALSE FALSE FALSE\n",
              " [61] FALSE FALSE FALSE FALSE FALSE FALSE FALSE FALSE FALSE FALSE FALSE FALSE\n",
              " [73] FALSE FALSE FALSE FALSE FALSE FALSE FALSE FALSE FALSE FALSE FALSE FALSE\n",
              " [85] FALSE FALSE FALSE FALSE FALSE FALSE FALSE FALSE FALSE FALSE FALSE FALSE\n",
              " [97] FALSE FALSE FALSE FALSE FALSE FALSE FALSE FALSE FALSE FALSE FALSE FALSE\n",
              "[109] FALSE FALSE FALSE FALSE FALSE FALSE FALSE FALSE FALSE FALSE FALSE FALSE\n",
              "[121] FALSE FALSE FALSE FALSE FALSE FALSE FALSE FALSE FALSE FALSE FALSE FALSE\n",
              "[133] FALSE FALSE FALSE FALSE FALSE FALSE FALSE FALSE FALSE FALSE FALSE FALSE\n",
              "[145] FALSE FALSE FALSE FALSE FALSE FALSE"
            ],
            "text/latex": "\\begin{enumerate*}\n\\item FALSE\n\\item FALSE\n\\item FALSE\n\\item FALSE\n\\item FALSE\n\\item FALSE\n\\item FALSE\n\\item FALSE\n\\item FALSE\n\\item FALSE\n\\item FALSE\n\\item FALSE\n\\item FALSE\n\\item FALSE\n\\item FALSE\n\\item TRUE\n\\item FALSE\n\\item FALSE\n\\item FALSE\n\\item FALSE\n\\item FALSE\n\\item FALSE\n\\item FALSE\n\\item FALSE\n\\item FALSE\n\\item FALSE\n\\item FALSE\n\\item FALSE\n\\item FALSE\n\\item FALSE\n\\item FALSE\n\\item FALSE\n\\item FALSE\n\\item FALSE\n\\item FALSE\n\\item FALSE\n\\item FALSE\n\\item FALSE\n\\item FALSE\n\\item FALSE\n\\item FALSE\n\\item FALSE\n\\item FALSE\n\\item FALSE\n\\item FALSE\n\\item FALSE\n\\item FALSE\n\\item FALSE\n\\item FALSE\n\\item FALSE\n\\item FALSE\n\\item FALSE\n\\item FALSE\n\\item FALSE\n\\item FALSE\n\\item FALSE\n\\item FALSE\n\\item FALSE\n\\item FALSE\n\\item FALSE\n\\item FALSE\n\\item FALSE\n\\item FALSE\n\\item FALSE\n\\item FALSE\n\\item FALSE\n\\item FALSE\n\\item FALSE\n\\item FALSE\n\\item FALSE\n\\item FALSE\n\\item FALSE\n\\item FALSE\n\\item FALSE\n\\item FALSE\n\\item FALSE\n\\item FALSE\n\\item FALSE\n\\item FALSE\n\\item FALSE\n\\item FALSE\n\\item FALSE\n\\item FALSE\n\\item FALSE\n\\item FALSE\n\\item FALSE\n\\item FALSE\n\\item FALSE\n\\item FALSE\n\\item FALSE\n\\item FALSE\n\\item FALSE\n\\item FALSE\n\\item FALSE\n\\item FALSE\n\\item FALSE\n\\item FALSE\n\\item FALSE\n\\item FALSE\n\\item FALSE\n\\item FALSE\n\\item FALSE\n\\item FALSE\n\\item FALSE\n\\item FALSE\n\\item FALSE\n\\item FALSE\n\\item FALSE\n\\item FALSE\n\\item FALSE\n\\item FALSE\n\\item FALSE\n\\item FALSE\n\\item FALSE\n\\item FALSE\n\\item FALSE\n\\item FALSE\n\\item FALSE\n\\item FALSE\n\\item FALSE\n\\item FALSE\n\\item FALSE\n\\item FALSE\n\\item FALSE\n\\item FALSE\n\\item FALSE\n\\item FALSE\n\\item FALSE\n\\item FALSE\n\\item FALSE\n\\item FALSE\n\\item FALSE\n\\item FALSE\n\\item FALSE\n\\item FALSE\n\\item FALSE\n\\item FALSE\n\\item FALSE\n\\item FALSE\n\\item FALSE\n\\item FALSE\n\\item FALSE\n\\item FALSE\n\\item FALSE\n\\item FALSE\n\\item FALSE\n\\item FALSE\n\\item FALSE\n\\item FALSE\n\\item FALSE\n\\end{enumerate*}\n",
            "text/markdown": "1. FALSE\n2. FALSE\n3. FALSE\n4. FALSE\n5. FALSE\n6. FALSE\n7. FALSE\n8. FALSE\n9. FALSE\n10. FALSE\n11. FALSE\n12. FALSE\n13. FALSE\n14. FALSE\n15. FALSE\n16. TRUE\n17. FALSE\n18. FALSE\n19. FALSE\n20. FALSE\n21. FALSE\n22. FALSE\n23. FALSE\n24. FALSE\n25. FALSE\n26. FALSE\n27. FALSE\n28. FALSE\n29. FALSE\n30. FALSE\n31. FALSE\n32. FALSE\n33. FALSE\n34. FALSE\n35. FALSE\n36. FALSE\n37. FALSE\n38. FALSE\n39. FALSE\n40. FALSE\n41. FALSE\n42. FALSE\n43. FALSE\n44. FALSE\n45. FALSE\n46. FALSE\n47. FALSE\n48. FALSE\n49. FALSE\n50. FALSE\n51. FALSE\n52. FALSE\n53. FALSE\n54. FALSE\n55. FALSE\n56. FALSE\n57. FALSE\n58. FALSE\n59. FALSE\n60. FALSE\n61. FALSE\n62. FALSE\n63. FALSE\n64. FALSE\n65. FALSE\n66. FALSE\n67. FALSE\n68. FALSE\n69. FALSE\n70. FALSE\n71. FALSE\n72. FALSE\n73. FALSE\n74. FALSE\n75. FALSE\n76. FALSE\n77. FALSE\n78. FALSE\n79. FALSE\n80. FALSE\n81. FALSE\n82. FALSE\n83. FALSE\n84. FALSE\n85. FALSE\n86. FALSE\n87. FALSE\n88. FALSE\n89. FALSE\n90. FALSE\n91. FALSE\n92. FALSE\n93. FALSE\n94. FALSE\n95. FALSE\n96. FALSE\n97. FALSE\n98. FALSE\n99. FALSE\n100. FALSE\n101. FALSE\n102. FALSE\n103. FALSE\n104. FALSE\n105. FALSE\n106. FALSE\n107. FALSE\n108. FALSE\n109. FALSE\n110. FALSE\n111. FALSE\n112. FALSE\n113. FALSE\n114. FALSE\n115. FALSE\n116. FALSE\n117. FALSE\n118. FALSE\n119. FALSE\n120. FALSE\n121. FALSE\n122. FALSE\n123. FALSE\n124. FALSE\n125. FALSE\n126. FALSE\n127. FALSE\n128. FALSE\n129. FALSE\n130. FALSE\n131. FALSE\n132. FALSE\n133. FALSE\n134. FALSE\n135. FALSE\n136. FALSE\n137. FALSE\n138. FALSE\n139. FALSE\n140. FALSE\n141. FALSE\n142. FALSE\n143. FALSE\n144. FALSE\n145. FALSE\n146. FALSE\n147. FALSE\n148. FALSE\n149. FALSE\n150. FALSE\n\n\n",
            "text/html": [
              "<style>\n",
              ".list-inline {list-style: none; margin:0; padding: 0}\n",
              ".list-inline>li {display: inline-block}\n",
              ".list-inline>li:not(:last-child)::after {content: \"\\00b7\"; padding: 0 .5ex}\n",
              "</style>\n",
              "<ol class=list-inline><li>FALSE</li><li>FALSE</li><li>FALSE</li><li>FALSE</li><li>FALSE</li><li>FALSE</li><li>FALSE</li><li>FALSE</li><li>FALSE</li><li>FALSE</li><li>FALSE</li><li>FALSE</li><li>FALSE</li><li>FALSE</li><li>FALSE</li><li>TRUE</li><li>FALSE</li><li>FALSE</li><li>FALSE</li><li>FALSE</li><li>FALSE</li><li>FALSE</li><li>FALSE</li><li>FALSE</li><li>FALSE</li><li>FALSE</li><li>FALSE</li><li>FALSE</li><li>FALSE</li><li>FALSE</li><li>FALSE</li><li>FALSE</li><li>FALSE</li><li>FALSE</li><li>FALSE</li><li>FALSE</li><li>FALSE</li><li>FALSE</li><li>FALSE</li><li>FALSE</li><li>FALSE</li><li>FALSE</li><li>FALSE</li><li>FALSE</li><li>FALSE</li><li>FALSE</li><li>FALSE</li><li>FALSE</li><li>FALSE</li><li>FALSE</li><li>FALSE</li><li>FALSE</li><li>FALSE</li><li>FALSE</li><li>FALSE</li><li>FALSE</li><li>FALSE</li><li>FALSE</li><li>FALSE</li><li>FALSE</li><li>FALSE</li><li>FALSE</li><li>FALSE</li><li>FALSE</li><li>FALSE</li><li>FALSE</li><li>FALSE</li><li>FALSE</li><li>FALSE</li><li>FALSE</li><li>FALSE</li><li>FALSE</li><li>FALSE</li><li>FALSE</li><li>FALSE</li><li>FALSE</li><li>FALSE</li><li>FALSE</li><li>FALSE</li><li>FALSE</li><li>FALSE</li><li>FALSE</li><li>FALSE</li><li>FALSE</li><li>FALSE</li><li>FALSE</li><li>FALSE</li><li>FALSE</li><li>FALSE</li><li>FALSE</li><li>FALSE</li><li>FALSE</li><li>FALSE</li><li>FALSE</li><li>FALSE</li><li>FALSE</li><li>FALSE</li><li>FALSE</li><li>FALSE</li><li>FALSE</li><li>FALSE</li><li>FALSE</li><li>FALSE</li><li>FALSE</li><li>FALSE</li><li>FALSE</li><li>FALSE</li><li>FALSE</li><li>FALSE</li><li>FALSE</li><li>FALSE</li><li>FALSE</li><li>FALSE</li><li>FALSE</li><li>FALSE</li><li>FALSE</li><li>FALSE</li><li>FALSE</li><li>FALSE</li><li>FALSE</li><li>FALSE</li><li>FALSE</li><li>FALSE</li><li>FALSE</li><li>FALSE</li><li>FALSE</li><li>FALSE</li><li>FALSE</li><li>FALSE</li><li>FALSE</li><li>FALSE</li><li>FALSE</li><li>FALSE</li><li>FALSE</li><li>FALSE</li><li>FALSE</li><li>FALSE</li><li>FALSE</li><li>FALSE</li><li>FALSE</li><li>FALSE</li><li>FALSE</li><li>FALSE</li><li>FALSE</li><li>FALSE</li><li>FALSE</li><li>FALSE</li><li>FALSE</li><li>FALSE</li><li>FALSE</li></ol>\n"
            ]
          },
          "metadata": {
            "tags": []
          }
        }
      ]
    }
  ]
}