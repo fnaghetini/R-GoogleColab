{
  "nbformat": 4,
  "nbformat_minor": 0,
  "metadata": {
    "colab": {
      "name": "R-Estatística Descritiva.ipynb",
      "provenance": [],
      "collapsed_sections": [
        "EoPOfRMfLWpk",
        "U346T3LsNHtD",
        "6hzE6zkzN39Y"
      ]
    },
    "kernelspec": {
      "name": "ir",
      "display_name": "R"
    }
  },
  "cells": [
    {
      "cell_type": "markdown",
      "metadata": {
        "id": "zxjN2Cq4Kqxf",
        "colab_type": "text"
      },
      "source": [
        "# Estatística Descritiva no R\n",
        "\n",
        "- Medidas de Tendência Central:\n",
        "  - Média\n",
        "  - Mediana\n",
        "- Medidas de Dispersão/Variabilidade:\n",
        "  - Variância\n",
        "  - Desvio Padrão\n",
        "  - Coeficiente de Variação\n",
        "- Medidas de Posição\n",
        "  - Quantis"
      ]
    },
    {
      "cell_type": "markdown",
      "metadata": {
        "id": "EoPOfRMfLWpk",
        "colab_type": "text"
      },
      "source": [
        "## Medidas de Tendência Central"
      ]
    },
    {
      "cell_type": "markdown",
      "metadata": {
        "id": "ML-zOxmMLgvA",
        "colab_type": "text"
      },
      "source": [
        "### mean ( )"
      ]
    },
    {
      "cell_type": "code",
      "metadata": {
        "id": "9QbbYvmjKgnW",
        "colab_type": "code",
        "colab": {
          "base_uri": "https://localhost:8080/",
          "height": 34
        },
        "outputId": "5192fe43-c8d6-4f72-9593-616676d0bddb"
      },
      "source": [
        "# Cálculo da média dos comprimentos das flores do dataset \"Iris\"\n",
        "media <- mean(iris$Petal.Length)\n",
        "media"
      ],
      "execution_count": 9,
      "outputs": [
        {
          "output_type": "display_data",
          "data": {
            "text/plain": [
              "[1] 3.758"
            ],
            "text/latex": "3.758",
            "text/markdown": "3.758",
            "text/html": [
              "3.758"
            ]
          },
          "metadata": {
            "tags": []
          }
        }
      ]
    },
    {
      "cell_type": "markdown",
      "metadata": {
        "id": "tXOtYwccMBzz",
        "colab_type": "text"
      },
      "source": [
        "### median ( )"
      ]
    },
    {
      "cell_type": "code",
      "metadata": {
        "id": "jCe12ZfQKuDd",
        "colab_type": "code",
        "colab": {
          "base_uri": "https://localhost:8080/",
          "height": 34
        },
        "outputId": "c876207f-f2c9-4a90-9b32-c91ae4eccd29"
      },
      "source": [
        "# Cálculo da mediana dos comprimentos das flores do dataset \"Iris\"\n",
        "median(iris$Petal.Length)"
      ],
      "execution_count": 2,
      "outputs": [
        {
          "output_type": "display_data",
          "data": {
            "text/plain": [
              "[1] 4.35"
            ],
            "text/latex": "4.35",
            "text/markdown": "4.35",
            "text/html": [
              "4.35"
            ]
          },
          "metadata": {
            "tags": []
          }
        }
      ]
    },
    {
      "cell_type": "markdown",
      "metadata": {
        "id": "U346T3LsNHtD",
        "colab_type": "text"
      },
      "source": [
        "## Medida de Posição"
      ]
    },
    {
      "cell_type": "markdown",
      "metadata": {
        "id": "qy68LEFqNKpt",
        "colab_type": "text"
      },
      "source": [
        "### quantile ( )\n",
        "\n",
        "- Retorna os quantis:\n",
        "  - 0.00 = 1\n",
        "  - 0.25 = 1.6\n",
        "  - 0.50 = 4.35\n",
        "  - 0.75 = 5.1\n",
        "  - 1.00 = 6.9"
      ]
    },
    {
      "cell_type": "code",
      "metadata": {
        "id": "tCcwtZxKMPx_",
        "colab_type": "code",
        "colab": {
          "base_uri": "https://localhost:8080/",
          "height": 34
        },
        "outputId": "62a30093-a278-4f72-c4f8-8e707053b01c"
      },
      "source": [
        "# Cálculo dos quantis dos comprimentos das flores do dataset \"Iris\"\n",
        "quantile(iris$Petal.Length)"
      ],
      "execution_count": 4,
      "outputs": [
        {
          "output_type": "display_data",
          "data": {
            "text/plain": [
              "  0%  25%  50%  75% 100% \n",
              "1.00 1.60 4.35 5.10 6.90 "
            ],
            "text/latex": "\\begin{description*}\n\\item[0\\textbackslash{}\\%] 1\n\\item[25\\textbackslash{}\\%] 1.6\n\\item[50\\textbackslash{}\\%] 4.35\n\\item[75\\textbackslash{}\\%] 5.1\n\\item[100\\textbackslash{}\\%] 6.9\n\\end{description*}\n",
            "text/markdown": "0%\n:   125%\n:   1.650%\n:   4.3575%\n:   5.1100%\n:   6.9\n\n",
            "text/html": [
              "<style>\n",
              ".dl-inline {width: auto; margin:0; padding: 0}\n",
              ".dl-inline>dt, .dl-inline>dd {float: none; width: auto; display: inline-block}\n",
              ".dl-inline>dt::after {content: \":\\0020\"; padding-right: .5ex}\n",
              ".dl-inline>dt:not(:first-of-type) {padding-left: .5ex}\n",
              "</style><dl class=dl-inline><dt>0%</dt><dd>1</dd><dt>25%</dt><dd>1.6</dd><dt>50%</dt><dd>4.35</dd><dt>75%</dt><dd>5.1</dd><dt>100%</dt><dd>6.9</dd></dl>\n"
            ]
          },
          "metadata": {
            "tags": []
          }
        }
      ]
    },
    {
      "cell_type": "markdown",
      "metadata": {
        "id": "6hzE6zkzN39Y",
        "colab_type": "text"
      },
      "source": [
        "## Medidas de Dispersão"
      ]
    },
    {
      "cell_type": "markdown",
      "metadata": {
        "id": "h52KtPKGN7iw",
        "colab_type": "text"
      },
      "source": [
        "### var ( )"
      ]
    },
    {
      "cell_type": "code",
      "metadata": {
        "id": "5mSF7x0vNls5",
        "colab_type": "code",
        "colab": {
          "base_uri": "https://localhost:8080/",
          "height": 34
        },
        "outputId": "535f1e5e-1109-4baf-a21c-5b88fbba2128"
      },
      "source": [
        "# Cálculo da variância dos comprimentos das flores do dataset \"Iris\"\n",
        "var(iris$Petal.Length)"
      ],
      "execution_count": 7,
      "outputs": [
        {
          "output_type": "display_data",
          "data": {
            "text/plain": [
              "[1] 3.116278"
            ],
            "text/latex": "3.11627785234899",
            "text/markdown": "3.11627785234899",
            "text/html": [
              "3.11627785234899"
            ]
          },
          "metadata": {
            "tags": []
          }
        }
      ]
    },
    {
      "cell_type": "markdown",
      "metadata": {
        "id": "RyFAiVjeODMN",
        "colab_type": "text"
      },
      "source": [
        "### sd ( )"
      ]
    },
    {
      "cell_type": "code",
      "metadata": {
        "id": "PNKgxFBQOARv",
        "colab_type": "code",
        "colab": {
          "base_uri": "https://localhost:8080/",
          "height": 34
        },
        "outputId": "d2afb672-1562-4977-c8b2-1ea2a16ab067"
      },
      "source": [
        "# Cálculo do DP dos comprimentos das flores do dataset \"Iris\"\n",
        "std <- sd(iris$Petal.Length)\n",
        "std"
      ],
      "execution_count": 8,
      "outputs": [
        {
          "output_type": "display_data",
          "data": {
            "text/plain": [
              "[1] 1.765298"
            ],
            "text/latex": "1.76529823325947",
            "text/markdown": "1.76529823325947",
            "text/html": [
              "1.76529823325947"
            ]
          },
          "metadata": {
            "tags": []
          }
        }
      ]
    },
    {
      "cell_type": "markdown",
      "metadata": {
        "id": "bPKgpx1QOe5F",
        "colab_type": "text"
      },
      "source": [
        "### cv <- (sd ( ) / mean ( ) )"
      ]
    },
    {
      "cell_type": "code",
      "metadata": {
        "id": "pLRIz08COIbj",
        "colab_type": "code",
        "colab": {
          "base_uri": "https://localhost:8080/",
          "height": 34
        },
        "outputId": "a07210e4-444e-47a7-9101-63c477eadf08"
      },
      "source": [
        "# Cálculo do CV dos comprimentos das flores do dataset \"Iris\"\n",
        "cv <- media/std\n",
        "cv"
      ],
      "execution_count": 10,
      "outputs": [
        {
          "output_type": "display_data",
          "data": {
            "text/plain": [
              "[1] 2.128819"
            ],
            "text/latex": "2.12881876228992",
            "text/markdown": "2.12881876228992",
            "text/html": [
              "2.12881876228992"
            ]
          },
          "metadata": {
            "tags": []
          }
        }
      ]
    }
  ]
}