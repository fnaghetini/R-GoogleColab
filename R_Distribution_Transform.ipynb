{
  "nbformat": 4,
  "nbformat_minor": 0,
  "metadata": {
    "colab": {
      "name": "R_Distribution_Transform.ipynb",
      "provenance": [],
      "collapsed_sections": []
    },
    "kernelspec": {
      "name": "ir",
      "display_name": "R"
    }
  },
  "cells": [
    {
      "cell_type": "markdown",
      "metadata": {
        "id": "on0Iiad7eU7m"
      },
      "source": [
        "# Distribution Transform\n",
        "\n",
        "- This notebook is based on Michael Pyrcz lecture about **Distribution Transform**. To check it, click on the link below:\n",
        "  https://www.youtube.com/watch?v=ZDIpE3OkAIU&list=PLG19vXLQHvSB-D4XKYieEku9GQMQyAzjJ&index=14&t=2s\n",
        "<br>\n",
        "\n",
        "- There are many reasons to transform data from a given distribution to another distribution, such as:\n",
        "  - Suppose that we've sampled just a few data from a given variable and we have a prior knowledge about the shape of that variable distribution. Therefore, we may transform the raw data.\n",
        "\n",
        "  - When we use specific techniques or workflows that require a specific statistical distribution, we must transform the raw data. For example, in order to perform Sequential Gaussian Simulation, we must transform the raw data into gaussian distributed data.\n",
        "<br>\n",
        "\n",
        "- A distribution transform may be applied to any parametric or non-parametric distribution. For example, we could transform a non-parametric distribution to a parametric distribution (e.g. Gaussian, Lognormal). In order to do it, we just need to map from one distribution to another through cumulative frequencies/percentiles\n",
        "<br>\n",
        "\n",
        "- In order to obtain the cumulative frequencies (Fx), we'll use the following equation, since we do are not sure about upper and lower tails:\n",
        "<br>\n",
        "\n",
        "<table>\n",
        "  <tr>\n",
        "    <td><b>Fx = sample index/(N+1)</b></td>\n",
        "  </tr>\n",
        "</table>\n",
        "<br>\n",
        "<br>\n"
      ]
    },
    {
      "cell_type": "markdown",
      "metadata": {
        "id": "ZJK2iWtVZ0MP"
      },
      "source": [
        "## To Gaussian Distribution Function"
      ]
    },
    {
      "cell_type": "code",
      "metadata": {
        "id": "u5dzjp_OBZPG"
      },
      "source": [
        "# Function that transform raw data to standard normally distributed data:\n",
        "\n",
        "NScoreTransform <- function (data=NA){\n",
        "\n",
        "  rank_sample <- rank(data)\n",
        "\n",
        "  # Getting the cumulative frequencies:\n",
        "  Fx <- rep(NA,length(rank_sample))\n",
        "  for(i in seq_along(rank_sample)){\n",
        "    Fx[i] <- rank_sample[i]/(length(rank_sample)+1)\n",
        "  }\n",
        "\n",
        "  # Getting the nscores:\n",
        "  n_scores <- rep(NA,length(rank_sample))\n",
        "  for(i in seq_along(rank_sample)){\n",
        "    n_scores[i] <- qnorm(Fx[i])\n",
        "  }\n",
        "\n",
        "  return(n_scores)\n",
        "}"
      ],
      "execution_count": 6,
      "outputs": []
    },
    {
      "cell_type": "markdown",
      "metadata": {
        "id": "dGFUoWrfPQT5"
      },
      "source": [
        "### Example 1: Transforming Raw Cr(%) Data to Gaussian Distributed Data\n",
        "\n",
        "<table align=\"center\">\n",
        "  <tr align=\"center\">\n",
        "    <td><b>Sample Index</b></td>\n",
        "    <td><b>Cr(%)</b></td>\n",
        "  </tr>\n",
        "  <tr align=\"center\">\n",
        "    <td>1</td>\n",
        "    <td>5</td>\n",
        "  </tr>\n",
        "  <tr align=\"center\">\n",
        "    <td>2</td>\n",
        "    <td>7</td>\n",
        "  </tr>\n",
        "  <tr align=\"center\">\n",
        "    <td>3</td>\n",
        "    <td>8</td>\n",
        "  </tr>\n",
        "  <tr align=\"center\">\n",
        "    <td>4</td>\n",
        "    <td>9</td>\n",
        "  </tr>\n",
        "  <tr align=\"center\">\n",
        "    <td>5</td>\n",
        "    <td>9</td>\n",
        "  </tr>\n",
        "  <tr align=\"center\">\n",
        "    <td>6</td>\n",
        "    <td>10</td>\n",
        "  </tr>\n",
        "  <tr align=\"center\">\n",
        "    <td>7</td>\n",
        "    <td>13</td>\n",
        "  </tr>\n",
        "  <tr align=\"center\">\n",
        "    <td>8</td>\n",
        "    <td>15</td>\n",
        "  </tr>\n",
        "  <tr align=\"center\">\n",
        "    <td>9</td>\n",
        "    <td>17</td>\n",
        "  </tr>\n",
        "  <tr align=\"center\">\n",
        "    <td>10</td>\n",
        "    <td>29</td>\n",
        "  </tr>\n",
        "</table><br><br>"
      ]
    },
    {
      "cell_type": "code",
      "metadata": {
        "id": "csphSH1MPTQS"
      },
      "source": [
        "# Variable Cr(%):\n",
        "Cr <- c(8,7,5,29,17,15,9,13,9,10)"
      ],
      "execution_count": null,
      "outputs": []
    },
    {
      "cell_type": "code",
      "metadata": {
        "id": "QA0vq2oYCfMd"
      },
      "source": [
        "# Cr(%) transformed:\n",
        "Cr_nscores <- NScoreTransform(Cr)"
      ],
      "execution_count": null,
      "outputs": []
    },
    {
      "cell_type": "code",
      "metadata": {
        "id": "oJEtLd-Eq2pP",
        "outputId": "e60c9587-2a57-4ff3-a22c-8aac374a6cda",
        "colab": {
          "base_uri": "https://localhost:8080/",
          "height": 247
        }
      },
      "source": [
        "data.frame(Sample_Index=rank(Cr),Raw_Cr=Cr,NSCORES=Cr_nscores)"
      ],
      "execution_count": null,
      "outputs": [
        {
          "output_type": "display_data",
          "data": {
            "text/plain": [
              "   Sample_Index Raw_Cr NSCORES   \n",
              "1   3.0          8     -0.6045853\n",
              "2   2.0          7     -0.9084579\n",
              "3   1.0          5     -1.3351777\n",
              "4  10.0         29      1.3351777\n",
              "5   9.0         17      0.9084579\n",
              "6   8.0         15      0.6045853\n",
              "7   4.5          9     -0.2298841\n",
              "8   7.0         13      0.3487557\n",
              "9   4.5          9     -0.2298841\n",
              "10  6.0         10      0.1141853"
            ],
            "text/latex": "A data.frame: 10 × 3\n\\begin{tabular}{lll}\n Sample\\_Index & Raw\\_Cr & NSCORES\\\\\n <dbl> & <dbl> & <dbl>\\\\\n\\hline\n\t  3.0 &  8 & -0.6045853\\\\\n\t  2.0 &  7 & -0.9084579\\\\\n\t  1.0 &  5 & -1.3351777\\\\\n\t 10.0 & 29 &  1.3351777\\\\\n\t  9.0 & 17 &  0.9084579\\\\\n\t  8.0 & 15 &  0.6045853\\\\\n\t  4.5 &  9 & -0.2298841\\\\\n\t  7.0 & 13 &  0.3487557\\\\\n\t  4.5 &  9 & -0.2298841\\\\\n\t  6.0 & 10 &  0.1141853\\\\\n\\end{tabular}\n",
            "text/markdown": "\nA data.frame: 10 × 3\n\n| Sample_Index &lt;dbl&gt; | Raw_Cr &lt;dbl&gt; | NSCORES &lt;dbl&gt; |\n|---|---|---|\n|  3.0 |  8 | -0.6045853 |\n|  2.0 |  7 | -0.9084579 |\n|  1.0 |  5 | -1.3351777 |\n| 10.0 | 29 |  1.3351777 |\n|  9.0 | 17 |  0.9084579 |\n|  8.0 | 15 |  0.6045853 |\n|  4.5 |  9 | -0.2298841 |\n|  7.0 | 13 |  0.3487557 |\n|  4.5 |  9 | -0.2298841 |\n|  6.0 | 10 |  0.1141853 |\n\n",
            "text/html": [
              "<table>\n",
              "<caption>A data.frame: 10 × 3</caption>\n",
              "<thead>\n",
              "\t<tr><th scope=col>Sample_Index</th><th scope=col>Raw_Cr</th><th scope=col>NSCORES</th></tr>\n",
              "\t<tr><th scope=col>&lt;dbl&gt;</th><th scope=col>&lt;dbl&gt;</th><th scope=col>&lt;dbl&gt;</th></tr>\n",
              "</thead>\n",
              "<tbody>\n",
              "\t<tr><td> 3.0</td><td> 8</td><td>-0.6045853</td></tr>\n",
              "\t<tr><td> 2.0</td><td> 7</td><td>-0.9084579</td></tr>\n",
              "\t<tr><td> 1.0</td><td> 5</td><td>-1.3351777</td></tr>\n",
              "\t<tr><td>10.0</td><td>29</td><td> 1.3351777</td></tr>\n",
              "\t<tr><td> 9.0</td><td>17</td><td> 0.9084579</td></tr>\n",
              "\t<tr><td> 8.0</td><td>15</td><td> 0.6045853</td></tr>\n",
              "\t<tr><td> 4.5</td><td> 9</td><td>-0.2298841</td></tr>\n",
              "\t<tr><td> 7.0</td><td>13</td><td> 0.3487557</td></tr>\n",
              "\t<tr><td> 4.5</td><td> 9</td><td>-0.2298841</td></tr>\n",
              "\t<tr><td> 6.0</td><td>10</td><td> 0.1141853</td></tr>\n",
              "</tbody>\n",
              "</table>\n"
            ]
          },
          "metadata": {
            "tags": []
          }
        }
      ]
    },
    {
      "cell_type": "markdown",
      "metadata": {
        "id": "mF8DhctrdEcF"
      },
      "source": [
        "### Example 2: Tranforming Uniformly Distributed Data to Gaussian Distributed Data"
      ]
    },
    {
      "cell_type": "code",
      "metadata": {
        "id": "QOiYfMtnbrn-"
      },
      "source": [
        "# Creating data uniformly distributed:\n",
        "unif_data <- runif(1000)"
      ],
      "execution_count": null,
      "outputs": []
    },
    {
      "cell_type": "code",
      "metadata": {
        "id": "MCjpe486b8x-",
        "outputId": "fcbfb895-0d25-4cee-fee9-a33d87ce25d6",
        "colab": {
          "base_uri": "https://localhost:8080/",
          "height": 436
        }
      },
      "source": [
        "# Plotting Uniformly Distributed Data CDF:\n",
        "plot(ecdf(unif_data),\n",
        "    main=\"Uniformly Distributed Data CDF\",\n",
        "    xlab=\"X\",\n",
        "    ylab=\"Cumulative Frequency\")"
      ],
      "execution_count": null,
      "outputs": [
        {
          "output_type": "display_data",
          "data": {
            "image/png": "[encoded data removed]",
            "text/plain": [
              "Plot with title “Uniformly Distributed Data CDF”"
            ]
          },
          "metadata": {
            "tags": [],
            "image/png": {
              "width": 420,
              "height": 420
            }
          }
        }
      ]
    },
    {
      "cell_type": "code",
      "metadata": {
        "id": "SWlGe5wVb2R3"
      },
      "source": [
        "# Tranforming Uniformly Distributed Data to Gaussian Distributed Data:\n",
        "unif_data_nscores <- NScoreTransform(unif_data)"
      ],
      "execution_count": null,
      "outputs": []
    },
    {
      "cell_type": "code",
      "metadata": {
        "id": "t4YDp-NTclwn",
        "outputId": "8ef665ef-d049-426a-ee44-efc9689704ec",
        "colab": {
          "base_uri": "https://localhost:8080/",
          "height": 436
        }
      },
      "source": [
        "# Plotting Gaussian Distributed Data CDF:\n",
        "plot(ecdf(unif_data_nscores),\n",
        "    main=\"Gaussian Distributed Data CDF\",\n",
        "    xlab=\"Y ~ N (0,1)\",\n",
        "    ylab=\"Cumulative Frequency\")"
      ],
      "execution_count": null,
      "outputs": [
        {
          "output_type": "display_data",
          "data": {
            "image/png": "[encoded data removed]",
            "text/plain": [
              "Plot with title “Gaussian Distributed Data CDF”"
            ]
          },
          "metadata": {
            "tags": [],
            "image/png": {
              "width": 420,
              "height": 420
            }
          }
        }
      ]
    },
    {
      "cell_type": "markdown",
      "metadata": {
        "id": "LmgusB0eZ-2B"
      },
      "source": [
        "## To Uniform Distribution Function"
      ]
    },
    {
      "cell_type": "code",
      "metadata": {
        "id": "WmkZZ3HLoiMs"
      },
      "source": [
        "# Function that transform raw data to uniformy distributed data:\n",
        "\n",
        "UScoreTransform <- function (data=NA){\n",
        "\n",
        "  rank_sample <- rank(data)\n",
        "\n",
        "  # Getting the cumulative frequencies:\n",
        "  Fx <- rep(NA,length(rank_sample))\n",
        "  for(i in seq_along(rank_sample)){\n",
        "    Fx[i] <- rank_sample[i]/(length(rank_sample)+1)\n",
        "  }\n",
        "\n",
        "  # Getting the uniform scores:\n",
        "  u_scores <- rep(NA,length(rank_sample))\n",
        "  for(i in seq_along(rank_sample)){\n",
        "    u_scores[i] <- qunif(Fx[i])\n",
        "  }\n",
        "\n",
        "  return(u_scores)\n",
        "}"
      ],
      "execution_count": 7,
      "outputs": []
    },
    {
      "cell_type": "markdown",
      "metadata": {
        "id": "QN6aL9bEqHqU"
      },
      "source": [
        "### Example 3: Transforming Raw Cr(%) Data to Uniformly Distributed Data\n",
        "\n",
        "<table align=\"center\">\n",
        "  <tr align=\"center\">\n",
        "    <td><b>Sample Index</b></td>\n",
        "    <td><b>Cr(%)</b></td>\n",
        "  </tr>\n",
        "  <tr align=\"center\">\n",
        "    <td>1</td>\n",
        "    <td>5</td>\n",
        "  </tr>\n",
        "  <tr align=\"center\">\n",
        "    <td>2</td>\n",
        "    <td>7</td>\n",
        "  </tr>\n",
        "  <tr align=\"center\">\n",
        "    <td>3</td>\n",
        "    <td>8</td>\n",
        "  </tr>\n",
        "  <tr align=\"center\">\n",
        "    <td>4</td>\n",
        "    <td>9</td>\n",
        "  </tr>\n",
        "  <tr align=\"center\">\n",
        "    <td>5</td>\n",
        "    <td>9</td>\n",
        "  </tr>\n",
        "  <tr align=\"center\">\n",
        "    <td>6</td>\n",
        "    <td>10</td>\n",
        "  </tr>\n",
        "  <tr align=\"center\">\n",
        "    <td>7</td>\n",
        "    <td>13</td>\n",
        "  </tr>\n",
        "  <tr align=\"center\">\n",
        "    <td>8</td>\n",
        "    <td>15</td>\n",
        "  </tr>\n",
        "  <tr align=\"center\">\n",
        "    <td>9</td>\n",
        "    <td>17</td>\n",
        "  </tr>\n",
        "  <tr align=\"center\">\n",
        "    <td>10</td>\n",
        "    <td>29</td>\n",
        "  </tr>\n",
        "</table><br><br>"
      ]
    },
    {
      "cell_type": "code",
      "metadata": {
        "id": "utgNbruBqY6E"
      },
      "source": [
        "# Variable Cr(%):\n",
        "Cr <- c(8,7,5,29,17,15,9,13,9,10)"
      ],
      "execution_count": 18,
      "outputs": []
    },
    {
      "cell_type": "code",
      "metadata": {
        "id": "91fAmji7qY6O"
      },
      "source": [
        "# Cr(%) transformed:\n",
        "Cr_uscores <- UScoreTransform(Cr)"
      ],
      "execution_count": 19,
      "outputs": []
    },
    {
      "cell_type": "code",
      "metadata": {
        "id": "zCbABc34reZa",
        "outputId": "60ec6ee4-6d92-4bef-dc84-eefe656d79af",
        "colab": {
          "base_uri": "https://localhost:8080/",
          "height": 247
        }
      },
      "source": [
        "data.frame(Sample_Index=rank(Cr),Raw_Cr=Cr,USCORES=Cr_uscores)"
      ],
      "execution_count": 27,
      "outputs": [
        {
          "output_type": "display_data",
          "data": {
            "text/plain": [
              "   Sample_Index Raw_Cr USCORES   \n",
              "1   3.0          8     0.27272727\n",
              "2   2.0          7     0.18181818\n",
              "3   1.0          5     0.09090909\n",
              "4  10.0         29     0.90909091\n",
              "5   9.0         17     0.81818182\n",
              "6   8.0         15     0.72727273\n",
              "7   4.5          9     0.40909091\n",
              "8   7.0         13     0.63636364\n",
              "9   4.5          9     0.40909091\n",
              "10  6.0         10     0.54545455"
            ],
            "text/latex": "A data.frame: 10 × 3\n\\begin{tabular}{lll}\n Sample\\_Index & Raw\\_Cr & USCORES\\\\\n <dbl> & <dbl> & <dbl>\\\\\n\\hline\n\t  3.0 &  8 & 0.27272727\\\\\n\t  2.0 &  7 & 0.18181818\\\\\n\t  1.0 &  5 & 0.09090909\\\\\n\t 10.0 & 29 & 0.90909091\\\\\n\t  9.0 & 17 & 0.81818182\\\\\n\t  8.0 & 15 & 0.72727273\\\\\n\t  4.5 &  9 & 0.40909091\\\\\n\t  7.0 & 13 & 0.63636364\\\\\n\t  4.5 &  9 & 0.40909091\\\\\n\t  6.0 & 10 & 0.54545455\\\\\n\\end{tabular}\n",
            "text/markdown": "\nA data.frame: 10 × 3\n\n| Sample_Index &lt;dbl&gt; | Raw_Cr &lt;dbl&gt; | USCORES &lt;dbl&gt; |\n|---|---|---|\n|  3.0 |  8 | 0.27272727 |\n|  2.0 |  7 | 0.18181818 |\n|  1.0 |  5 | 0.09090909 |\n| 10.0 | 29 | 0.90909091 |\n|  9.0 | 17 | 0.81818182 |\n|  8.0 | 15 | 0.72727273 |\n|  4.5 |  9 | 0.40909091 |\n|  7.0 | 13 | 0.63636364 |\n|  4.5 |  9 | 0.40909091 |\n|  6.0 | 10 | 0.54545455 |\n\n",
            "text/html": [
              "<table>\n",
              "<caption>A data.frame: 10 × 3</caption>\n",
              "<thead>\n",
              "\t<tr><th scope=col>Sample_Index</th><th scope=col>Raw_Cr</th><th scope=col>USCORES</th></tr>\n",
              "\t<tr><th scope=col>&lt;dbl&gt;</th><th scope=col>&lt;dbl&gt;</th><th scope=col>&lt;dbl&gt;</th></tr>\n",
              "</thead>\n",
              "<tbody>\n",
              "\t<tr><td> 3.0</td><td> 8</td><td>0.27272727</td></tr>\n",
              "\t<tr><td> 2.0</td><td> 7</td><td>0.18181818</td></tr>\n",
              "\t<tr><td> 1.0</td><td> 5</td><td>0.09090909</td></tr>\n",
              "\t<tr><td>10.0</td><td>29</td><td>0.90909091</td></tr>\n",
              "\t<tr><td> 9.0</td><td>17</td><td>0.81818182</td></tr>\n",
              "\t<tr><td> 8.0</td><td>15</td><td>0.72727273</td></tr>\n",
              "\t<tr><td> 4.5</td><td> 9</td><td>0.40909091</td></tr>\n",
              "\t<tr><td> 7.0</td><td>13</td><td>0.63636364</td></tr>\n",
              "\t<tr><td> 4.5</td><td> 9</td><td>0.40909091</td></tr>\n",
              "\t<tr><td> 6.0</td><td>10</td><td>0.54545455</td></tr>\n",
              "</tbody>\n",
              "</table>\n"
            ]
          },
          "metadata": {
            "tags": []
          }
        }
      ]
    },
    {
      "cell_type": "markdown",
      "metadata": {
        "id": "WhnacKobpBJo"
      },
      "source": [
        "### Example 4: Tranforming Gaussian Distributed Data to Uniformly Distributed Data "
      ]
    },
    {
      "cell_type": "code",
      "metadata": {
        "id": "LzQj0-LlpQks"
      },
      "source": [
        "# Creating data uniformly distributed:\n",
        "norm_data <- rnorm(1000,mean=10,sd=2)"
      ],
      "execution_count": 21,
      "outputs": []
    },
    {
      "cell_type": "code",
      "metadata": {
        "id": "SAVt6X-IpQkx",
        "outputId": "0baaee1c-c10c-44b8-e6d1-b5795458648f",
        "colab": {
          "base_uri": "https://localhost:8080/",
          "height": 436
        }
      },
      "source": [
        "# Plotting Gaussian Distributed Data CDF:\n",
        "plot(ecdf(norm_data),\n",
        "    main=\"Gaussian Distributed Data CDF\",\n",
        "    xlab=\"X ~ N (10,2)\",\n",
        "    ylab=\"Cumulative Frequency\")"
      ],
      "execution_count": 22,
      "outputs": [
        {
          "output_type": "display_data",
          "data": {
            "image/png": "[encoded data removed]",
            "text/plain": [
              "Plot with title “Gaussian Distributed Data CDF”"
            ]
          },
          "metadata": {
            "tags": [],
            "image/png": {
              "width": 420,
              "height": 420
            }
          }
        }
      ]
    },
    {
      "cell_type": "code",
      "metadata": {
        "id": "myMAwIFLpQk1"
      },
      "source": [
        "# Tranforming Gaussian Distributed Data to Uniformly Distributed Data:\n",
        "norm_data_uscores <- UScoreTransform(norm_data)"
      ],
      "execution_count": 23,
      "outputs": []
    },
    {
      "cell_type": "code",
      "metadata": {
        "id": "XHs9YGQ-pQk4",
        "outputId": "8cfd6f61-5038-4e23-e7f7-081f98aeb0ed",
        "colab": {
          "base_uri": "https://localhost:8080/",
          "height": 436
        }
      },
      "source": [
        "# Plotting Gaussian Distributed Data CDF:\n",
        "plot(ecdf(norm_data_uscores),\n",
        "    main=\"Uniformly Distributed Data CDF\",\n",
        "    xlab=\"Y ~ Unif [0,1]\",\n",
        "    ylab=\"Cumulative Frequency\")"
      ],
      "execution_count": 24,
      "outputs": [
        {
          "output_type": "display_data",
          "data": {
            "image/png": "[encoded data removed]",
            "text/plain": [
              "Plot with title “Uniformly Distributed Data CDF”"
            ]
          },
          "metadata": {
            "tags": [],
            "image/png": {
              "width": 420,
              "height": 420
            }
          }
        }
      ]
    },
    {
      "cell_type": "markdown",
      "metadata": {
        "id": "NO7cwm74afk3"
      },
      "source": [
        "## To Lognormal Distribution Function"
      ]
    },
    {
      "cell_type": "code",
      "metadata": {
        "id": "lra7D-Tvam42"
      },
      "source": [
        "# Function that transform raw data to lognormally distributed data:\n",
        "\n",
        "LNScoreTransform <- function (data=NA){\n",
        "\n",
        "  rank_sample <- rank(data)\n",
        "\n",
        "  # Getting the cumulative frequencies:\n",
        "  Fx <- rep(NA,length(rank_sample))\n",
        "  for(i in seq_along(rank_sample)){\n",
        "    Fx[i] <- rank_sample[i]/(length(rank_sample)+1)\n",
        "  }\n",
        "\n",
        "  # Getting the uniform scores:\n",
        "  ln_scores <- rep(NA,length(rank_sample))\n",
        "  for(i in seq_along(rank_sample)){\n",
        "    ln_scores[i] <- qlnorm(Fx[i])\n",
        "  }\n",
        "\n",
        "  return(ln_scores)\n",
        "}"
      ],
      "execution_count": 29,
      "outputs": []
    },
    {
      "cell_type": "markdown",
      "metadata": {
        "id": "Hw_hKd1cZFrN"
      },
      "source": [
        "### Example 5: Transforming Raw Cr(%) Data to Lognormal Distributed Data\n",
        "\n",
        "<table align=\"center\">\n",
        "  <tr align=\"center\">\n",
        "    <td><b>Sample Index</b></td>\n",
        "    <td><b>Cr(%)</b></td>\n",
        "  </tr>\n",
        "  <tr align=\"center\">\n",
        "    <td>1</td>\n",
        "    <td>5</td>\n",
        "  </tr>\n",
        "  <tr align=\"center\">\n",
        "    <td>2</td>\n",
        "    <td>7</td>\n",
        "  </tr>\n",
        "  <tr align=\"center\">\n",
        "    <td>3</td>\n",
        "    <td>8</td>\n",
        "  </tr>\n",
        "  <tr align=\"center\">\n",
        "    <td>4</td>\n",
        "    <td>9</td>\n",
        "  </tr>\n",
        "  <tr align=\"center\">\n",
        "    <td>5</td>\n",
        "    <td>9</td>\n",
        "  </tr>\n",
        "  <tr align=\"center\">\n",
        "    <td>6</td>\n",
        "    <td>10</td>\n",
        "  </tr>\n",
        "  <tr align=\"center\">\n",
        "    <td>7</td>\n",
        "    <td>13</td>\n",
        "  </tr>\n",
        "  <tr align=\"center\">\n",
        "    <td>8</td>\n",
        "    <td>15</td>\n",
        "  </tr>\n",
        "  <tr align=\"center\">\n",
        "    <td>9</td>\n",
        "    <td>17</td>\n",
        "  </tr>\n",
        "  <tr align=\"center\">\n",
        "    <td>10</td>\n",
        "    <td>29</td>\n",
        "  </tr>\n",
        "</table><br><br>"
      ]
    },
    {
      "cell_type": "code",
      "metadata": {
        "id": "wWPcZZE3a2iR"
      },
      "source": [
        "# Variable Cr(%):\n",
        "Cr <- c(8,7,5,29,17,15,9,13,9,10)"
      ],
      "execution_count": 30,
      "outputs": []
    },
    {
      "cell_type": "code",
      "metadata": {
        "id": "3AMsCpALa2id"
      },
      "source": [
        "# Cr(%) transformed:\n",
        "Cr_lnscores <- LNScoreTransform(Cr)"
      ],
      "execution_count": 31,
      "outputs": []
    },
    {
      "cell_type": "code",
      "metadata": {
        "id": "GZ_1aZ-9a2ii",
        "outputId": "f8fb2f7c-2031-49e3-f147-545c478708b0",
        "colab": {
          "base_uri": "https://localhost:8080/",
          "height": 247
        }
      },
      "source": [
        "data.frame(Sample_Index=rank(Cr),Raw_Cr=Cr,LNSCORES=Cr_lnscores)"
      ],
      "execution_count": 32,
      "outputs": [
        {
          "output_type": "display_data",
          "data": {
            "text/plain": [
              "   Sample_Index Raw_Cr LNSCORES \n",
              "1   3.0          8     0.5463009\n",
              "2   2.0          7     0.4031454\n",
              "3   1.0          5     0.2631114\n",
              "4  10.0         29     3.8006714\n",
              "5   9.0         17     2.4804943\n",
              "6   8.0         15     1.8304930\n",
              "7   4.5          9     0.7946257\n",
              "8   7.0         13     1.4173029\n",
              "9   4.5          9     0.7946257\n",
              "10  6.0         10     1.1209598"
            ],
            "text/latex": "A data.frame: 10 × 3\n\\begin{tabular}{lll}\n Sample\\_Index & Raw\\_Cr & LNSCORES\\\\\n <dbl> & <dbl> & <dbl>\\\\\n\\hline\n\t  3.0 &  8 & 0.5463009\\\\\n\t  2.0 &  7 & 0.4031454\\\\\n\t  1.0 &  5 & 0.2631114\\\\\n\t 10.0 & 29 & 3.8006714\\\\\n\t  9.0 & 17 & 2.4804943\\\\\n\t  8.0 & 15 & 1.8304930\\\\\n\t  4.5 &  9 & 0.7946257\\\\\n\t  7.0 & 13 & 1.4173029\\\\\n\t  4.5 &  9 & 0.7946257\\\\\n\t  6.0 & 10 & 1.1209598\\\\\n\\end{tabular}\n",
            "text/markdown": "\nA data.frame: 10 × 3\n\n| Sample_Index &lt;dbl&gt; | Raw_Cr &lt;dbl&gt; | LNSCORES &lt;dbl&gt; |\n|---|---|---|\n|  3.0 |  8 | 0.5463009 |\n|  2.0 |  7 | 0.4031454 |\n|  1.0 |  5 | 0.2631114 |\n| 10.0 | 29 | 3.8006714 |\n|  9.0 | 17 | 2.4804943 |\n|  8.0 | 15 | 1.8304930 |\n|  4.5 |  9 | 0.7946257 |\n|  7.0 | 13 | 1.4173029 |\n|  4.5 |  9 | 0.7946257 |\n|  6.0 | 10 | 1.1209598 |\n\n",
            "text/html": [
              "<table>\n",
              "<caption>A data.frame: 10 × 3</caption>\n",
              "<thead>\n",
              "\t<tr><th scope=col>Sample_Index</th><th scope=col>Raw_Cr</th><th scope=col>LNSCORES</th></tr>\n",
              "\t<tr><th scope=col>&lt;dbl&gt;</th><th scope=col>&lt;dbl&gt;</th><th scope=col>&lt;dbl&gt;</th></tr>\n",
              "</thead>\n",
              "<tbody>\n",
              "\t<tr><td> 3.0</td><td> 8</td><td>0.5463009</td></tr>\n",
              "\t<tr><td> 2.0</td><td> 7</td><td>0.4031454</td></tr>\n",
              "\t<tr><td> 1.0</td><td> 5</td><td>0.2631114</td></tr>\n",
              "\t<tr><td>10.0</td><td>29</td><td>3.8006714</td></tr>\n",
              "\t<tr><td> 9.0</td><td>17</td><td>2.4804943</td></tr>\n",
              "\t<tr><td> 8.0</td><td>15</td><td>1.8304930</td></tr>\n",
              "\t<tr><td> 4.5</td><td> 9</td><td>0.7946257</td></tr>\n",
              "\t<tr><td> 7.0</td><td>13</td><td>1.4173029</td></tr>\n",
              "\t<tr><td> 4.5</td><td> 9</td><td>0.7946257</td></tr>\n",
              "\t<tr><td> 6.0</td><td>10</td><td>1.1209598</td></tr>\n",
              "</tbody>\n",
              "</table>\n"
            ]
          },
          "metadata": {
            "tags": []
          }
        }
      ]
    },
    {
      "cell_type": "markdown",
      "metadata": {
        "id": "F0KYcS5CZo91"
      },
      "source": [
        "### Example 6: Tranforming Uniformly Distributed Data to Lognormal Distributed Data"
      ]
    },
    {
      "cell_type": "code",
      "metadata": {
        "id": "7O9NoRlPbH0q"
      },
      "source": [
        "# Creating data uniformly distributed:\n",
        "unif_data <- runif(1000)"
      ],
      "execution_count": 33,
      "outputs": []
    },
    {
      "cell_type": "code",
      "metadata": {
        "id": "lvh4a16ebH00",
        "outputId": "c4754aea-ee28-41e7-c048-7ad7b30c7b6d",
        "colab": {
          "base_uri": "https://localhost:8080/",
          "height": 436
        }
      },
      "source": [
        "# Plotting Uniformly Distributed Data CDF:\n",
        "plot(ecdf(unif_data),\n",
        "    main=\"Uniformly Distributed Data CDF\",\n",
        "    xlab=\"X\",\n",
        "    ylab=\"Cumulative Frequency\")"
      ],
      "execution_count": 34,
      "outputs": [
        {
          "output_type": "display_data",
          "data": {
            "image/png": "[encoded data removed]",
            "text/plain": [
              "Plot with title “Uniformly Distributed Data CDF”"
            ]
          },
          "metadata": {
            "tags": [],
            "image/png": {
              "width": 420,
              "height": 420
            }
          }
        }
      ]
    },
    {
      "cell_type": "code",
      "metadata": {
        "id": "42WWqSW9bH07"
      },
      "source": [
        "# Tranforming Uniformly Distributed Data to Lognormally Distributed Data:\n",
        "unif_data_lnscores <- LNScoreTransform(unif_data)"
      ],
      "execution_count": 35,
      "outputs": []
    },
    {
      "cell_type": "code",
      "metadata": {
        "id": "8CgVaMLKb-6a",
        "outputId": "45e99bfd-a6f2-4760-f712-85f85cca9566",
        "colab": {
          "base_uri": "https://localhost:8080/",
          "height": 436
        }
      },
      "source": [
        "# Plotting Lognormally Distributed Data Histogram:\n",
        "hist(unif_data_lnscores,\n",
        "    main=\"Histogram of Lognormally Distributed Data\",\n",
        "    xlab=\"Y\",\n",
        "    xlim=c(0,25),\n",
        "    ylab=\"Absolute Frequency\",\n",
        "    breaks=20)"
      ],
      "execution_count": 41,
      "outputs": [
        {
          "output_type": "display_data",
          "data": {
            "image/png": "[encoded data removed]",
            "text/plain": [
              "Plot with title “Histogram of Lognormally Distributed Data”"
            ]
          },
          "metadata": {
            "tags": [],
            "image/png": {
              "width": 420,
              "height": 420
            }
          }
        }
      ]
    },
    {
      "cell_type": "code",
      "metadata": {
        "id": "TolDV_jybH0-",
        "outputId": "6e2d23e0-38e3-43cb-89fb-a2c629001fea",
        "colab": {
          "base_uri": "https://localhost:8080/",
          "height": 436
        }
      },
      "source": [
        "# Plotting Lognormally Distributed Data CDF:\n",
        "plot(ecdf(unif_data_lnscores),\n",
        "    main=\"Lognormally Distributed Data CDF\",\n",
        "    xlab=\"Y\",\n",
        "    ylab=\"Cumulative Frequency\")"
      ],
      "execution_count": 36,
      "outputs": [
        {
          "output_type": "display_data",
          "data": {
            "image/png": "[encoded data removed]",
            "text/plain": [
              "Plot with title “Lognormally Distributed Data CDF”"
            ]
          },
          "metadata": {
            "tags": [],
            "image/png": {
              "width": 420,
              "height": 420
            }
          }
        }
      ]
    }
  ]
}