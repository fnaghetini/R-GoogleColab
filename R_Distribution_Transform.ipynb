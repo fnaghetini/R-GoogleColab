{
  "nbformat": 4,
  "nbformat_minor": 0,
  "metadata": {
    "colab": {
      "name": "R_Distribution_Transform.ipynb",
      "provenance": []
    },
    "kernelspec": {
      "name": "ir",
      "display_name": "R"
    }
  },
  "cells": [
    {
      "cell_type": "markdown",
      "metadata": {
        "id": "on0Iiad7eU7m"
      },
      "source": [
        "# Distribution Transform\n",
        "\n",
        "- This notebook is based on Michael Pyrcz lecture about **Distribution Transform**. To check it, click on the link below:\n",
        "  https://www.youtube.com/watch?v=ZDIpE3OkAIU&list=PLG19vXLQHvSB-D4XKYieEku9GQMQyAzjJ&index=14&t=2s\n",
        "<br>\n",
        "\n",
        "- There are many reasons to transform data from a given distribution to another distribution, such as:\n",
        "  - Suppose that we've sampled just a few data from a given variable and we have a prior knowledge about the shape of that variable distribution. Therefore, we may transform the raw data.\n",
        "\n",
        "  - When we use specific techniques or workflows that require a specific statistical distribution, we must transform the raw data. For example, in order to perform Sequential Gaussian Simulation, we must transform the raw data into gaussian distributed data.\n",
        "<br>\n",
        "\n",
        "- A distribution transform may be applied to any parametric or non-parametric distribution. For example, we could transform a non-parametric distribution to a parametric distribution (e.g. Gaussian, Lognormal). In order to do it, we just need to map from one distribution to another through cumulative frequencies/percentiles\n",
        "<br>\n",
        "\n",
        "- In order to obtain the cumulative frequencies (Fx), we'll use the following equation, since we do are not sure about upper and lower tails:\n",
        "<br>\n",
        "\n",
        "<table>\n",
        "  <tr>\n",
        "    <td><b>Fx = sample index/(N+1)</b></td>\n",
        "  </tr>\n",
        "</table>\n",
        "<br>\n",
        "<br>\n"
      ]
    },
    {
      "cell_type": "code",
      "metadata": {
        "id": "GooajAevX48o"
      },
      "source": [
        "# Function that transform raw data to a standard normally distributed data:\n",
        "\n",
        "NScoreTransform <- function (data=NA){\n",
        "\n",
        "  sample_index <- 1:length(data)\n",
        "\n",
        "  # Getting the cumulative frequencies:\n",
        "  Fx <- rep(NA,length(sample_index))\n",
        "  for(i in sample_index){\n",
        "    Fx[i] <- sample_index[i]/(length(sample_index)+1)\n",
        "  }\n",
        "\n",
        "  # Getting the nscores:\n",
        "  n_scores <- rep(NA,length(sample_index))\n",
        "  for(i in sample_index){\n",
        "    n_scores[i] <- qnorm(Fx[i])\n",
        "  }\n",
        "\n",
        "  return(n_scores)\n",
        "}"
      ],
      "execution_count": 45,
      "outputs": []
    },
    {
      "cell_type": "code",
      "metadata": {
        "id": "WmkZZ3HLoiMs"
      },
      "source": [
        "# Function that transform raw data to a uniformy distributed data:\n",
        "\n",
        "UScoreTransform <- function (data=NA){\n",
        "\n",
        "  sample_index <- 1:length(data)\n",
        "\n",
        "  # Getting the cumulative frequencies:\n",
        "  Fx <- rep(NA,length(sample_index))\n",
        "  for(i in sample_index){\n",
        "    Fx[i] <- sample_index[i]/(length(sample_index)+1)\n",
        "  }\n",
        "\n",
        "  # Getting the uniform scores:\n",
        "  u_scores <- rep(NA,length(sample_index))\n",
        "  for(i in sample_index){\n",
        "    u_scores[i] <- qunif(Fx[i])\n",
        "  }\n",
        "\n",
        "  return(u_scores)\n",
        "}"
      ],
      "execution_count": 46,
      "outputs": []
    },
    {
      "cell_type": "markdown",
      "metadata": {
        "id": "dGFUoWrfPQT5"
      },
      "source": [
        "## Example 1: Transforming Raw Cr(%) Data to Gaussian Distributed Data\n",
        "\n",
        "<table align=\"center\">\n",
        "  <tr align=\"center\">\n",
        "    <td><b>Sample Index</b></td>\n",
        "    <td><b>Cr(%)</b></td>\n",
        "  </tr>\n",
        "  <tr align=\"center\">\n",
        "    <td>1</td>\n",
        "    <td>5</td>\n",
        "  </tr>\n",
        "  <tr align=\"center\">\n",
        "    <td>2</td>\n",
        "    <td>7</td>\n",
        "  </tr>\n",
        "  <tr align=\"center\">\n",
        "    <td>3</td>\n",
        "    <td>8</td>\n",
        "  </tr>\n",
        "  <tr align=\"center\">\n",
        "    <td>4</td>\n",
        "    <td>9</td>\n",
        "  </tr>\n",
        "  <tr align=\"center\">\n",
        "    <td>5</td>\n",
        "    <td>9</td>\n",
        "  </tr>\n",
        "  <tr align=\"center\">\n",
        "    <td>6</td>\n",
        "    <td>10</td>\n",
        "  </tr>\n",
        "  <tr align=\"center\">\n",
        "    <td>7</td>\n",
        "    <td>13</td>\n",
        "  </tr>\n",
        "  <tr align=\"center\">\n",
        "    <td>8</td>\n",
        "    <td>15</td>\n",
        "  </tr>\n",
        "  <tr align=\"center\">\n",
        "    <td>9</td>\n",
        "    <td>17</td>\n",
        "  </tr>\n",
        "  <tr align=\"center\">\n",
        "    <td>10</td>\n",
        "    <td>29</td>\n",
        "  </tr>\n",
        "</table><br><br>"
      ]
    },
    {
      "cell_type": "code",
      "metadata": {
        "id": "csphSH1MPTQS"
      },
      "source": [
        "# Variable Cr(%):\n",
        "Cr <- c(5,7,8,9,9,10,13,15,17,29)"
      ],
      "execution_count": 18,
      "outputs": []
    },
    {
      "cell_type": "code",
      "metadata": {
        "id": "hcBm_197YzNz"
      },
      "source": [
        "# Cr(%) transformed:\n",
        "Cr_nscores <- NScoreTransform(Cr)"
      ],
      "execution_count": 60,
      "outputs": []
    },
    {
      "cell_type": "code",
      "metadata": {
        "id": "oJEtLd-Eq2pP",
        "outputId": "0da729c4-e83c-4f64-f9db-46576f9b4d50",
        "colab": {
          "base_uri": "https://localhost:8080/",
          "height": 247
        }
      },
      "source": [
        "data.frame(Sample_Index=1:10, Raw_Cr=Cr,NSCORES=Cr_nscores)"
      ],
      "execution_count": 57,
      "outputs": [
        {
          "output_type": "display_data",
          "data": {
            "text/plain": [
              "   Sample_Index Raw_Cr NSCORES   \n",
              "1   1            5     -1.3351777\n",
              "2   2            7     -0.9084579\n",
              "3   3            8     -0.6045853\n",
              "4   4            9     -0.3487557\n",
              "5   5            9     -0.1141853\n",
              "6   6           10      0.1141853\n",
              "7   7           13      0.3487557\n",
              "8   8           15      0.6045853\n",
              "9   9           17      0.9084579\n",
              "10 10           29      1.3351777"
            ],
            "text/latex": "A data.frame: 10 × 3\n\\begin{tabular}{lll}\n Sample\\_Index & Raw\\_Cr & NSCORES\\\\\n <int> & <dbl> & <dbl>\\\\\n\\hline\n\t  1 &  5 & -1.3351777\\\\\n\t  2 &  7 & -0.9084579\\\\\n\t  3 &  8 & -0.6045853\\\\\n\t  4 &  9 & -0.3487557\\\\\n\t  5 &  9 & -0.1141853\\\\\n\t  6 & 10 &  0.1141853\\\\\n\t  7 & 13 &  0.3487557\\\\\n\t  8 & 15 &  0.6045853\\\\\n\t  9 & 17 &  0.9084579\\\\\n\t 10 & 29 &  1.3351777\\\\\n\\end{tabular}\n",
            "text/markdown": "\nA data.frame: 10 × 3\n\n| Sample_Index &lt;int&gt; | Raw_Cr &lt;dbl&gt; | NSCORES &lt;dbl&gt; |\n|---|---|---|\n|  1 |  5 | -1.3351777 |\n|  2 |  7 | -0.9084579 |\n|  3 |  8 | -0.6045853 |\n|  4 |  9 | -0.3487557 |\n|  5 |  9 | -0.1141853 |\n|  6 | 10 |  0.1141853 |\n|  7 | 13 |  0.3487557 |\n|  8 | 15 |  0.6045853 |\n|  9 | 17 |  0.9084579 |\n| 10 | 29 |  1.3351777 |\n\n",
            "text/html": [
              "<table>\n",
              "<caption>A data.frame: 10 × 3</caption>\n",
              "<thead>\n",
              "\t<tr><th scope=col>Sample_Index</th><th scope=col>Raw_Cr</th><th scope=col>NSCORES</th></tr>\n",
              "\t<tr><th scope=col>&lt;int&gt;</th><th scope=col>&lt;dbl&gt;</th><th scope=col>&lt;dbl&gt;</th></tr>\n",
              "</thead>\n",
              "<tbody>\n",
              "\t<tr><td> 1</td><td> 5</td><td>-1.3351777</td></tr>\n",
              "\t<tr><td> 2</td><td> 7</td><td>-0.9084579</td></tr>\n",
              "\t<tr><td> 3</td><td> 8</td><td>-0.6045853</td></tr>\n",
              "\t<tr><td> 4</td><td> 9</td><td>-0.3487557</td></tr>\n",
              "\t<tr><td> 5</td><td> 9</td><td>-0.1141853</td></tr>\n",
              "\t<tr><td> 6</td><td>10</td><td> 0.1141853</td></tr>\n",
              "\t<tr><td> 7</td><td>13</td><td> 0.3487557</td></tr>\n",
              "\t<tr><td> 8</td><td>15</td><td> 0.6045853</td></tr>\n",
              "\t<tr><td> 9</td><td>17</td><td> 0.9084579</td></tr>\n",
              "\t<tr><td>10</td><td>29</td><td> 1.3351777</td></tr>\n",
              "</tbody>\n",
              "</table>\n"
            ]
          },
          "metadata": {
            "tags": []
          }
        }
      ]
    },
    {
      "cell_type": "markdown",
      "metadata": {
        "id": "mF8DhctrdEcF"
      },
      "source": [
        "## Example 2: Tranforming Uniformly Distributed Data to Gaussian Distributed Data"
      ]
    },
    {
      "cell_type": "code",
      "metadata": {
        "id": "QOiYfMtnbrn-"
      },
      "source": [
        "# Creating data uniformly distributed:\n",
        "unif_data <- runif(1000)"
      ],
      "execution_count": 47,
      "outputs": []
    },
    {
      "cell_type": "code",
      "metadata": {
        "id": "MCjpe486b8x-",
        "outputId": "5a69298c-eee0-47bb-9d8e-5322b388c2d8",
        "colab": {
          "base_uri": "https://localhost:8080/",
          "height": 436
        }
      },
      "source": [
        "# Plotting Uniformly Distributed Data CDF:\n",
        "plot(ecdf(unif_data),\n",
        "    main=\"Uniformly Distributed Data CDF\",\n",
        "    xlab=\"X\",\n",
        "    ylab=\"Cumulative Frequency\")"
      ],
      "execution_count": 35,
      "outputs": [
        {
          "output_type": "display_data",
          "data": {
            "image/png": "[encoded data removed]",
            "text/plain": [
              "Plot with title “Uniformly Distributed Data CDF”"
            ]
          },
          "metadata": {
            "tags": [],
            "image/png": {
              "width": 420,
              "height": 420
            }
          }
        }
      ]
    },
    {
      "cell_type": "code",
      "metadata": {
        "id": "SWlGe5wVb2R3"
      },
      "source": [
        "# Tranforming Uniformly Distributed Data to Gaussian Distributed Data:\n",
        "unif_data_nscores <- NScoreTransform(unif_data)"
      ],
      "execution_count": 48,
      "outputs": []
    },
    {
      "cell_type": "code",
      "metadata": {
        "id": "t4YDp-NTclwn",
        "outputId": "8b77386f-4071-45e5-f854-c3da3c97a821",
        "colab": {
          "base_uri": "https://localhost:8080/",
          "height": 436
        }
      },
      "source": [
        "# Plotting Gaussian Distributed Data CDF:\n",
        "plot(ecdf(unif_data_nscores),\n",
        "    main=\"Gaussian Distributed Data CDF\",\n",
        "    xlab=\"Y ~ N (0,1)\",\n",
        "    ylab=\"Cumulative Frequency\")"
      ],
      "execution_count": 38,
      "outputs": [
        {
          "output_type": "display_data",
          "data": {
            "image/png": "[encoded data removed]",
            "text/plain": [
              "Plot with title “Gaussian Distributed Data CDF”"
            ]
          },
          "metadata": {
            "tags": [],
            "image/png": {
              "width": 420,
              "height": 420
            }
          }
        }
      ]
    },
    {
      "cell_type": "markdown",
      "metadata": {
        "id": "QN6aL9bEqHqU"
      },
      "source": [
        "## Example 3: Transforming Raw Cr(%) Data to Uniformly Distributed Data\n",
        "\n",
        "<table align=\"center\">\n",
        "  <tr align=\"center\">\n",
        "    <td><b>Sample Index</b></td>\n",
        "    <td><b>Cr(%)</b></td>\n",
        "  </tr>\n",
        "  <tr align=\"center\">\n",
        "    <td>1</td>\n",
        "    <td>5</td>\n",
        "  </tr>\n",
        "  <tr align=\"center\">\n",
        "    <td>2</td>\n",
        "    <td>7</td>\n",
        "  </tr>\n",
        "  <tr align=\"center\">\n",
        "    <td>3</td>\n",
        "    <td>8</td>\n",
        "  </tr>\n",
        "  <tr align=\"center\">\n",
        "    <td>4</td>\n",
        "    <td>9</td>\n",
        "  </tr>\n",
        "  <tr align=\"center\">\n",
        "    <td>5</td>\n",
        "    <td>9</td>\n",
        "  </tr>\n",
        "  <tr align=\"center\">\n",
        "    <td>6</td>\n",
        "    <td>10</td>\n",
        "  </tr>\n",
        "  <tr align=\"center\">\n",
        "    <td>7</td>\n",
        "    <td>13</td>\n",
        "  </tr>\n",
        "  <tr align=\"center\">\n",
        "    <td>8</td>\n",
        "    <td>15</td>\n",
        "  </tr>\n",
        "  <tr align=\"center\">\n",
        "    <td>9</td>\n",
        "    <td>17</td>\n",
        "  </tr>\n",
        "  <tr align=\"center\">\n",
        "    <td>10</td>\n",
        "    <td>29</td>\n",
        "  </tr>\n",
        "</table><br><br>"
      ]
    },
    {
      "cell_type": "code",
      "metadata": {
        "id": "utgNbruBqY6E"
      },
      "source": [
        "# Variable Cr(%):\n",
        "Cr <- c(5,7,8,9,9,10,13,15,17,29)"
      ],
      "execution_count": 55,
      "outputs": []
    },
    {
      "cell_type": "code",
      "metadata": {
        "id": "91fAmji7qY6O"
      },
      "source": [
        "# Cr(%) transformed:\n",
        "Cr_uscores <- UScoreTransform(Cr)"
      ],
      "execution_count": 59,
      "outputs": []
    },
    {
      "cell_type": "code",
      "metadata": {
        "id": "zCbABc34reZa",
        "outputId": "e124949d-916d-430d-db05-9e06a4c8903e",
        "colab": {
          "base_uri": "https://localhost:8080/",
          "height": 247
        }
      },
      "source": [
        "data.frame(Sample_Index=1:10, Raw_Cr=Cr,NSCORES=Cr_uscores)"
      ],
      "execution_count": 58,
      "outputs": [
        {
          "output_type": "display_data",
          "data": {
            "text/plain": [
              "   Sample_Index Raw_Cr NSCORES   \n",
              "1   1            5     0.09090909\n",
              "2   2            7     0.18181818\n",
              "3   3            8     0.27272727\n",
              "4   4            9     0.36363636\n",
              "5   5            9     0.45454545\n",
              "6   6           10     0.54545455\n",
              "7   7           13     0.63636364\n",
              "8   8           15     0.72727273\n",
              "9   9           17     0.81818182\n",
              "10 10           29     0.90909091"
            ],
            "text/latex": "A data.frame: 10 × 3\n\\begin{tabular}{lll}\n Sample\\_Index & Raw\\_Cr & NSCORES\\\\\n <int> & <dbl> & <dbl>\\\\\n\\hline\n\t  1 &  5 & 0.09090909\\\\\n\t  2 &  7 & 0.18181818\\\\\n\t  3 &  8 & 0.27272727\\\\\n\t  4 &  9 & 0.36363636\\\\\n\t  5 &  9 & 0.45454545\\\\\n\t  6 & 10 & 0.54545455\\\\\n\t  7 & 13 & 0.63636364\\\\\n\t  8 & 15 & 0.72727273\\\\\n\t  9 & 17 & 0.81818182\\\\\n\t 10 & 29 & 0.90909091\\\\\n\\end{tabular}\n",
            "text/markdown": "\nA data.frame: 10 × 3\n\n| Sample_Index &lt;int&gt; | Raw_Cr &lt;dbl&gt; | NSCORES &lt;dbl&gt; |\n|---|---|---|\n|  1 |  5 | 0.09090909 |\n|  2 |  7 | 0.18181818 |\n|  3 |  8 | 0.27272727 |\n|  4 |  9 | 0.36363636 |\n|  5 |  9 | 0.45454545 |\n|  6 | 10 | 0.54545455 |\n|  7 | 13 | 0.63636364 |\n|  8 | 15 | 0.72727273 |\n|  9 | 17 | 0.81818182 |\n| 10 | 29 | 0.90909091 |\n\n",
            "text/html": [
              "<table>\n",
              "<caption>A data.frame: 10 × 3</caption>\n",
              "<thead>\n",
              "\t<tr><th scope=col>Sample_Index</th><th scope=col>Raw_Cr</th><th scope=col>NSCORES</th></tr>\n",
              "\t<tr><th scope=col>&lt;int&gt;</th><th scope=col>&lt;dbl&gt;</th><th scope=col>&lt;dbl&gt;</th></tr>\n",
              "</thead>\n",
              "<tbody>\n",
              "\t<tr><td> 1</td><td> 5</td><td>0.09090909</td></tr>\n",
              "\t<tr><td> 2</td><td> 7</td><td>0.18181818</td></tr>\n",
              "\t<tr><td> 3</td><td> 8</td><td>0.27272727</td></tr>\n",
              "\t<tr><td> 4</td><td> 9</td><td>0.36363636</td></tr>\n",
              "\t<tr><td> 5</td><td> 9</td><td>0.45454545</td></tr>\n",
              "\t<tr><td> 6</td><td>10</td><td>0.54545455</td></tr>\n",
              "\t<tr><td> 7</td><td>13</td><td>0.63636364</td></tr>\n",
              "\t<tr><td> 8</td><td>15</td><td>0.72727273</td></tr>\n",
              "\t<tr><td> 9</td><td>17</td><td>0.81818182</td></tr>\n",
              "\t<tr><td>10</td><td>29</td><td>0.90909091</td></tr>\n",
              "</tbody>\n",
              "</table>\n"
            ]
          },
          "metadata": {
            "tags": []
          }
        }
      ]
    },
    {
      "cell_type": "markdown",
      "metadata": {
        "id": "WhnacKobpBJo"
      },
      "source": [
        "## Example 4: Tranforming Gaussian Distributed Data to Uniformly Distributed Data "
      ]
    },
    {
      "cell_type": "code",
      "metadata": {
        "id": "LzQj0-LlpQks"
      },
      "source": [
        "# Creating data uniformly distributed:\n",
        "norm_data <- rnorm(1000,mean=10,sd=2)"
      ],
      "execution_count": 50,
      "outputs": []
    },
    {
      "cell_type": "code",
      "metadata": {
        "id": "SAVt6X-IpQkx",
        "outputId": "9808de88-054c-4d89-f1f4-85a02bca0f9b",
        "colab": {
          "base_uri": "https://localhost:8080/",
          "height": 436
        }
      },
      "source": [
        "# Plotting Gaussian Distributed Data CDF:\n",
        "plot(ecdf(norm_data),\n",
        "    main=\"Gaussian Distributed Data CDF\",\n",
        "    xlab=\"X ~ N (10,2)\",\n",
        "    ylab=\"Cumulative Frequency\")"
      ],
      "execution_count": 52,
      "outputs": [
        {
          "output_type": "display_data",
          "data": {
            "image/png": "[encoded data removed]",
            "text/plain": [
              "Plot with title “Gaussian Distributed Data CDF”"
            ]
          },
          "metadata": {
            "tags": [],
            "image/png": {
              "width": 420,
              "height": 420
            }
          }
        }
      ]
    },
    {
      "cell_type": "code",
      "metadata": {
        "id": "myMAwIFLpQk1"
      },
      "source": [
        "# Tranforming Gaussian Distributed Data to Uniformly Distributed Data:\n",
        "norm_data_uscores <- UScoreTransform(norm_data)"
      ],
      "execution_count": 53,
      "outputs": []
    },
    {
      "cell_type": "code",
      "metadata": {
        "id": "XHs9YGQ-pQk4",
        "outputId": "dead75a0-eacb-4d0e-ae38-6a911c14488d",
        "colab": {
          "base_uri": "https://localhost:8080/",
          "height": 436
        }
      },
      "source": [
        "# Plotting Gaussian Distributed Data CDF:\n",
        "plot(ecdf(norm_data_uscores),\n",
        "    main=\"Uniformly Distributed Data CDF\",\n",
        "    xlab=\"Y ~ Unif [0,1]\",\n",
        "    ylab=\"Cumulative Frequency\")"
      ],
      "execution_count": 54,
      "outputs": [
        {
          "output_type": "display_data",
          "data": {
            "image/png": "[encoded data removed]",
            "text/plain": [
              "Plot with title “Uniformly Distributed Data CDF”"
            ]
          },
          "metadata": {
            "tags": [],
            "image/png": {
              "width": 420,
              "height": 420
            }
          }
        }
      ]
    }
  ]
}