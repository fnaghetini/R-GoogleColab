{
  "nbformat": 4,
  "nbformat_minor": 0,
  "metadata": {
    "colab": {
      "name": "R-Intervalos de Confiança e Testes de Hipótese.ipynb",
      "provenance": [],
      "collapsed_sections": []
    },
    "kernelspec": {
      "name": "ir",
      "display_name": "R"
    }
  },
  "cells": [
    {
      "cell_type": "markdown",
      "metadata": {
        "id": "bIjjr5hjWWju",
        "colab_type": "text"
      },
      "source": [
        "# Intervalos de Confiança"
      ]
    },
    {
      "cell_type": "markdown",
      "metadata": {
        "id": "dTiY0amUWq5j",
        "colab_type": "text"
      },
      "source": [
        "## Introdução\n",
        "\n",
        "- Sabe-se que é possível inferir características de uma POPULAÇÃO a partir de uma AMOSTRA REPRESENTATIVA retirada dela\n",
        "- Entretanto, tirar conclusões de uma população a partir de uma amostra tem um PREÇO e envolve RISCOS:\n",
        "  - Preço:\n",
        "    - Estamos sujeitos a um **Erro Padrão**\n",
        "    - Devemos calcular **Intervalos de Confiança**\n",
        "  - Riscos:\n",
        "    - Dados ruins\n",
        "    - Diversos tipos de enviesamento\n",
        "- Portanto, sempre que se trabalha com amostras, deve-se esperar uma VARIAÇÃO que se deve, muitas vezes, ao acaso (se estamos trabalhando apenas com uma parte da população, devemos considerar sempre a presença de uma variação associada ao acaso)\n",
        "\n",
        "- O valor das amostras (conjunto de unidades amostrais) varia à medida que realizamos diversas amostragens. Nesse sentido, devemos medir o quanto esperar dessa variação entre diversas amostras (Intervalo de Confiança) e a quantidade de amostras que se enquadram nesse intervalo de variação (Nível de Confiança)"
      ]
    },
    {
      "cell_type": "markdown",
      "metadata": {
        "id": "soSM0mbybqNn",
        "colab_type": "text"
      },
      "source": [
        "## Intervalo de Confiança e Nível de Confiança\n",
        "\n",
        "- O INTERVALO DE CONFIANÇA é utilizado para estimar um PARÂMETRO da população (e.g. média, desvio padrão, mediana populacionais) MAIS OU MENOS uma MARGEM DE VARIAÇÃO estimada (NÃO é margem de ERRO!)\n",
        "  - e.g. O teor médio de Au em um depósito é de 1 ppm com uma \"margem de erro\" de +- 0.3 ppm. Ou seja, o intervalo de confiança é 0.7 a 1.3 ppm. Esse é um dos preços que pagamos por trabalhar com amostras\n",
        "- O NÍVEL DE CONFIANÇA é escolhido normalmente varia de 80 a 99%, embora, normalmente, seja utilizado 95%\n",
        "  - Suponhemos que temos um Nível de Confiança de 95%. Isso significa que, se uma pesquisa com os mesmos parâmetros for realizada 100 vezes, em 95% das vezes, os resultados estarão dentro do intervalo de confiança determinado, ou seja, dentro da margem de variação esperada\n",
        "\n",
        "- Fatores que afetam o INTERVALO DE CONFIANÇA (margem de variação):\n",
        "  - Tamanho da amostra (n)\n",
        "  - Nível de Confiança\n",
        "  - DP da população (medida de variabilidade da população)\n",
        "- O objetivo é sempre ter a MENOR margem de variação possível. Entretanto, isso acarreta algumas escolhas e consequências\n"
      ]
    },
    {
      "cell_type": "markdown",
      "metadata": {
        "id": "paqIe4bzfxAy",
        "colab_type": "text"
      },
      "source": [
        "## Nível de Confiança e Erro Padrão (Z*)\n",
        "\n",
        "- Cada percentual de confiança escolhido (i.e. 80%,90%,95%,99%,etc) está associado a um valor de ERRO PADRÃO (Z*) que é aplicado na fórmula do Intervalo de Confiança:\n",
        "\n",
        "% CONFIANÇA | Z*\n",
        "  - 80 | 1.28\n",
        "  - 90 | 1.64\n",
        "  - 95 | 1.96\n",
        "  - 98 | 2.33\n",
        "  - 99 | 2.58\n",
        "\n",
        "- Portanto, o percentual de confiança é diretamente proporcional ao valor de Z*\n",
        "- Quanto MAIOR é o nível de confiança escolhido, MENOR será a chance do resultado estar fora da margem de variação (intervalo de confiança). Entretanto, MAIOR será o intervalo de confiança\n",
        "- Quanto MENOR é o nível de confiança escolhido, MAIOR será a chance do resultado estar fora da margem de variação (intervalo de confiança). Entretanto, MENOR será o intervalo de confiança\n",
        "- Nesse sentido, escolhas que melhor se adequem a determinada situação devem ser feitas (ganha-se de um lado, mas perde-se do outro)"
      ]
    },
    {
      "cell_type": "markdown",
      "metadata": {
        "id": "0m3d8LnEi8tJ",
        "colab_type": "text"
      },
      "source": [
        "## Exemplo\n",
        "\n",
        "Entre 63 e 67% dos entrevistados pretender votar em Maria, com um nível de confiança de 95%.\n",
        "\n",
        "- Parâmetro --> intenção de voto (proporção)\n",
        "- Nível de confiança --> 95% (se executarmos a pesquisa 100 vezes, há 95% de chance do resultado se encontrar dentro do intervalo de confiança)\n",
        "- Intervalo de confiança --> 63% - 67%\n",
        "- Margem de variação (\"erro\") --> +- 2%\n",
        "- Erro Padrão (Z*) --> 1.96\n",
        "- Entrevistados (n) --> 1000"
      ]
    },
    {
      "cell_type": "markdown",
      "metadata": {
        "id": "cUqx-NCnlQM8",
        "colab_type": "text"
      },
      "source": [
        "## Fluxograma e Escolhas\n",
        "\n",
        "1. Escolhe-se o Nível de Confiança\n",
        "2. O Erro Padrão (Z*) associa-se ao nível de confiança\n",
        "3. Aplica-se Z* na fórmula para obter a margem de variação e, consequentemente, o intervalo de confiança\n",
        "\n",
        "Escolhas:\n",
        "- MAIOR (Nível de Confiança) | MAIOR (Erro Padrão) | MAIOR (range do Intervalo de Confiança)\n",
        "\n",
        "- MAIOR (n - número de unidades amostrais) | MENOR (Erro Padrão)\n",
        "\n",
        "Exemplo:\n",
        "\n",
        "- Nível de Confiança = 99% | Z* = 2.58 --> Margem de Variação = + - 8%\n",
        "- Nível de Confiança = 95% | Z* = 1.96 --> Margem de Variação = + - 5%\n",
        "\n",
        "Caso deseje-se **aumentar** o nível de confiança **sem aumentar** o Erro Padrão, deve-se **aumentar** o TAMANHO DA AMOSTRA (n). Deve-se avaliar se isso compensa, pois aumentar \"n\" custa $$$. Em alguns casos, o ganho no nível de confiança/erro padrão é tão pequeno que não vale a pena\n",
        "\n",
        "Fórmula do intervalo de confiança para a MÉDIA:\n",
        "\n",
        "<p align=\"center\">\n",
        "    <img src=\"https://www.statisticshowto.com/wp-content/uploads/2009/10/ci-for-the-mean-formula.png\"/>\n",
        "</p>\n",
        "\n"
      ]
    },
    {
      "cell_type": "markdown",
      "metadata": {
        "id": "VG7UecbfnoqR",
        "colab_type": "text"
      },
      "source": [
        "## Tipos de Intervalo de Confiança\n",
        "\n",
        "Existem diversos tipos de intervalo de confiança em função do tipo de parâmetro que se deseja estimar. Alguns deles são:\n",
        "\n",
        "- Intervalo de Confiança para a Média\n",
        "- Intervalo de Confiança para a Proporção"
      ]
    },
    {
      "cell_type": "markdown",
      "metadata": {
        "id": "wz42XYjlIOwS",
        "colab_type": "text"
      },
      "source": [
        "## Exemplo 1: Situação Inicial\n",
        "\n",
        "- Objetivo: estimar o salário médio de um Cientista de Dados\n",
        "- Número de entrevistados (tamanho da amostra - n): 100\n",
        "- Nível de Confiança: 95%\n",
        "- Desvio Padrão: 1100.00\n",
        "- Média: 5800.00\n",
        "- Valor de Z* : 1.96\n",
        "\n",
        "\n",
        "Jogando na fórmula acima, o resultado é:\n",
        "- **Margem de Variação (\"Erro\"): +- 215.60**\n",
        "- **Intervalo de Confiança: 5584.40 a 6015.60**\n",
        "\n",
        "Portanto:\n",
        "- O salário médio de um cientista de dados é entre 5584.40 e 6015.60, com um nível de confiança de 95%. Portanto, há apenas 5% de chance da pesquisa não condizer com a realidade do mercado."
      ]
    },
    {
      "cell_type": "markdown",
      "metadata": {
        "colab_type": "text",
        "id": "kKnpdTzGLAyn"
      },
      "source": [
        "## Exemplo 2: Aumentando o Nível de Confiança\n",
        "\n",
        "- Objetivo: estimar o salário médio de um Cientista de Dados\n",
        "- Número de entrevistados (tamanho da amostra - n): 100\n",
        "- Nível de Confiança: 99% (antes era 95%)\n",
        "- Desvio Padrão: 1100.00\n",
        "- Média: 5800.00\n",
        "- Valor de Z* : 2.58 (antes era 1.96)\n",
        "\n",
        "\n",
        "Jogando na fórmula acima, o resultado é:\n",
        "- **Margem de Variação (\"Erro\"): 283.8** (antes era 215.60)\n",
        "\n",
        "Portanto:\n",
        "- O salário médio de um cientista de dados é entre 5516.20 e 6083.80, com um nível de confiança de 99%\n",
        "- Com o aumento do nível de confiança, houve um AUMENTO de Z* e da margem de variação e, consequentemente, do intervalo de confiança "
      ]
    },
    {
      "cell_type": "markdown",
      "metadata": {
        "colab_type": "text",
        "id": "igzRUrJoM-mr"
      },
      "source": [
        "## Exemplo 3: Aumentando o Tamanho da Amostra (n)\n",
        "\n",
        "- Objetivo: estimar o salário médio de um Cientista de Dados\n",
        "- Número de entrevistados (tamanho da amostra - n): 1000 (antes era 100)\n",
        "- Nível de Confiança: 95% (situação inicial)\n",
        "- Desvio Padrão: 1100.00\n",
        "- Média: 5800.00\n",
        "- Valor de Z* : 1.96 (situação inicial)\n",
        "\n",
        "\n",
        "Jogando na fórmula acima, o resultado é:\n",
        "- **Margem de Variação (\"Erro\"): 68.18** (antes era 215.60)\n",
        "\n",
        "Portanto:\n",
        "- O salário médio de um cientista de dados é entre 5731.82 e 5868.18, com um nível de confiança de 95%\n",
        "- Com o aumento do tamanho d amostra, houve uma DIMINUIÇÃO da margem de variação e, consequentemente, do intervalo de confiança "
      ]
    },
    {
      "cell_type": "markdown",
      "metadata": {
        "id": "1G_iKQVoNI0P",
        "colab_type": "text"
      },
      "source": [
        "## Troca entre Margem de Variação, Intervalo de Confiança e Tamanho da Amostra\n",
        "\n",
        "- AUMENTA (nível de confiança), AUMENTA (chances da amostra de estar no intervalo de confiança), AUMENTA (margem de variação e intervalo de confiança)\n",
        "- AUMENTA (tamanho da amostra), DIMINUI (chance do efeito acaso), DIMINUI (margem de variação e intervalo de confiança)\n",
        "\n",
        "- Fórmula para intervalo de confiaça para a MÉDIA:\n",
        "\n",
        "<p align=\"center\">\n",
        "    <img src=\"https://www.statisticshowto.com/wp-content/uploads/2009/10/ci-for-the-mean-formula.png\"/>\n",
        "</p>"
      ]
    },
    {
      "cell_type": "markdown",
      "metadata": {
        "id": "h7e-jg5uPlMK",
        "colab_type": "text"
      },
      "source": [
        "# Teste de Hipóteses"
      ]
    },
    {
      "cell_type": "markdown",
      "metadata": {
        "id": "hBiEQlIZPq0m",
        "colab_type": "text"
      },
      "source": [
        "## Introdução\n",
        "\n",
        "- O Teste de Hipótese é uma importante área da estatística que é utilizada para CONFIRMAR ou NEGAR/REJEITAR uma PREMISSA, usando uma amostra (se trabalha-se com população, não é necessário realizar um Teste de Hipótese)\n",
        "- Essa PREMISSA se relaciona a um determinado PARÂMETRO (e.g. média, proporção, etc)"
      ]
    },
    {
      "cell_type": "markdown",
      "metadata": {
        "id": "XDtqW6DZQZXS",
        "colab_type": "text"
      },
      "source": [
        "## Exemplo\n",
        "\n",
        "- Foi realizada uma pesquisa anterior, em que foi constatado que 56% dos brasileiros não gostam de estatística\n",
        "- Entretanto, realizei um estudo a partir de uma amostra para provar que esse informação está errada. Suponha que o resultado foi que, na verdade, 52% dos brasileiros não gostam de estatística\n",
        "- Do ponto de vista matemático, eu estava certo, i.e. de fato 52% é diferente de 56%\n",
        "- Entretanto, deve-se lembrar que estamos trabalhando com amostra (sempre sujeitas à variações oriundas do efeito acaso) e devemos provar do ponto de vista ESTATÍSTICO que essa diferença é, de fato, relevante. Para isso, realizamos um Teste de Hipóteses"
      ]
    },
    {
      "cell_type": "markdown",
      "metadata": {
        "id": "tkSpmW6hSvVC",
        "colab_type": "text"
      },
      "source": [
        "## Convenções - Parte I\n",
        "\n",
        "- Hipótese Nula (H0) --> ALEGAÇÃO que se deseja testar (e.g. a média de teores de Au de um depósito é de 1ppm / 56% dos brasileiros não gostam de estatística)\n",
        "- Presume-se, inicialmente, que H0 é VERDADEIRA, a não ser que existam evidências contrárias a isso\n",
        "- Hipótese Alternativa (Ha) --> HIPÓTESE que se deseja testar (e.g. a média de teores de Au de um depósito é != de 1ppm, ou a média é > 1ppm, ou a média é < 1ppm / 52% dos brasileiros não gostam de estatística)\n",
        "- A ideia é tentar provar que existem mais evidências a favor da Hipótese Alternativa (Ha) do que a favor da Hipótese Nula (H0)"
      ]
    },
    {
      "cell_type": "markdown",
      "metadata": {
        "id": "3iTPMhpHUxF-",
        "colab_type": "text"
      },
      "source": [
        "## Convenções - Parte II\n",
        "\n",
        "- Score Padrão --> erros padrão que seus dados estão abaixo ou acima da média. Nesse sentido, os dados devem ser convertidos em Score Padrão (Média / resultado do Erro Padrão). Nessa fórmula, utiliza-se a H0 como média\n",
        "- Estatística de Teste --> versão PADRONIZADA de sua estatística\n",
        "- Olha-se na estatística padronizada de Z. Se a Estatística de Teste estiver próxima de zero ou num intervalo onde os resultados devem estar, então NÃO se pode REJEITAR H0\n",
        "- Caso contrário, se a Estatística de Teste tiver PRÓXIMA À CAUDA, pode-se REJEITAR H0"
      ]
    },
    {
      "cell_type": "markdown",
      "metadata": {
        "id": "LPIqBuP5YVVi",
        "colab_type": "text"
      },
      "source": [
        "## Alfa e Valor-p\n",
        "\n",
        "- Alfa --> valor que deve ser escolhido para aplicar no Teste de Hipótese. Valores possíveis para serem escolhidos:\n",
        "  - 0.05 (mais comum)\n",
        "  - 0.01\n",
        "  - obs.: as consequências da escolha de cada valor de Alfa serão abordadas à frente\n",
        "\n",
        "- Valor-p --> o objetivo do Teste de Hipóteses é encontrar o \"Valor-p\". Aplica-se uma fórmula e chega-se a um Valor-p:\n",
        "  - Valor-p >= Alfa --> não rejeita H0 (não há elementos/argumentos para rejeitá-la)\n",
        "  - Valor-p <= Alfa --> rejeita-se H0 (há evidências fortes à favor de Ha)\n",
        "  - Valor-p ~ Alfa --> muitos autores consideram que o resultado é INCONCLUSIVO"
      ]
    },
    {
      "cell_type": "markdown",
      "metadata": {
        "id": "LZWvr1AIaLMR",
        "colab_type": "text"
      },
      "source": [
        "## Etapas de um Teste de Hipóteses\n",
        "\n",
        "1. Define-se o tamanho da amostra (n)\n",
        "2. Coleta-se os dados \n",
        "3. Calcula-se a média e o DP da amostra\n",
        "4. Define-se quais serão as 2 hipóteses (H0 e Ha)\n",
        "5. Define-se o Alfa que será utilizado\n",
        "6. Padroniza-se os dados para gerar a Estatística de Teste\n",
        "7. Encontra-se o Valor-p na Tabela Z\n",
        "8. Compara-se o valor de Alfa com o Valor-p\n",
        "9. Emite-se o veredito (foram encontrados evidências suficientes para descartar H0 ou não)"
      ]
    },
    {
      "cell_type": "markdown",
      "metadata": {
        "id": "-8E7nIpMbWvp",
        "colab_type": "text"
      },
      "source": [
        "## Fórmulas para a Estatísticas de Teste para a Média e Proporção\n",
        "\n",
        "<p align=\"center\">\n",
        "    <img src=\"https://images.squarespace-cdn.com/content/v1/533db07de4b0d9f7ba7f1e77/1558622510205-DVBLVVEKYUBJ018FU1O1/ke17ZwdGBToddI8pDm48kPnjXTwVffU2Hog79TTdWcEUqsxRUqqbr1mOJYKfIPR7LoDQ9mXPOjoJoqy81S2I8N_N4V1vUb5AoIIIbLZhVYxCRW4BPu10St3TBAUQYVKcKhqIj3mP5ZarQLlOjhnu-u8uQm1ZlxiaHyN51XeW_Y6BYMnEfUK_sPBjSJBvSzFH/formulas+for+the+test+statistics+for+populations+means+and+proportions\"/>\n",
        "</p>"
      ]
    },
    {
      "cell_type": "markdown",
      "metadata": {
        "id": "NL8oHoqnnPXX",
        "colab_type": "text"
      },
      "source": [
        "## Exemplo 1: Teor Médio de Cr\n",
        "\n",
        "- Um estudo afirma que o teor médio de Cr em um depósito é de 22%\n",
        "- n = 100 unidades amostrais\n",
        "- média = 23\n",
        "- DP = 4\n",
        "- Hipóteses:\n",
        "  - H0 --> média = 22%\n",
        "  - Ha --> média > 22%\n",
        "- Alfa = 0.05\n",
        "- Joga-se os dados acima na primeira fórmula do quadro acima para obter o valor de Z:\n",
        "  - X = 23%\n",
        "  - U0 (H0) = 22%\n",
        "  - sigma (DP) = 4\n",
        "  - n = 100\n",
        "  - O valor encontrado foi: **Z = 2.5**\n",
        "- Procura-se 2.5 na tabela Z\n",
        "- O valor encontrado na tabela é **0.9938**\n",
        "- Como \"Ha\" é uma hipótese do tipo MAIOR QUE (X > x), devemos fazer (1 - 0.9938) para obter o Valor-P\n",
        "  - Valor-p = 0.0062\n",
        "  - OBS.: caso \"Ha\" fosse uma hipótese do tipo MENOR QUE (X < x), o Valor-p seria diretamente encontrado na tabela (não seria necessário subtrai-lo de 1)\n",
        "- Compara-se os valores Alfa e p:\n",
        "  - Valor-p < Alfa <--> 0.0062 < 0.05\n",
        "- Como **Valor-p < Alfa**, podemos REJEITAR H0\n",
        "- Portanto, a partir da amostra, há fortes evidências que, na verdade, o **teor médio de Cr no depósito é MAIOR que 22%** e não 22% como afirmado pelo estudo\n",
        "\n"
      ]
    },
    {
      "cell_type": "markdown",
      "metadata": {
        "id": "XqB_Ms0jszF6",
        "colab_type": "text"
      },
      "source": [
        "## Exemplo 2: Pesquisa de Intenção de Votos\n",
        "\n",
        "- O Datafolha afirma que 75% dos eleitores pretendem votar na candidata Maria nas eleições\n",
        "- Dados:\n",
        "  - n = 100 entrevistados\n",
        "  - p (proporção) = 77% dos entrevistados votarão em Maria (77/100)\n",
        "- Hipóteses:\n",
        "  - H0 --> proporção = 75%\n",
        "  - Ha --> proporção < 75%\n",
        "- Alfa = 0.05\n",
        "- Joga-se os dados acima na última fórmula do quadro acima para obter o valor de Z:\n",
        "  - p (circunflexo) = 77% (proporção calculada a partir da nova amostra realizada)\n",
        "  - p0 (H0) = 75%\n",
        "  - n = 100\n",
        "  - O valor encontrado foi: **Z = 0.461**\n",
        "- Procura-se 0.461 na tabela Z\n",
        "- O valor encontrado na tabela é **0.6772**\n",
        "- Como \"Ha\" é uma hipótese do tipo MENOR QUE (X < x), o Valor-p é obtido diretamente a partir da leitura da tabela Z:\n",
        "  - Valor-p = 0.6772\n",
        "- Compara-se os valores Alfa e p:\n",
        "  - Valor-p > Alfa <--> 0.6772 > 0.05\n",
        "- Como **Valor-p > Alfa**, NÃO podemos REJEITAR H0\n",
        "- Portanto, a partir da amostra, não há evidências suficientes para rejeitar a Hipótese Nula de que 75% dos eleitores pretendem votar em Maria"
      ]
    },
    {
      "cell_type": "markdown",
      "metadata": {
        "id": "RQKiQzF_wAyk",
        "colab_type": "text"
      },
      "source": [
        "## Tipos de Erros do Teste de Hipótese\n",
        "\n",
        "- ERRO TIPO I: \n",
        "  - Rejeitar H0 quando não poderia fazê-lo\n",
        "  - A chance desse erro ocorrer é igual ao valor de Alfa escolhido\n",
        "- ERRO TIPO II:\n",
        "  - NÃO rejeitar H0 quando deveria-se tê-lo feito\n",
        "  - A chance desse erro ocorrer depende do tamanho da amostra (n)\n",
        "- Ambos os tipos de erro ocorrem, pois trabalha-se com AMOSTRA e amostras sempre estão sujeitas a variaçóes (EFEITO ACASO)"
      ]
    },
    {
      "cell_type": "markdown",
      "metadata": {
        "id": "BLlwvwLJw_DC",
        "colab_type": "text"
      },
      "source": [
        "## Consequências/Trocas no Teste de Hipótese\n",
        "\n",
        "- DIMINUI (Alfa) | DIMINUI (chance do Erro Tipo I) | DIMINUI (chance de rejeitar H0) | AUMENTA (necessidade de aumentar \"n\" para poder rejeitar H0) | AUMENTA (chance do Erro Tipo II)\n",
        "\n",
        "- AUMENTA (Alfa) | AUMENTA (chance do Erro Tipo I) | AUMENTA (chance de rejeitar H0) | DIMINUI (necessidade de aumentar \"n\" para poder rejeitar H0) | DIMINUI (chance do Erro Tipo II)\n",
        "\n",
        "Portanto, o IDEAL seria:\n",
        "  - Tamanho de amostra (n) GRANDE (nem sempre é possível, pois custa caro e muitas vezes é inviável)\n",
        "  - Alfa PEQUENO"
      ]
    }
  ]
}